{
  "nbformat": 4,
  "nbformat_minor": 0,
  "metadata": {
    "colab": {
      "provenance": [],
      "authorship_tag": "ABX9TyOpyBWf4JoIn7JS24PhxjSy",
      "include_colab_link": true
    },
    "kernelspec": {
      "name": "python3",
      "display_name": "Python 3"
    },
    "language_info": {
      "name": "python"
    }
  },
  "cells": [
    {
      "cell_type": "markdown",
      "metadata": {
        "id": "view-in-github",
        "colab_type": "text"
      },
      "source": [
        "<a href=\"https://colab.research.google.com/github/RichardKameri/tydata/blob/main/pandasexe.ipynb\" target=\"_parent\"><img src=\"https://colab.research.google.com/assets/colab-badge.svg\" alt=\"Open In Colab\"/></a>"
      ]
    },
    {
      "cell_type": "code",
      "execution_count": 3,
      "metadata": {
        "id": "xen5gCGxhvJU"
      },
      "outputs": [],
      "source": [
        "import pandas as pn"
      ]
    },
    {
      "cell_type": "markdown",
      "source": [
        "CREATE A DATA  DICTIONARY(A DATA FRAME)"
      ],
      "metadata": {
        "id": "LbfQ2LDwlQMt"
      }
    },
    {
      "cell_type": "code",
      "source": [
        "import pandas as pn\n",
        "df=pn.DataFrame()\n",
        "print(df)\n"
      ],
      "metadata": {
        "colab": {
          "base_uri": "https://localhost:8080/"
        },
        "id": "EwnoXT30lXu3",
        "outputId": "7663f0d0-019b-4822-ae76-b88db5b1e414"
      },
      "execution_count": 4,
      "outputs": [
        {
          "output_type": "stream",
          "name": "stdout",
          "text": [
            "Empty DataFrame\n",
            "Columns: []\n",
            "Index: []\n"
          ]
        }
      ]
    },
    {
      "cell_type": "code",
      "source": [
        "import pandas as pn\n",
        "df=pn.DataFrame()\n",
        "print(df)"
      ],
      "metadata": {
        "colab": {
          "base_uri": "https://localhost:8080/"
        },
        "id": "sLgnQNe5m2iy",
        "outputId": "98d529a9-ee17-440f-c0e2-944239ae476c"
      },
      "execution_count": 5,
      "outputs": [
        {
          "output_type": "stream",
          "name": "stdout",
          "text": [
            "Empty DataFrame\n",
            "Columns: []\n",
            "Index: []\n"
          ]
        }
      ]
    },
    {
      "cell_type": "code",
      "source": [
        "# data\n",
        "data = {\n",
        "    'evolution': ['Ivysaur', 'Charmeleon', 'Wartortle', 'Metapod'],\n",
        "    'hp': [45, 39, 44, 45],\n",
        "    'name': ['Bulbasaur', 'Charmander', 'Squirtle', 'Caterpie'],\n",
        "    'pokedex': ['yes', 'no', 'yes', 'no'],\n",
        "    'type': ['grass', 'fire', 'water', 'bug']\n",
        "}\n"
      ],
      "metadata": {
        "id": "yMLE3kyqq31g"
      },
      "execution_count": 8,
      "outputs": []
    },
    {
      "cell_type": "code",
      "source": [
        "df=pn.DataFrame(data)\n",
        "print(df)"
      ],
      "metadata": {
        "colab": {
          "base_uri": "https://localhost:8080/"
        },
        "id": "FfQg0QTVudk5",
        "outputId": "9fb40d1a-11b8-4c21-af7b-9e3c7307fa1a"
      },
      "execution_count": 9,
      "outputs": [
        {
          "output_type": "stream",
          "name": "stdout",
          "text": [
            "    evolution  hp        name pokedex   type\n",
            "0     Ivysaur  45   Bulbasaur     yes  grass\n",
            "1  Charmeleon  39  Charmander      no   fire\n",
            "2   Wartortle  44    Squirtle     yes  water\n",
            "3     Metapod  45    Caterpie      no    bug\n"
          ]
        }
      ]
    },
    {
      "cell_type": "code",
      "source": [
        "df.to_csv('pokemon.csv')"
      ],
      "metadata": {
        "id": "R8-Mdty7ukCn"
      },
      "execution_count": 10,
      "outputs": []
    },
    {
      "cell_type": "markdown",
      "source": [
        "PLACE THE  ORDER OF COLUMNS AS NAME,TYPE,HP,EVOLUTION,POKEDEX"
      ],
      "metadata": {
        "id": "HNNeZmqCvAyO"
      }
    },
    {
      "cell_type": "code",
      "source": [
        "import pandas as pn\n",
        "df=pn.DataFrame(data)\n",
        "df=df[['name','type','hp','evolution','pokedex']]\n",
        "print(df)"
      ],
      "metadata": {
        "colab": {
          "base_uri": "https://localhost:8080/"
        },
        "id": "oBmJgULkvR2K",
        "outputId": "cfe8419d-127b-4b6f-ec09-438f3322d735"
      },
      "execution_count": 11,
      "outputs": [
        {
          "output_type": "stream",
          "name": "stdout",
          "text": [
            "         name   type  hp   evolution pokedex\n",
            "0   Bulbasaur  grass  45     Ivysaur     yes\n",
            "1  Charmander   fire  39  Charmeleon      no\n",
            "2    Squirtle  water  44   Wartortle     yes\n",
            "3    Caterpie    bug  45     Metapod      no\n"
          ]
        }
      ]
    },
    {
      "cell_type": "markdown",
      "source": [
        "ADD ANOTHER COLUMN CALLED PLACE AND INSERT GENDER"
      ],
      "metadata": {
        "id": "aMTT9ZX3vaBI"
      }
    },
    {
      "cell_type": "code",
      "source": [
        "import pandas as pn\n",
        "df=pn.DataFrame(data)\n",
        "df['place']=['park','street','lake','forest']\n",
        "df['gender']=['femail','male','femail','male']\n",
        "print(df)"
      ],
      "metadata": {
        "colab": {
          "base_uri": "https://localhost:8080/"
        },
        "id": "gGxCzZ0wvrJC",
        "outputId": "0fc044c6-7921-4af5-e298-49844092122f"
      },
      "execution_count": 12,
      "outputs": [
        {
          "output_type": "stream",
          "name": "stdout",
          "text": [
            "    evolution  hp        name pokedex   type   place  gender\n",
            "0     Ivysaur  45   Bulbasaur     yes  grass    park  femail\n",
            "1  Charmeleon  39  Charmander      no   fire  street    male\n",
            "2   Wartortle  44    Squirtle     yes  water    lake  femail\n",
            "3     Metapod  45    Caterpie      no    bug  forest    male\n"
          ]
        }
      ]
    },
    {
      "cell_type": "markdown",
      "source": [
        "PRESENT THE TYPE OF EACH COLUMN"
      ],
      "metadata": {
        "id": "ttZTCpFbv2cC"
      }
    },
    {
      "cell_type": "code",
      "source": [
        "import pandas as pn\n",
        "df=pn.DataFrame(data)\n",
        "df=df[['name','type','hp','evolution','pokedex']]\n",
        "print(df)\n",
        "print(df.dtypes)"
      ],
      "metadata": {
        "colab": {
          "base_uri": "https://localhost:8080/"
        },
        "id": "zPplqyjUv7lG",
        "outputId": "fbc1c824-5145-4090-ed30-9de7bc9922f6"
      },
      "execution_count": 13,
      "outputs": [
        {
          "output_type": "stream",
          "name": "stdout",
          "text": [
            "         name   type  hp   evolution pokedex\n",
            "0   Bulbasaur  grass  45     Ivysaur     yes\n",
            "1  Charmander   fire  39  Charmeleon      no\n",
            "2    Squirtle  water  44   Wartortle     yes\n",
            "3    Caterpie    bug  45     Metapod      no\n",
            "name         object\n",
            "type         object\n",
            "hp            int64\n",
            "evolution    object\n",
            "pokedex      object\n",
            "dtype: object\n"
          ]
        }
      ]
    }
  ]
}