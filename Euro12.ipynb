{
  "nbformat": 4,
  "nbformat_minor": 0,
  "metadata": {
    "colab": {
      "provenance": [],
      "authorship_tag": "ABX9TyMU0xhh4qsFUYzy0dgcHy1e",
      "include_colab_link": true
    },
    "kernelspec": {
      "name": "python3",
      "display_name": "Python 3"
    },
    "language_info": {
      "name": "python"
    }
  },
  "cells": [
    {
      "cell_type": "markdown",
      "metadata": {
        "id": "view-in-github",
        "colab_type": "text"
      },
      "source": [
        "<a href=\"https://colab.research.google.com/github/RichardKameri/tydata/blob/main/Euro12.ipynb\" target=\"_parent\"><img src=\"https://colab.research.google.com/assets/colab-badge.svg\" alt=\"Open In Colab\"/></a>"
      ]
    },
    {
      "cell_type": "code",
      "execution_count": 1,
      "metadata": {
        "id": "Dj78FXEiQzlp"
      },
      "outputs": [],
      "source": [
        "import numpy as np\n",
        "import pandas as pd\n",
        "import matplotlib.pyplot as plt\n",
        "import seaborn as sns"
      ]
    },
    {
      "cell_type": "markdown",
      "source": [
        "READ AND IMPORT THE DATASET\n"
      ],
      "metadata": {
        "id": "bY842pydRJzw"
      }
    },
    {
      "cell_type": "code",
      "source": [
        "df = pd.read_csv('/content/Euro_2012_stats_TEAM.csv')"
      ],
      "metadata": {
        "id": "7rQV-OF4RSiU"
      },
      "execution_count": 6,
      "outputs": []
    },
    {
      "cell_type": "code",
      "source": [
        "df.describe()"
      ],
      "metadata": {
        "colab": {
          "base_uri": "https://localhost:8080/",
          "height": 402
        },
        "id": "rlzMQadeRpcI",
        "outputId": "9debc246-1772-4582-892f-d69fb6d1b872"
      },
      "execution_count": 7,
      "outputs": [
        {
          "output_type": "execute_result",
          "data": {
            "text/plain": [
              "           Goals  Shots on target  Shots off target  \\\n",
              "count  16.000000        16.000000         16.000000   \n",
              "mean    4.750000        17.125000         24.937500   \n",
              "std     2.886751        10.582218         10.680005   \n",
              "min     1.000000         7.000000         10.000000   \n",
              "25%     2.750000         9.750000         18.000000   \n",
              "50%     4.500000        13.000000         23.500000   \n",
              "75%     5.250000        22.000000         32.250000   \n",
              "max    12.000000        42.000000         45.000000   \n",
              "\n",
              "       Total shots (inc. Blocked)  Hit Woodwork  Penalty goals  \\\n",
              "count                   16.000000     16.000000      16.000000   \n",
              "mean                    54.937500      1.250000       0.187500   \n",
              "std                     26.065223      1.612452       0.403113   \n",
              "min                     27.000000      0.000000       0.000000   \n",
              "25%                     36.500000      0.000000       0.000000   \n",
              "50%                     44.000000      1.000000       0.000000   \n",
              "75%                     68.750000      2.000000       0.000000   \n",
              "max                    110.000000      6.000000       1.000000   \n",
              "\n",
              "       Penalties not scored  Headed goals       Passes  Passes completed  ...  \\\n",
              "count               16.0000     16.000000    16.000000         16.000000  ...   \n",
              "mean                 0.0625      1.375000  1763.375000       1467.375000  ...   \n",
              "std                  0.2500      1.024695   906.177898        827.580721  ...   \n",
              "min                  0.0000      0.000000   851.000000        606.000000  ...   \n",
              "25%                  0.0000      0.750000  1190.750000        951.500000  ...   \n",
              "50%                  0.0000      1.500000  1522.000000       1211.500000  ...   \n",
              "75%                  0.0000      2.000000  1934.750000       1546.500000  ...   \n",
              "max                  1.0000      3.000000  4317.000000       3820.000000  ...   \n",
              "\n",
              "       Goals conceded  Saves made   Fouls Won  Fouls Conceded   Offsides  \\\n",
              "count       16.000000   16.000000   16.000000       16.000000  16.000000   \n",
              "mean         4.750000   12.125000   52.937500       55.625000   8.125000   \n",
              "std          1.983263    4.573474   22.915697       18.973227   4.910872   \n",
              "min          1.000000    6.000000   25.000000       30.000000   2.000000   \n",
              "25%          3.000000    9.750000   35.750000       44.500000   4.000000   \n",
              "50%          5.000000   11.000000   45.500000       51.000000   7.500000   \n",
              "75%          6.000000   13.500000   64.000000       64.750000  11.250000   \n",
              "max          9.000000   22.000000  102.000000       90.000000  19.000000   \n",
              "\n",
              "       Yellow Cards  Red Cards   Subs on  Subs off  Players Used  \n",
              "count     16.000000  16.000000  16.00000  16.00000     16.000000  \n",
              "mean       7.437500   0.187500  10.87500  10.87500     17.250000  \n",
              "std        3.265348   0.403113   3.53789   3.53789      1.527525  \n",
              "min        4.000000   0.000000   7.00000   7.00000     15.000000  \n",
              "25%        5.000000   0.000000   8.50000   8.50000     16.000000  \n",
              "50%        6.500000   0.000000  10.50000  10.50000     17.000000  \n",
              "75%        9.000000   0.000000  12.50000  12.50000     18.250000  \n",
              "max       16.000000   1.000000  18.00000  18.00000     20.000000  \n",
              "\n",
              "[8 rows x 30 columns]"
            ],
            "text/html": [
              "\n",
              "  <div id=\"df-dec93c56-dbb9-4cea-b88d-766778616635\" class=\"colab-df-container\">\n",
              "    <div>\n",
              "<style scoped>\n",
              "    .dataframe tbody tr th:only-of-type {\n",
              "        vertical-align: middle;\n",
              "    }\n",
              "\n",
              "    .dataframe tbody tr th {\n",
              "        vertical-align: top;\n",
              "    }\n",
              "\n",
              "    .dataframe thead th {\n",
              "        text-align: right;\n",
              "    }\n",
              "</style>\n",
              "<table border=\"1\" class=\"dataframe\">\n",
              "  <thead>\n",
              "    <tr style=\"text-align: right;\">\n",
              "      <th></th>\n",
              "      <th>Goals</th>\n",
              "      <th>Shots on target</th>\n",
              "      <th>Shots off target</th>\n",
              "      <th>Total shots (inc. Blocked)</th>\n",
              "      <th>Hit Woodwork</th>\n",
              "      <th>Penalty goals</th>\n",
              "      <th>Penalties not scored</th>\n",
              "      <th>Headed goals</th>\n",
              "      <th>Passes</th>\n",
              "      <th>Passes completed</th>\n",
              "      <th>...</th>\n",
              "      <th>Goals conceded</th>\n",
              "      <th>Saves made</th>\n",
              "      <th>Fouls Won</th>\n",
              "      <th>Fouls Conceded</th>\n",
              "      <th>Offsides</th>\n",
              "      <th>Yellow Cards</th>\n",
              "      <th>Red Cards</th>\n",
              "      <th>Subs on</th>\n",
              "      <th>Subs off</th>\n",
              "      <th>Players Used</th>\n",
              "    </tr>\n",
              "  </thead>\n",
              "  <tbody>\n",
              "    <tr>\n",
              "      <th>count</th>\n",
              "      <td>16.000000</td>\n",
              "      <td>16.000000</td>\n",
              "      <td>16.000000</td>\n",
              "      <td>16.000000</td>\n",
              "      <td>16.000000</td>\n",
              "      <td>16.000000</td>\n",
              "      <td>16.0000</td>\n",
              "      <td>16.000000</td>\n",
              "      <td>16.000000</td>\n",
              "      <td>16.000000</td>\n",
              "      <td>...</td>\n",
              "      <td>16.000000</td>\n",
              "      <td>16.000000</td>\n",
              "      <td>16.000000</td>\n",
              "      <td>16.000000</td>\n",
              "      <td>16.000000</td>\n",
              "      <td>16.000000</td>\n",
              "      <td>16.000000</td>\n",
              "      <td>16.00000</td>\n",
              "      <td>16.00000</td>\n",
              "      <td>16.000000</td>\n",
              "    </tr>\n",
              "    <tr>\n",
              "      <th>mean</th>\n",
              "      <td>4.750000</td>\n",
              "      <td>17.125000</td>\n",
              "      <td>24.937500</td>\n",
              "      <td>54.937500</td>\n",
              "      <td>1.250000</td>\n",
              "      <td>0.187500</td>\n",
              "      <td>0.0625</td>\n",
              "      <td>1.375000</td>\n",
              "      <td>1763.375000</td>\n",
              "      <td>1467.375000</td>\n",
              "      <td>...</td>\n",
              "      <td>4.750000</td>\n",
              "      <td>12.125000</td>\n",
              "      <td>52.937500</td>\n",
              "      <td>55.625000</td>\n",
              "      <td>8.125000</td>\n",
              "      <td>7.437500</td>\n",
              "      <td>0.187500</td>\n",
              "      <td>10.87500</td>\n",
              "      <td>10.87500</td>\n",
              "      <td>17.250000</td>\n",
              "    </tr>\n",
              "    <tr>\n",
              "      <th>std</th>\n",
              "      <td>2.886751</td>\n",
              "      <td>10.582218</td>\n",
              "      <td>10.680005</td>\n",
              "      <td>26.065223</td>\n",
              "      <td>1.612452</td>\n",
              "      <td>0.403113</td>\n",
              "      <td>0.2500</td>\n",
              "      <td>1.024695</td>\n",
              "      <td>906.177898</td>\n",
              "      <td>827.580721</td>\n",
              "      <td>...</td>\n",
              "      <td>1.983263</td>\n",
              "      <td>4.573474</td>\n",
              "      <td>22.915697</td>\n",
              "      <td>18.973227</td>\n",
              "      <td>4.910872</td>\n",
              "      <td>3.265348</td>\n",
              "      <td>0.403113</td>\n",
              "      <td>3.53789</td>\n",
              "      <td>3.53789</td>\n",
              "      <td>1.527525</td>\n",
              "    </tr>\n",
              "    <tr>\n",
              "      <th>min</th>\n",
              "      <td>1.000000</td>\n",
              "      <td>7.000000</td>\n",
              "      <td>10.000000</td>\n",
              "      <td>27.000000</td>\n",
              "      <td>0.000000</td>\n",
              "      <td>0.000000</td>\n",
              "      <td>0.0000</td>\n",
              "      <td>0.000000</td>\n",
              "      <td>851.000000</td>\n",
              "      <td>606.000000</td>\n",
              "      <td>...</td>\n",
              "      <td>1.000000</td>\n",
              "      <td>6.000000</td>\n",
              "      <td>25.000000</td>\n",
              "      <td>30.000000</td>\n",
              "      <td>2.000000</td>\n",
              "      <td>4.000000</td>\n",
              "      <td>0.000000</td>\n",
              "      <td>7.00000</td>\n",
              "      <td>7.00000</td>\n",
              "      <td>15.000000</td>\n",
              "    </tr>\n",
              "    <tr>\n",
              "      <th>25%</th>\n",
              "      <td>2.750000</td>\n",
              "      <td>9.750000</td>\n",
              "      <td>18.000000</td>\n",
              "      <td>36.500000</td>\n",
              "      <td>0.000000</td>\n",
              "      <td>0.000000</td>\n",
              "      <td>0.0000</td>\n",
              "      <td>0.750000</td>\n",
              "      <td>1190.750000</td>\n",
              "      <td>951.500000</td>\n",
              "      <td>...</td>\n",
              "      <td>3.000000</td>\n",
              "      <td>9.750000</td>\n",
              "      <td>35.750000</td>\n",
              "      <td>44.500000</td>\n",
              "      <td>4.000000</td>\n",
              "      <td>5.000000</td>\n",
              "      <td>0.000000</td>\n",
              "      <td>8.50000</td>\n",
              "      <td>8.50000</td>\n",
              "      <td>16.000000</td>\n",
              "    </tr>\n",
              "    <tr>\n",
              "      <th>50%</th>\n",
              "      <td>4.500000</td>\n",
              "      <td>13.000000</td>\n",
              "      <td>23.500000</td>\n",
              "      <td>44.000000</td>\n",
              "      <td>1.000000</td>\n",
              "      <td>0.000000</td>\n",
              "      <td>0.0000</td>\n",
              "      <td>1.500000</td>\n",
              "      <td>1522.000000</td>\n",
              "      <td>1211.500000</td>\n",
              "      <td>...</td>\n",
              "      <td>5.000000</td>\n",
              "      <td>11.000000</td>\n",
              "      <td>45.500000</td>\n",
              "      <td>51.000000</td>\n",
              "      <td>7.500000</td>\n",
              "      <td>6.500000</td>\n",
              "      <td>0.000000</td>\n",
              "      <td>10.50000</td>\n",
              "      <td>10.50000</td>\n",
              "      <td>17.000000</td>\n",
              "    </tr>\n",
              "    <tr>\n",
              "      <th>75%</th>\n",
              "      <td>5.250000</td>\n",
              "      <td>22.000000</td>\n",
              "      <td>32.250000</td>\n",
              "      <td>68.750000</td>\n",
              "      <td>2.000000</td>\n",
              "      <td>0.000000</td>\n",
              "      <td>0.0000</td>\n",
              "      <td>2.000000</td>\n",
              "      <td>1934.750000</td>\n",
              "      <td>1546.500000</td>\n",
              "      <td>...</td>\n",
              "      <td>6.000000</td>\n",
              "      <td>13.500000</td>\n",
              "      <td>64.000000</td>\n",
              "      <td>64.750000</td>\n",
              "      <td>11.250000</td>\n",
              "      <td>9.000000</td>\n",
              "      <td>0.000000</td>\n",
              "      <td>12.50000</td>\n",
              "      <td>12.50000</td>\n",
              "      <td>18.250000</td>\n",
              "    </tr>\n",
              "    <tr>\n",
              "      <th>max</th>\n",
              "      <td>12.000000</td>\n",
              "      <td>42.000000</td>\n",
              "      <td>45.000000</td>\n",
              "      <td>110.000000</td>\n",
              "      <td>6.000000</td>\n",
              "      <td>1.000000</td>\n",
              "      <td>1.0000</td>\n",
              "      <td>3.000000</td>\n",
              "      <td>4317.000000</td>\n",
              "      <td>3820.000000</td>\n",
              "      <td>...</td>\n",
              "      <td>9.000000</td>\n",
              "      <td>22.000000</td>\n",
              "      <td>102.000000</td>\n",
              "      <td>90.000000</td>\n",
              "      <td>19.000000</td>\n",
              "      <td>16.000000</td>\n",
              "      <td>1.000000</td>\n",
              "      <td>18.00000</td>\n",
              "      <td>18.00000</td>\n",
              "      <td>20.000000</td>\n",
              "    </tr>\n",
              "  </tbody>\n",
              "</table>\n",
              "<p>8 rows × 30 columns</p>\n",
              "</div>\n",
              "    <div class=\"colab-df-buttons\">\n",
              "\n",
              "  <div class=\"colab-df-container\">\n",
              "    <button class=\"colab-df-convert\" onclick=\"convertToInteractive('df-dec93c56-dbb9-4cea-b88d-766778616635')\"\n",
              "            title=\"Convert this dataframe to an interactive table.\"\n",
              "            style=\"display:none;\">\n",
              "\n",
              "  <svg xmlns=\"http://www.w3.org/2000/svg\" height=\"24px\" viewBox=\"0 -960 960 960\">\n",
              "    <path d=\"M120-120v-720h720v720H120Zm60-500h600v-160H180v160Zm220 220h160v-160H400v160Zm0 220h160v-160H400v160ZM180-400h160v-160H180v160Zm440 0h160v-160H620v160ZM180-180h160v-160H180v160Zm440 0h160v-160H620v160Z\"/>\n",
              "  </svg>\n",
              "    </button>\n",
              "\n",
              "  <style>\n",
              "    .colab-df-container {\n",
              "      display:flex;\n",
              "      gap: 12px;\n",
              "    }\n",
              "\n",
              "    .colab-df-convert {\n",
              "      background-color: #E8F0FE;\n",
              "      border: none;\n",
              "      border-radius: 50%;\n",
              "      cursor: pointer;\n",
              "      display: none;\n",
              "      fill: #1967D2;\n",
              "      height: 32px;\n",
              "      padding: 0 0 0 0;\n",
              "      width: 32px;\n",
              "    }\n",
              "\n",
              "    .colab-df-convert:hover {\n",
              "      background-color: #E2EBFA;\n",
              "      box-shadow: 0px 1px 2px rgba(60, 64, 67, 0.3), 0px 1px 3px 1px rgba(60, 64, 67, 0.15);\n",
              "      fill: #174EA6;\n",
              "    }\n",
              "\n",
              "    .colab-df-buttons div {\n",
              "      margin-bottom: 4px;\n",
              "    }\n",
              "\n",
              "    [theme=dark] .colab-df-convert {\n",
              "      background-color: #3B4455;\n",
              "      fill: #D2E3FC;\n",
              "    }\n",
              "\n",
              "    [theme=dark] .colab-df-convert:hover {\n",
              "      background-color: #434B5C;\n",
              "      box-shadow: 0px 1px 3px 1px rgba(0, 0, 0, 0.15);\n",
              "      filter: drop-shadow(0px 1px 2px rgba(0, 0, 0, 0.3));\n",
              "      fill: #FFFFFF;\n",
              "    }\n",
              "  </style>\n",
              "\n",
              "    <script>\n",
              "      const buttonEl =\n",
              "        document.querySelector('#df-dec93c56-dbb9-4cea-b88d-766778616635 button.colab-df-convert');\n",
              "      buttonEl.style.display =\n",
              "        google.colab.kernel.accessAllowed ? 'block' : 'none';\n",
              "\n",
              "      async function convertToInteractive(key) {\n",
              "        const element = document.querySelector('#df-dec93c56-dbb9-4cea-b88d-766778616635');\n",
              "        const dataTable =\n",
              "          await google.colab.kernel.invokeFunction('convertToInteractive',\n",
              "                                                    [key], {});\n",
              "        if (!dataTable) return;\n",
              "\n",
              "        const docLinkHtml = 'Like what you see? Visit the ' +\n",
              "          '<a target=\"_blank\" href=https://colab.research.google.com/notebooks/data_table.ipynb>data table notebook</a>'\n",
              "          + ' to learn more about interactive tables.';\n",
              "        element.innerHTML = '';\n",
              "        dataTable['output_type'] = 'display_data';\n",
              "        await google.colab.output.renderOutput(dataTable, element);\n",
              "        const docLink = document.createElement('div');\n",
              "        docLink.innerHTML = docLinkHtml;\n",
              "        element.appendChild(docLink);\n",
              "      }\n",
              "    </script>\n",
              "  </div>\n",
              "\n",
              "\n",
              "<div id=\"df-073c4b51-622f-44f9-ab04-da4d51366743\">\n",
              "  <button class=\"colab-df-quickchart\" onclick=\"quickchart('df-073c4b51-622f-44f9-ab04-da4d51366743')\"\n",
              "            title=\"Suggest charts\"\n",
              "            style=\"display:none;\">\n",
              "\n",
              "<svg xmlns=\"http://www.w3.org/2000/svg\" height=\"24px\"viewBox=\"0 0 24 24\"\n",
              "     width=\"24px\">\n",
              "    <g>\n",
              "        <path d=\"M19 3H5c-1.1 0-2 .9-2 2v14c0 1.1.9 2 2 2h14c1.1 0 2-.9 2-2V5c0-1.1-.9-2-2-2zM9 17H7v-7h2v7zm4 0h-2V7h2v10zm4 0h-2v-4h2v4z\"/>\n",
              "    </g>\n",
              "</svg>\n",
              "  </button>\n",
              "\n",
              "<style>\n",
              "  .colab-df-quickchart {\n",
              "      --bg-color: #E8F0FE;\n",
              "      --fill-color: #1967D2;\n",
              "      --hover-bg-color: #E2EBFA;\n",
              "      --hover-fill-color: #174EA6;\n",
              "      --disabled-fill-color: #AAA;\n",
              "      --disabled-bg-color: #DDD;\n",
              "  }\n",
              "\n",
              "  [theme=dark] .colab-df-quickchart {\n",
              "      --bg-color: #3B4455;\n",
              "      --fill-color: #D2E3FC;\n",
              "      --hover-bg-color: #434B5C;\n",
              "      --hover-fill-color: #FFFFFF;\n",
              "      --disabled-bg-color: #3B4455;\n",
              "      --disabled-fill-color: #666;\n",
              "  }\n",
              "\n",
              "  .colab-df-quickchart {\n",
              "    background-color: var(--bg-color);\n",
              "    border: none;\n",
              "    border-radius: 50%;\n",
              "    cursor: pointer;\n",
              "    display: none;\n",
              "    fill: var(--fill-color);\n",
              "    height: 32px;\n",
              "    padding: 0;\n",
              "    width: 32px;\n",
              "  }\n",
              "\n",
              "  .colab-df-quickchart:hover {\n",
              "    background-color: var(--hover-bg-color);\n",
              "    box-shadow: 0 1px 2px rgba(60, 64, 67, 0.3), 0 1px 3px 1px rgba(60, 64, 67, 0.15);\n",
              "    fill: var(--button-hover-fill-color);\n",
              "  }\n",
              "\n",
              "  .colab-df-quickchart-complete:disabled,\n",
              "  .colab-df-quickchart-complete:disabled:hover {\n",
              "    background-color: var(--disabled-bg-color);\n",
              "    fill: var(--disabled-fill-color);\n",
              "    box-shadow: none;\n",
              "  }\n",
              "\n",
              "  .colab-df-spinner {\n",
              "    border: 2px solid var(--fill-color);\n",
              "    border-color: transparent;\n",
              "    border-bottom-color: var(--fill-color);\n",
              "    animation:\n",
              "      spin 1s steps(1) infinite;\n",
              "  }\n",
              "\n",
              "  @keyframes spin {\n",
              "    0% {\n",
              "      border-color: transparent;\n",
              "      border-bottom-color: var(--fill-color);\n",
              "      border-left-color: var(--fill-color);\n",
              "    }\n",
              "    20% {\n",
              "      border-color: transparent;\n",
              "      border-left-color: var(--fill-color);\n",
              "      border-top-color: var(--fill-color);\n",
              "    }\n",
              "    30% {\n",
              "      border-color: transparent;\n",
              "      border-left-color: var(--fill-color);\n",
              "      border-top-color: var(--fill-color);\n",
              "      border-right-color: var(--fill-color);\n",
              "    }\n",
              "    40% {\n",
              "      border-color: transparent;\n",
              "      border-right-color: var(--fill-color);\n",
              "      border-top-color: var(--fill-color);\n",
              "    }\n",
              "    60% {\n",
              "      border-color: transparent;\n",
              "      border-right-color: var(--fill-color);\n",
              "    }\n",
              "    80% {\n",
              "      border-color: transparent;\n",
              "      border-right-color: var(--fill-color);\n",
              "      border-bottom-color: var(--fill-color);\n",
              "    }\n",
              "    90% {\n",
              "      border-color: transparent;\n",
              "      border-bottom-color: var(--fill-color);\n",
              "    }\n",
              "  }\n",
              "</style>\n",
              "\n",
              "  <script>\n",
              "    async function quickchart(key) {\n",
              "      const quickchartButtonEl =\n",
              "        document.querySelector('#' + key + ' button');\n",
              "      quickchartButtonEl.disabled = true;  // To prevent multiple clicks.\n",
              "      quickchartButtonEl.classList.add('colab-df-spinner');\n",
              "      try {\n",
              "        const charts = await google.colab.kernel.invokeFunction(\n",
              "            'suggestCharts', [key], {});\n",
              "      } catch (error) {\n",
              "        console.error('Error during call to suggestCharts:', error);\n",
              "      }\n",
              "      quickchartButtonEl.classList.remove('colab-df-spinner');\n",
              "      quickchartButtonEl.classList.add('colab-df-quickchart-complete');\n",
              "    }\n",
              "    (() => {\n",
              "      let quickchartButtonEl =\n",
              "        document.querySelector('#df-073c4b51-622f-44f9-ab04-da4d51366743 button');\n",
              "      quickchartButtonEl.style.display =\n",
              "        google.colab.kernel.accessAllowed ? 'block' : 'none';\n",
              "    })();\n",
              "  </script>\n",
              "</div>\n",
              "\n",
              "    </div>\n",
              "  </div>\n"
            ],
            "application/vnd.google.colaboratory.intrinsic+json": {
              "type": "dataframe"
            }
          },
          "metadata": {},
          "execution_count": 7
        }
      ]
    },
    {
      "cell_type": "markdown",
      "source": [
        "SELECT THE GOAL COLUMN ONLY"
      ],
      "metadata": {
        "id": "Oh74EfZ4SHA0"
      }
    },
    {
      "cell_type": "code",
      "source": [
        "# select only the goal column only\n",
        "Goals_col = df['Goals']"
      ],
      "metadata": {
        "id": "U3qWE42SSNMl"
      },
      "execution_count": 8,
      "outputs": []
    },
    {
      "cell_type": "markdown",
      "source": [
        "GET TO KNOW HOW MANY TEAMS PARTICIPATED IN EURO12\n",
        ""
      ],
      "metadata": {
        "id": "wIRWW5P1TS1a"
      }
    },
    {
      "cell_type": "code",
      "source": [
        "# get all the teams that participated in euro12\n"
      ],
      "metadata": {
        "id": "-91QWrpITeCD"
      },
      "execution_count": 12,
      "outputs": []
    },
    {
      "cell_type": "code",
      "source": [
        "from re import T\n",
        "Teams = df['Team']\n",
        "print(Teams)"
      ],
      "metadata": {
        "colab": {
          "base_uri": "https://localhost:8080/"
        },
        "id": "jBrdBGekUe77",
        "outputId": "b683efa6-ab5c-495c-cc65-587b0ac8cc75"
      },
      "execution_count": 13,
      "outputs": [
        {
          "output_type": "stream",
          "name": "stdout",
          "text": [
            "0                 Croatia\n",
            "1          Czech Republic\n",
            "2                 Denmark\n",
            "3                 England\n",
            "4                  France\n",
            "5                 Germany\n",
            "6                  Greece\n",
            "7                   Italy\n",
            "8             Netherlands\n",
            "9                  Poland\n",
            "10               Portugal\n",
            "11    Republic of Ireland\n",
            "12                 Russia\n",
            "13                  Spain\n",
            "14                 Sweden\n",
            "15                Ukraine\n",
            "Name: Team, dtype: object\n"
          ]
        }
      ]
    },
    {
      "cell_type": "markdown",
      "source": [
        "NUMBER OF COLUMNS IN THE DATA SET"
      ],
      "metadata": {
        "id": "rZwN94VyU6oN"
      }
    },
    {
      "cell_type": "code",
      "source": [
        "num_cols = df.shape[1]\n",
        "print(num_cols)"
      ],
      "metadata": {
        "colab": {
          "base_uri": "https://localhost:8080/"
        },
        "id": "jMrUiaMEU_21",
        "outputId": "118a9865-d626-479e-ec63-4066cbe540bb"
      },
      "execution_count": 14,
      "outputs": [
        {
          "output_type": "stream",
          "name": "stdout",
          "text": [
            "35\n"
          ]
        }
      ]
    },
    {
      "cell_type": "markdown",
      "source": [
        "VIEWING  ONLY THE COLUMNS TEAM,YELLOW CARDS, AND RED CARDS AND ASSIGN THE TO DATA FRAME CALLED DISCIPLINE"
      ],
      "metadata": {
        "id": "UL5-BnXVVY-Q"
      }
    },
    {
      "cell_type": "code",
      "source": [
        "discpline = df[['Team','Yellow Cards','Red Cards']]\n",
        "print(discpline)"
      ],
      "metadata": {
        "colab": {
          "base_uri": "https://localhost:8080/"
        },
        "id": "ij3L7cAcVutP",
        "outputId": "cebd173c-bcf8-475e-e715-ce71b434d442"
      },
      "execution_count": 15,
      "outputs": [
        {
          "output_type": "stream",
          "name": "stdout",
          "text": [
            "                   Team  Yellow Cards  Red Cards\n",
            "0               Croatia             9          0\n",
            "1        Czech Republic             7          0\n",
            "2               Denmark             4          0\n",
            "3               England             5          0\n",
            "4                France             6          0\n",
            "5               Germany             4          0\n",
            "6                Greece             9          1\n",
            "7                 Italy            16          0\n",
            "8           Netherlands             5          0\n",
            "9                Poland             7          1\n",
            "10             Portugal            12          0\n",
            "11  Republic of Ireland             6          1\n",
            "12               Russia             6          0\n",
            "13                Spain            11          0\n",
            "14               Sweden             7          0\n",
            "15              Ukraine             5          0\n"
          ]
        }
      ]
    },
    {
      "cell_type": "markdown",
      "source": [
        "SORT TEAM BY RED CARDS, THEN TO YELLOW CARDS"
      ],
      "metadata": {
        "id": "t2qh876uWYqu"
      }
    },
    {
      "cell_type": "code",
      "source": [
        "sorted_df = df.sort_values(by=['Red Cards', 'Yellow Cards'])\n",
        "print(sorted_df)"
      ],
      "metadata": {
        "colab": {
          "base_uri": "https://localhost:8080/"
        },
        "id": "txDGIsh9WkHx",
        "outputId": "c2a1eb5e-7418-4288-a1bc-a12ca2bfca8f"
      },
      "execution_count": 16,
      "outputs": [
        {
          "output_type": "stream",
          "name": "stdout",
          "text": [
            "                   Team  Goals  Shots on target  Shots off target  \\\n",
            "2               Denmark      4               10                10   \n",
            "5               Germany     10               32                32   \n",
            "3               England      5               11                18   \n",
            "8           Netherlands      2               12                36   \n",
            "15              Ukraine      2                7                26   \n",
            "4                France      3               22                24   \n",
            "12               Russia      5                9                31   \n",
            "1        Czech Republic      4               13                18   \n",
            "14               Sweden      5               17                19   \n",
            "0               Croatia      4               13                12   \n",
            "13                Spain     12               42                33   \n",
            "10             Portugal      6               22                42   \n",
            "7                 Italy      6               34                45   \n",
            "11  Republic of Ireland      1                7                12   \n",
            "9                Poland      2               15                23   \n",
            "6                Greece      5                8                18   \n",
            "\n",
            "   Shooting Accuracy % Goals-to-shots  Total shots (inc. Blocked)  \\\n",
            "2              50.0%            20.0%                          27   \n",
            "5              47.8%            15.6%                          80   \n",
            "3              50.0%            17.2%                          40   \n",
            "8              25.0%             4.1%                          60   \n",
            "15             21.2%             6.0%                          38   \n",
            "4              37.9%             6.5%                          65   \n",
            "12             22.5%            12.5%                          59   \n",
            "1              41.9%            12.9%                          39   \n",
            "14             47.2%            13.8%                          39   \n",
            "0              51.9%            16.0%                          32   \n",
            "13             55.9%            16.0%                         100   \n",
            "10             34.3%             9.3%                          82   \n",
            "7              43.0%             7.5%                         110   \n",
            "11             36.8%             5.2%                          28   \n",
            "9              39.4%             5.2%                          48   \n",
            "6              30.7%            19.2%                          32   \n",
            "\n",
            "    Hit Woodwork  Penalty goals  Penalties not scored  ...  Saves made  \\\n",
            "2              1              0                     0  ...          10   \n",
            "5              2              1                     0  ...          10   \n",
            "3              0              0                     0  ...          22   \n",
            "8              2              0                     0  ...          12   \n",
            "15             0              0                     0  ...          13   \n",
            "4              1              0                     0  ...           6   \n",
            "12             2              0                     0  ...          10   \n",
            "1              0              0                     0  ...           9   \n",
            "14             3              0                     0  ...           8   \n",
            "0              0              0                     0  ...          13   \n",
            "13             0              1                     0  ...          15   \n",
            "10             6              0                     0  ...          10   \n",
            "7              2              0                     0  ...          20   \n",
            "11             0              0                     0  ...          17   \n",
            "9              0              0                     0  ...           6   \n",
            "6              1              1                     1  ...          13   \n",
            "\n",
            "    Saves-to-shots ratio  Fouls Won Fouls Conceded  Offsides  Yellow Cards  \\\n",
            "2                  66.7%         25             38         8             4   \n",
            "5                  62.6%         63             49        12             4   \n",
            "3                  88.1%         43             45         6             5   \n",
            "8                  70.6%         35             30         3             5   \n",
            "15                 76.5%         48             31         4             5   \n",
            "4                  54.6%         36             51         5             6   \n",
            "12                 77.0%         34             43         4             6   \n",
            "1                  60.1%         53             73         8             7   \n",
            "14                 61.6%         35             51         7             7   \n",
            "0                  81.3%         41             62         2             9   \n",
            "13                 93.8%        102             83        19            11   \n",
            "10                 71.5%         73             90        10            12   \n",
            "7                  74.1%        101             89        16            16   \n",
            "11                 65.4%         43             51        11             6   \n",
            "9                  66.7%         48             56         3             7   \n",
            "6                  65.1%         67             48        12             9   \n",
            "\n",
            "    Red Cards  Subs on  Subs off  Players Used  \n",
            "2           0        7         7            15  \n",
            "5           0       15        15            17  \n",
            "3           0       11        11            16  \n",
            "8           0        7         7            15  \n",
            "15          0        9         9            18  \n",
            "4           0       11        11            19  \n",
            "12          0        7         7            16  \n",
            "1           0       11        11            19  \n",
            "14          0        9         9            18  \n",
            "0           0        9         9            16  \n",
            "13          0       17        17            18  \n",
            "10          0       14        14            16  \n",
            "7           0       18        18            19  \n",
            "11          1       10        10            17  \n",
            "9           1        7         7            17  \n",
            "6           1       12        12            20  \n",
            "\n",
            "[16 rows x 35 columns]\n"
          ]
        }
      ]
    },
    {
      "cell_type": "markdown",
      "source": [
        "CALCULATE THE MEAN YELLOW CARDS GIVEN PER TEAM"
      ],
      "metadata": {
        "id": "nQJ0OHNrXH2l"
      }
    },
    {
      "cell_type": "code",
      "source": [
        "# Calculat e the mean number of yellow cards given per team\n",
        "mean_yellow_cards= df['Yellow Cards'].mean()\n",
        "print(f\"the mean_yellow_cards given per teamis: {mean_yellow_cards}\")"
      ],
      "metadata": {
        "colab": {
          "base_uri": "https://localhost:8080/"
        },
        "id": "LGxInQlLXbZp",
        "outputId": "be6f16f8-6ef1-457c-b071-ba724d21047a"
      },
      "execution_count": 18,
      "outputs": [
        {
          "output_type": "stream",
          "name": "stdout",
          "text": [
            "the mean_yellow_cards given per teamis: 7.4375\n"
          ]
        }
      ]
    },
    {
      "cell_type": "markdown",
      "source": [
        "ILTER TEAMS THAT SCORED MORE THAN 6 GOALS"
      ],
      "metadata": {
        "id": "amOStzePYsgp"
      }
    },
    {
      "cell_type": "code",
      "source": [
        "teams_more_than_6_goals = df[df['Goals'] > 6]\n",
        "print(teams_more_than_6_goals[['Team', 'Goals']])"
      ],
      "metadata": {
        "colab": {
          "base_uri": "https://localhost:8080/"
        },
        "id": "xvrBxyjjYzfT",
        "outputId": "22705f19-a2d6-4e33-c428-04a1daf83fd7"
      },
      "execution_count": 20,
      "outputs": [
        {
          "output_type": "stream",
          "name": "stdout",
          "text": [
            "       Team  Goals\n",
            "5   Germany     10\n",
            "13    Spain     12\n"
          ]
        }
      ]
    },
    {
      "cell_type": "markdown",
      "source": [
        "SELECT TEAMS THAT STARTS WITH G"
      ],
      "metadata": {
        "id": "QwWThbQtZv9x"
      }
    },
    {
      "cell_type": "code",
      "source": [
        "teams_starting_with_G = df[df['Team'].str.startswith('G')]\n",
        "print(teams_starting_with_G['Team'])"
      ],
      "metadata": {
        "colab": {
          "base_uri": "https://localhost:8080/"
        },
        "id": "wJH_ZBPNZ52p",
        "outputId": "0789238e-3145-4ad1-be5b-2761aa358b93"
      },
      "execution_count": 21,
      "outputs": [
        {
          "output_type": "stream",
          "name": "stdout",
          "text": [
            "5    Germany\n",
            "6     Greece\n",
            "Name: Team, dtype: object\n"
          ]
        }
      ]
    },
    {
      "cell_type": "markdown",
      "source": [
        "  SELECT ALL COLUMNS EXCEPT THE LAST 3"
      ],
      "metadata": {
        "id": "xjKIwjexaBpZ"
      }
    },
    {
      "cell_type": "code",
      "source": [
        "except_last_3 = df.iloc[:, :-3]\n",
        "print(except_last_3)"
      ],
      "metadata": {
        "colab": {
          "base_uri": "https://localhost:8080/"
        },
        "id": "zsWDSulMaOsb",
        "outputId": "806abe6c-bd83-42f2-a5bf-c6a540964264"
      },
      "execution_count": 22,
      "outputs": [
        {
          "output_type": "stream",
          "name": "stdout",
          "text": [
            "                   Team  Goals  Shots on target  Shots off target  \\\n",
            "0               Croatia      4               13                12   \n",
            "1        Czech Republic      4               13                18   \n",
            "2               Denmark      4               10                10   \n",
            "3               England      5               11                18   \n",
            "4                France      3               22                24   \n",
            "5               Germany     10               32                32   \n",
            "6                Greece      5                8                18   \n",
            "7                 Italy      6               34                45   \n",
            "8           Netherlands      2               12                36   \n",
            "9                Poland      2               15                23   \n",
            "10             Portugal      6               22                42   \n",
            "11  Republic of Ireland      1                7                12   \n",
            "12               Russia      5                9                31   \n",
            "13                Spain     12               42                33   \n",
            "14               Sweden      5               17                19   \n",
            "15              Ukraine      2                7                26   \n",
            "\n",
            "   Shooting Accuracy % Goals-to-shots  Total shots (inc. Blocked)  \\\n",
            "0              51.9%            16.0%                          32   \n",
            "1              41.9%            12.9%                          39   \n",
            "2              50.0%            20.0%                          27   \n",
            "3              50.0%            17.2%                          40   \n",
            "4              37.9%             6.5%                          65   \n",
            "5              47.8%            15.6%                          80   \n",
            "6              30.7%            19.2%                          32   \n",
            "7              43.0%             7.5%                         110   \n",
            "8              25.0%             4.1%                          60   \n",
            "9              39.4%             5.2%                          48   \n",
            "10             34.3%             9.3%                          82   \n",
            "11             36.8%             5.2%                          28   \n",
            "12             22.5%            12.5%                          59   \n",
            "13             55.9%            16.0%                         100   \n",
            "14             47.2%            13.8%                          39   \n",
            "15             21.2%             6.0%                          38   \n",
            "\n",
            "    Hit Woodwork  Penalty goals  Penalties not scored  ...  Clean Sheets  \\\n",
            "0              0              0                     0  ...             0   \n",
            "1              0              0                     0  ...             1   \n",
            "2              1              0                     0  ...             1   \n",
            "3              0              0                     0  ...             2   \n",
            "4              1              0                     0  ...             1   \n",
            "5              2              1                     0  ...             1   \n",
            "6              1              1                     1  ...             1   \n",
            "7              2              0                     0  ...             2   \n",
            "8              2              0                     0  ...             0   \n",
            "9              0              0                     0  ...             0   \n",
            "10             6              0                     0  ...             2   \n",
            "11             0              0                     0  ...             0   \n",
            "12             2              0                     0  ...             0   \n",
            "13             0              1                     0  ...             5   \n",
            "14             3              0                     0  ...             1   \n",
            "15             0              0                     0  ...             0   \n",
            "\n",
            "    Blocks  Goals conceded Saves made  Saves-to-shots ratio  Fouls Won  \\\n",
            "0       10               3         13                 81.3%         41   \n",
            "1       10               6          9                 60.1%         53   \n",
            "2       10               5         10                 66.7%         25   \n",
            "3       29               3         22                 88.1%         43   \n",
            "4        7               5          6                 54.6%         36   \n",
            "5       11               6         10                 62.6%         63   \n",
            "6       23               7         13                 65.1%         67   \n",
            "7       18               7         20                 74.1%        101   \n",
            "8        9               5         12                 70.6%         35   \n",
            "9        8               3          6                 66.7%         48   \n",
            "10      11               4         10                 71.5%         73   \n",
            "11      23               9         17                 65.4%         43   \n",
            "12       8               3         10                 77.0%         34   \n",
            "13       8               1         15                 93.8%        102   \n",
            "14      12               5          8                 61.6%         35   \n",
            "15       4               4         13                 76.5%         48   \n",
            "\n",
            "    Fouls Conceded  Offsides  Yellow Cards  Red Cards  \n",
            "0               62         2             9          0  \n",
            "1               73         8             7          0  \n",
            "2               38         8             4          0  \n",
            "3               45         6             5          0  \n",
            "4               51         5             6          0  \n",
            "5               49        12             4          0  \n",
            "6               48        12             9          1  \n",
            "7               89        16            16          0  \n",
            "8               30         3             5          0  \n",
            "9               56         3             7          1  \n",
            "10              90        10            12          0  \n",
            "11              51        11             6          1  \n",
            "12              43         4             6          0  \n",
            "13              83        19            11          0  \n",
            "14              51         7             7          0  \n",
            "15              31         4             5          0  \n",
            "\n",
            "[16 rows x 32 columns]\n"
          ]
        }
      ]
    },
    {
      "cell_type": "markdown",
      "source": [],
      "metadata": {
        "id": "0YUOb_VVae3U"
      }
    },
    {
      "cell_type": "markdown",
      "source": [
        "PRESENT ONLY THE SHOOTING ACCURACY FROM ENGLAND ITALY AND CROATIA\n"
      ],
      "metadata": {
        "id": "G0lME5N1ag75"
      }
    },
    {
      "cell_type": "code",
      "source": [
        "shooting_accuracy = df.loc[df['Team'].isin(['England', 'Italy', 'Croatia']), ['Team', 'Shooting Accuracy']]\n",
        "print(shooting_accuracy)"
      ],
      "metadata": {
        "colab": {
          "base_uri": "https://localhost:8080/"
        },
        "id": "yws_VDHbarTC",
        "outputId": "00fa923a-6f7a-4532-cfa4-5141e2d8741c"
      },
      "execution_count": 23,
      "outputs": [
        {
          "output_type": "stream",
          "name": "stdout",
          "text": [
            "      Team Shooting Accuracy\n",
            "0  Croatia             51.9%\n",
            "3  England             50.0%\n",
            "7    Italy             43.0%\n"
          ]
        }
      ]
    },
    {
      "cell_type": "markdown",
      "source": [],
      "metadata": {
        "id": "HrWSYfJWYr3I"
      }
    }
  ]
}