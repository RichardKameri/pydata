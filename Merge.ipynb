{
  "nbformat": 4,
  "nbformat_minor": 0,
  "metadata": {
    "colab": {
      "provenance": [],
      "authorship_tag": "ABX9TyPKh+5ORQadcpEonhf/BA7h",
      "include_colab_link": true
    },
    "kernelspec": {
      "name": "python3",
      "display_name": "Python 3"
    },
    "language_info": {
      "name": "python"
    }
  },
  "cells": [
    {
      "cell_type": "markdown",
      "metadata": {
        "id": "view-in-github",
        "colab_type": "text"
      },
      "source": [
        "<a href=\"https://colab.research.google.com/github/RichardKameri/tydata/blob/main/Merge.ipynb\" target=\"_parent\"><img src=\"https://colab.research.google.com/assets/colab-badge.svg\" alt=\"Open In Colab\"/></a>"
      ]
    },
    {
      "cell_type": "code",
      "execution_count": 1,
      "metadata": {
        "id": "cn2Lq7Mz0NXS"
      },
      "outputs": [],
      "source": [
        "import numpy as np\n",
        "import pandas as pd\n",
        "import matplotlib.pyplot as plt\n",
        "import seaborn as sns\n"
      ]
    },
    {
      "cell_type": "code",
      "source": [
        "cars1 = pd.read_csv('/content/CARS.csv')"
      ],
      "metadata": {
        "id": "ThnVI19Z1hJ6"
      },
      "execution_count": 3,
      "outputs": []
    },
    {
      "cell_type": "code",
      "source": [
        "cars2 = pd.read_csv('/content/cars_data.csv')"
      ],
      "metadata": {
        "id": "STmpdBus16jw"
      },
      "execution_count": 4,
      "outputs": []
    },
    {
      "cell_type": "code",
      "source": [
        "cars1.info()"
      ],
      "metadata": {
        "colab": {
          "base_uri": "https://localhost:8080/"
        },
        "id": "eUPduHD82KF0",
        "outputId": "a75e8924-e4af-4aa8-f1b3-f18691247b3e"
      },
      "execution_count": 5,
      "outputs": [
        {
          "output_type": "stream",
          "name": "stdout",
          "text": [
            "<class 'pandas.core.frame.DataFrame'>\n",
            "RangeIndex: 428 entries, 0 to 427\n",
            "Data columns (total 15 columns):\n",
            " #   Column       Non-Null Count  Dtype  \n",
            "---  ------       --------------  -----  \n",
            " 0   Make         428 non-null    object \n",
            " 1   Model        428 non-null    object \n",
            " 2   Type         428 non-null    object \n",
            " 3   Origin       428 non-null    object \n",
            " 4   DriveTrain   428 non-null    object \n",
            " 5   MSRP         428 non-null    object \n",
            " 6   Invoice      428 non-null    object \n",
            " 7   EngineSize   428 non-null    float64\n",
            " 8   Cylinders    426 non-null    float64\n",
            " 9   Horsepower   428 non-null    int64  \n",
            " 10  MPG_City     428 non-null    int64  \n",
            " 11  MPG_Highway  428 non-null    int64  \n",
            " 12  Weight       428 non-null    int64  \n",
            " 13  Wheelbase    428 non-null    int64  \n",
            " 14  Length       428 non-null    int64  \n",
            "dtypes: float64(2), int64(6), object(7)\n",
            "memory usage: 50.3+ KB\n"
          ]
        }
      ]
    },
    {
      "cell_type": "code",
      "source": [
        "cars2.info()"
      ],
      "metadata": {
        "colab": {
          "base_uri": "https://localhost:8080/"
        },
        "id": "BXpjCaMH2Pqn",
        "outputId": "2dbb0447-c1d8-4bec-d9ab-785edd575e0a"
      },
      "execution_count": 6,
      "outputs": [
        {
          "output_type": "stream",
          "name": "stdout",
          "text": [
            "<class 'pandas.core.frame.DataFrame'>\n",
            "RangeIndex: 204 entries, 0 to 203\n",
            "Data columns (total 26 columns):\n",
            " #   Column       Non-Null Count  Dtype  \n",
            "---  ------       --------------  -----  \n",
            " 0   3            204 non-null    int64  \n",
            " 1   ?            204 non-null    object \n",
            " 2   alfa-romero  204 non-null    object \n",
            " 3   gas          204 non-null    object \n",
            " 4   std          204 non-null    object \n",
            " 5   two          204 non-null    object \n",
            " 6   convertible  204 non-null    object \n",
            " 7   rwd          204 non-null    object \n",
            " 8   front        204 non-null    object \n",
            " 9   88.60        204 non-null    float64\n",
            " 10  168.80       204 non-null    float64\n",
            " 11  64.10        204 non-null    float64\n",
            " 12  48.80        204 non-null    float64\n",
            " 13  2548         204 non-null    int64  \n",
            " 14  dohc         204 non-null    object \n",
            " 15  four         204 non-null    object \n",
            " 16  130          204 non-null    int64  \n",
            " 17  mpfi         204 non-null    object \n",
            " 18  3.47         204 non-null    object \n",
            " 19  2.68         204 non-null    object \n",
            " 20  9.00         204 non-null    float64\n",
            " 21  111          204 non-null    object \n",
            " 22  5000         204 non-null    object \n",
            " 23  21           204 non-null    int64  \n",
            " 24  27           204 non-null    int64  \n",
            " 25  13495        204 non-null    object \n",
            "dtypes: float64(5), int64(5), object(16)\n",
            "memory usage: 41.6+ KB\n"
          ]
        }
      ]
    },
    {
      "cell_type": "code",
      "source": [
        "# join cars1 and cars2 into a single data frame\n",
        "cars = pd.concat([cars1, cars2])"
      ],
      "metadata": {
        "id": "ImwpDMgB2Vjk"
      },
      "execution_count": 7,
      "outputs": []
    },
    {
      "cell_type": "code",
      "source": [
        "# display the merged data frame\n",
        "cars.info()"
      ],
      "metadata": {
        "colab": {
          "base_uri": "https://localhost:8080/"
        },
        "id": "e1psNLXy2nVi",
        "outputId": "de5cfdc0-08b0-4c9f-e7db-b8e5c51b0a1b"
      },
      "execution_count": 8,
      "outputs": [
        {
          "output_type": "stream",
          "name": "stdout",
          "text": [
            "<class 'pandas.core.frame.DataFrame'>\n",
            "Index: 632 entries, 0 to 203\n",
            "Data columns (total 41 columns):\n",
            " #   Column       Non-Null Count  Dtype  \n",
            "---  ------       --------------  -----  \n",
            " 0   Make         428 non-null    object \n",
            " 1   Model        428 non-null    object \n",
            " 2   Type         428 non-null    object \n",
            " 3   Origin       428 non-null    object \n",
            " 4   DriveTrain   428 non-null    object \n",
            " 5   MSRP         428 non-null    object \n",
            " 6   Invoice      428 non-null    object \n",
            " 7   EngineSize   428 non-null    float64\n",
            " 8   Cylinders    426 non-null    float64\n",
            " 9   Horsepower   428 non-null    float64\n",
            " 10  MPG_City     428 non-null    float64\n",
            " 11  MPG_Highway  428 non-null    float64\n",
            " 12  Weight       428 non-null    float64\n",
            " 13  Wheelbase    428 non-null    float64\n",
            " 14  Length       428 non-null    float64\n",
            " 15  3            204 non-null    float64\n",
            " 16  ?            204 non-null    object \n",
            " 17  alfa-romero  204 non-null    object \n",
            " 18  gas          204 non-null    object \n",
            " 19  std          204 non-null    object \n",
            " 20  two          204 non-null    object \n",
            " 21  convertible  204 non-null    object \n",
            " 22  rwd          204 non-null    object \n",
            " 23  front        204 non-null    object \n",
            " 24  88.60        204 non-null    float64\n",
            " 25  168.80       204 non-null    float64\n",
            " 26  64.10        204 non-null    float64\n",
            " 27  48.80        204 non-null    float64\n",
            " 28  2548         204 non-null    float64\n",
            " 29  dohc         204 non-null    object \n",
            " 30  four         204 non-null    object \n",
            " 31  130          204 non-null    float64\n",
            " 32  mpfi         204 non-null    object \n",
            " 33  3.47         204 non-null    object \n",
            " 34  2.68         204 non-null    object \n",
            " 35  9.00         204 non-null    float64\n",
            " 36  111          204 non-null    object \n",
            " 37  5000         204 non-null    object \n",
            " 38  21           204 non-null    float64\n",
            " 39  27           204 non-null    float64\n",
            " 40  13495        204 non-null    object \n",
            "dtypes: float64(18), object(23)\n",
            "memory usage: 207.4+ KB\n"
          ]
        }
      ]
    }
  ]
}