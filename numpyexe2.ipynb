{
  "nbformat": 4,
  "nbformat_minor": 0,
  "metadata": {
    "colab": {
      "provenance": [],
      "authorship_tag": "ABX9TyM9cMLTdNii0QQlWhqBdlNW",
      "include_colab_link": true
    },
    "kernelspec": {
      "name": "python3",
      "display_name": "Python 3"
    },
    "language_info": {
      "name": "python"
    }
  },
  "cells": [
    {
      "cell_type": "markdown",
      "metadata": {
        "id": "view-in-github",
        "colab_type": "text"
      },
      "source": [
        "<a href=\"https://colab.research.google.com/github/RichardKameri/tydata/blob/main/numpyexe2.ipynb\" target=\"_parent\"><img src=\"https://colab.research.google.com/assets/colab-badge.svg\" alt=\"Open In Colab\"/></a>"
      ]
    },
    {
      "cell_type": "code",
      "execution_count": 1,
      "metadata": {
        "id": "d0BPVaxZES5B"
      },
      "outputs": [],
      "source": [
        "import numpy as np"
      ]
    },
    {
      "cell_type": "code",
      "source": [
        "import numpy as np\n",
        "\n",
        "# Create an example array\n",
        "original_array = np.array([[1, 2, 3],\n",
        "                           [4, 5, 6],\n",
        "                           [7, 8, 9]])\n",
        "\n",
        "# Add a border filled with zeros around the array\n",
        "bordered_array = np.pad(original_array, pad_width=1, mode='constant', constant_values=0)\n",
        "\n",
        "print(\"Original Array:\\n\", original_array)\n",
        "print(\"Array with Zero Border:\\n\", bordered_array)\n"
      ],
      "metadata": {
        "colab": {
          "base_uri": "https://localhost:8080/"
        },
        "id": "fNUVBnYUFDEx",
        "outputId": "32c99915-b9bf-46e6-edaa-04cc0e3614f4"
      },
      "execution_count": 2,
      "outputs": [
        {
          "output_type": "stream",
          "name": "stdout",
          "text": [
            "Original Array:\n",
            " [[1 2 3]\n",
            " [4 5 6]\n",
            " [7 8 9]]\n",
            "Array with Zero Border:\n",
            " [[0 0 0 0 0]\n",
            " [0 1 2 3 0]\n",
            " [0 4 5 6 0]\n",
            " [0 7 8 9 0]\n",
            " [0 0 0 0 0]]\n"
          ]
        }
      ]
    },
    {
      "cell_type": "markdown",
      "source": [
        "0 * np.nan\n",
        "\n",
        "Result: nan\n",
        "\n",
        "Explanation: Multiplying zero by NaN (Not a Number) results in NaN.\n",
        "\n",
        "np.nan == np.nan\n",
        "\n",
        "Result: False\n",
        "\n",
        "Explanation: NaN is not equal to anything, including itself. This is defined by the IEEE floating-point standard.\n",
        "\n",
        "np.inf > np.nan\n",
        "\n",
        "Result: False\n",
        "\n",
        "Explanation: NaN is not comparable with any other numerical value. Any comparison with NaN returns False.\n",
        "\n",
        "np.nan - np.nan\n",
        "\n",
        "Result: nan\n",
        "\n",
        "Explanation: Any arithmetic operation involving NaN will result in NaN.\n",
        "\n",
        "np.nan in set([np.nan])\n",
        "\n",
        "Result: True\n",
        "\n",
        "Explanation: NaN can be found in a set that contains NaN.\n",
        "\n",
        "0.3 == 3 * 0.1\n",
        "\n",
        "Result: False\n",
        "\n",
        "Explanation: Due to floating-point precision issues, 0.3 is not exactly equal to 3 * 0.1 in binary representation."
      ],
      "metadata": {
        "id": "UekGMu4MFUJF"
      }
    },
    {
      "cell_type": "code",
      "source": [
        "import numpy as np\n",
        "\n",
        "# Values to place below the diagonal\n",
        "values = [1, 2, 3, 4]\n",
        "\n",
        "# Create the matrix with the values below the diagonal\n",
        "matrix = np.diag(values, k=-1)\n",
        "\n",
        "# Display the matrix\n",
        "print(matrix)\n"
      ],
      "metadata": {
        "colab": {
          "base_uri": "https://localhost:8080/"
        },
        "id": "F_K0iGORFyUX",
        "outputId": "47c5e836-a642-4382-da6a-226362871fe5"
      },
      "execution_count": 3,
      "outputs": [
        {
          "output_type": "stream",
          "name": "stdout",
          "text": [
            "[[0 0 0 0 0]\n",
            " [1 0 0 0 0]\n",
            " [0 2 0 0 0]\n",
            " [0 0 3 0 0]\n",
            " [0 0 0 4 0]]\n"
          ]
        }
      ]
    },
    {
      "cell_type": "code",
      "source": [
        "import numpy as np\n",
        "\n",
        "# Initialize an 8x8 matrix with zeros\n",
        "checkerboard = np.zeros((8, 8), dtype=int)\n",
        "\n",
        "# Fill the matrix with a checkerboard pattern\n",
        "checkerboard[1::2, ::2] = 1\n",
        "checkerboard[::2, 1::2] = 1\n",
        "\n",
        "# Display the matrix\n",
        "print(checkerboard)\n"
      ],
      "metadata": {
        "colab": {
          "base_uri": "https://localhost:8080/"
        },
        "id": "tMLiw9AVF3rw",
        "outputId": "a079527c-7674-45ef-de06-dc9523475434"
      },
      "execution_count": 4,
      "outputs": [
        {
          "output_type": "stream",
          "name": "stdout",
          "text": [
            "[[0 1 0 1 0 1 0 1]\n",
            " [1 0 1 0 1 0 1 0]\n",
            " [0 1 0 1 0 1 0 1]\n",
            " [1 0 1 0 1 0 1 0]\n",
            " [0 1 0 1 0 1 0 1]\n",
            " [1 0 1 0 1 0 1 0]\n",
            " [0 1 0 1 0 1 0 1]\n",
            " [1 0 1 0 1 0 1 0]]\n"
          ]
        }
      ]
    },
    {
      "cell_type": "code",
      "source": [
        "import numpy as np\n",
        "\n",
        "# Define a 2x2 checkerboard pattern\n",
        "checkerboard_pattern = np.array([[0, 1],\n",
        "                                 [1, 0]])\n",
        "\n",
        "# Tile the pattern to create an 8x8 checkerboard\n",
        "checkerboard = np.tile(checkerboard_pattern, (4, 4))\n",
        "\n",
        "# Display the matrix\n",
        "print(checkerboard)\n"
      ],
      "metadata": {
        "colab": {
          "base_uri": "https://localhost:8080/"
        },
        "id": "v360sGKoGSod",
        "outputId": "4649abca-00cc-40f1-dcdb-764e02578d3a"
      },
      "execution_count": 5,
      "outputs": [
        {
          "output_type": "stream",
          "name": "stdout",
          "text": [
            "[[0 1 0 1 0 1 0 1]\n",
            " [1 0 1 0 1 0 1 0]\n",
            " [0 1 0 1 0 1 0 1]\n",
            " [1 0 1 0 1 0 1 0]\n",
            " [0 1 0 1 0 1 0 1]\n",
            " [1 0 1 0 1 0 1 0]\n",
            " [0 1 0 1 0 1 0 1]\n",
            " [1 0 1 0 1 0 1 0]]\n"
          ]
        }
      ]
    },
    {
      "cell_type": "code",
      "source": [
        "import numpy as np\n",
        "\n",
        "# Generate a 5x5 random matrix\n",
        "random_matrix = np.random.rand(5, 5)\n",
        "\n",
        "# Normalize the matrix\n",
        "normalized_matrix = (random_matrix - np.min(random_matrix)) / (np.max(random_matrix) - np.min(random_matrix))\n",
        "\n",
        "# Display the original and normalized matrices\n",
        "print(\"Original Matrix:\\n\", random_matrix)\n",
        "print(\"Normalized Matrix:\\n\", normalized_matrix)\n"
      ],
      "metadata": {
        "colab": {
          "base_uri": "https://localhost:8080/"
        },
        "id": "Hcdd1rnbGuF7",
        "outputId": "24d8b324-e30b-4656-a161-1ab1c3bf145a"
      },
      "execution_count": 6,
      "outputs": [
        {
          "output_type": "stream",
          "name": "stdout",
          "text": [
            "Original Matrix:\n",
            " [[0.04208389 0.8911675  0.58005482 0.24743952 0.99923084]\n",
            " [0.57525989 0.0418622  0.47929935 0.19802684 0.87860106]\n",
            " [0.27777476 0.9821855  0.89350995 0.87423556 0.71284512]\n",
            " [0.03334498 0.54510268 0.15166879 0.09451596 0.0231056 ]\n",
            " [0.650505   0.97746528 0.28691007 0.95686742 0.07534111]]\n",
            "Normalized Matrix:\n",
            " [[0.01944248 0.88929357 0.57057148 0.22982084 1.        ]\n",
            " [0.56565927 0.01921536 0.46735166 0.17919958 0.87641978]\n",
            " [0.26089804 0.98253775 0.89169331 0.87194749 0.70660965]\n",
            " [0.01048982 0.53476445 0.13170768 0.07315697 0.        ]\n",
            " [0.64274478 0.97770208 0.27025678 0.95660043 0.05351312]]\n"
          ]
        }
      ]
    },
    {
      "cell_type": "code",
      "source": [
        "import numpy as np\n",
        "\n",
        "# Define a custom dtype for a color\n",
        "color_dtype = np.dtype([\n",
        "    ('red', np.uint8),\n",
        "    ('green', np.uint8),\n",
        "    ('blue', np.uint8),\n",
        "    ('alpha', np.uint8)\n",
        "])\n",
        "\n",
        "# Create an array of colors using the custom dtype\n",
        "colors = np.array([\n",
        "    (255, 0, 0, 255),    # Red with full opacity\n",
        "    (0, 255, 0, 255),    # Green with full opacity\n",
        "    (0, 0, 255, 255),    # Blue with full opacity\n",
        "    (255, 255, 0, 255)   # Yellow with full opacity\n",
        "], dtype=color_dtype)\n",
        "\n",
        "# Display the colors array\n",
        "print(colors)\n"
      ],
      "metadata": {
        "colab": {
          "base_uri": "https://localhost:8080/"
        },
        "id": "ByHzDxt8G8az",
        "outputId": "2b505a26-4061-4081-acbd-31a2002dc80b"
      },
      "execution_count": 8,
      "outputs": [
        {
          "output_type": "stream",
          "name": "stdout",
          "text": [
            "[(255,   0,   0, 255) (  0, 255,   0, 255) (  0,   0, 255, 255)\n",
            " (255, 255,   0, 255)]\n"
          ]
        }
      ]
    },
    {
      "cell_type": "code",
      "source": [
        "import numpy as np\n",
        "\n",
        "# Define a 5x3 matrix\n",
        "matrix_a = np.random.rand(5, 3)\n",
        "\n",
        "# Define a 3x2 matrix\n",
        "matrix_b = np.random.rand(3, 2)\n",
        "\n",
        "# Perform matrix multiplication\n",
        "result_matrix = np.dot(matrix_a, matrix_b)\n",
        "\n",
        "# Display the matrices\n",
        "print(\"Matrix A (5x3):\\n\", matrix_a)\n",
        "print(\"Matrix B (3x2):\\n\", matrix_b)\n",
        "print(\"Resulting Matrix (5x2):\\n\", result_matrix)\n"
      ],
      "metadata": {
        "colab": {
          "base_uri": "https://localhost:8080/"
        },
        "id": "YVU3MQVcHZKL",
        "outputId": "ded60c76-80eb-4229-80f7-a03af94eacff"
      },
      "execution_count": 9,
      "outputs": [
        {
          "output_type": "stream",
          "name": "stdout",
          "text": [
            "Matrix A (5x3):\n",
            " [[0.23666957 0.21054564 0.00762706]\n",
            " [0.70139768 0.89367521 0.96624259]\n",
            " [0.39233666 0.75403031 0.29687031]\n",
            " [0.42280915 0.32604222 0.38619585]\n",
            " [0.14670448 0.52161731 0.14023832]]\n",
            "Matrix B (3x2):\n",
            " [[0.37074531 0.14940261]\n",
            " [0.33896343 0.98971576]\n",
            " [0.66853078 0.51182771]]\n",
            "Resulting Matrix (5x2):\n",
            " [[0.16421033 0.24764313]\n",
            " [1.20892602 1.48382481]\n",
            " [0.59951261 0.95683825]\n",
            " [0.52545471 0.58352365]\n",
            " [0.32495282 0.60994876]]\n"
          ]
        }
      ]
    },
    {
      "cell_type": "code",
      "source": [
        "import numpy as np\n",
        "\n",
        "# Example 1D array\n",
        "array = np.array([1, 3, 5, 7, 9, 11])\n",
        "\n",
        "# Negate all elements which are between 3 and 8\n",
        "array[(array > 3) & (array < 8)] *= -1\n",
        "\n",
        "# Display the updated array\n",
        "print(array)\n"
      ],
      "metadata": {
        "colab": {
          "base_uri": "https://localhost:8080/"
        },
        "id": "aQuhKsMtHkZ9",
        "outputId": "26a36cfb-2caa-4f18-bf5d-bfaf5ee7c5b0"
      },
      "execution_count": 10,
      "outputs": [
        {
          "output_type": "stream",
          "name": "stdout",
          "text": [
            "[ 1  3 -5 -7  9 11]\n"
          ]
        }
      ]
    },
    {
      "cell_type": "code",
      "source": [
        "print(sum(range(5), -1))\n"
      ],
      "metadata": {
        "colab": {
          "base_uri": "https://localhost:8080/"
        },
        "id": "Q-mcs277H0Mm",
        "outputId": "ece67a02-0612-4dec-a9e2-291d655e06a1"
      },
      "execution_count": 11,
      "outputs": [
        {
          "output_type": "stream",
          "name": "stdout",
          "text": [
            "9\n"
          ]
        }
      ]
    },
    {
      "cell_type": "code",
      "source": [
        "from numpy import *\n",
        "print(sum(range(5), -1))\n"
      ],
      "metadata": {
        "colab": {
          "base_uri": "https://localhost:8080/"
        },
        "id": "Ge0I3jJhH4sy",
        "outputId": "85332ea1-814f-4ca0-82de-7f1fe98ee8ab"
      },
      "execution_count": 12,
      "outputs": [
        {
          "output_type": "stream",
          "name": "stdout",
          "text": [
            "10\n"
          ]
        }
      ]
    },
    {
      "cell_type": "markdown",
      "source": [
        "Z**Z\n",
        "\n",
        "Legal: This expression is legal. It performs element-wise exponentiation of Z by Z. For example, if Z = np.array([1, 2, 3]), the result would be array([1, 4, 27]).\n",
        "\n",
        "2 << Z >> 2\n",
        "\n",
        "Legal: This expression is legal. It performs bitwise left shift and then right shift operations. For example, if Z = np.array([1, 2, 3]), the result would be equivalent to shifting each element of 2 by Z positions to the left and then to the right by 2 positions.\n",
        "\n",
        "Z <- Z\n",
        "\n",
        "Illegal: This expression is not legal in NumPy as <- is not a valid operator. The correct expression for element-wise comparison would be something like Z < -Z.\n",
        "\n",
        "1j*Z\n",
        "\n",
        "Legal: This expression is legal. It performs element-wise multiplication of Z with the imaginary unit 1j, resulting in a complex array. For example, if Z = np.array([1, 2, 3]), the result would be array([0.+1.j, 0.+2.j, 0.+3.j]).\n",
        "\n",
        "Z/1/1\n",
        "\n",
        "Legal: This expression is legal. It divides Z by 1 twice, which essentially results in Z. For example, if Z = np.array([1, 2, 3]), the result would be array([1., 2., 3.]).\n",
        "\n",
        "Z<Z>Z\n",
        "\n",
        "Illegal: This expression is not legal in NumPy. Chained comparisons like Z < Z > Z are not supported in NumPy."
      ],
      "metadata": {
        "id": "VLrdS6AsIHQ2"
      }
    },
    {
      "cell_type": "code",
      "source": [
        "import numpy as np\n",
        "result = np.array(0) / np.array(0)\n",
        "print(result)  # nan\n"
      ],
      "metadata": {
        "colab": {
          "base_uri": "https://localhost:8080/"
        },
        "id": "VbapevhBIXcI",
        "outputId": "a9603165-9213-4c39-fbc0-73214911c2e7"
      },
      "execution_count": 13,
      "outputs": [
        {
          "output_type": "stream",
          "name": "stdout",
          "text": [
            "nan\n"
          ]
        },
        {
          "output_type": "stream",
          "name": "stderr",
          "text": [
            "<ipython-input-13-94ab483ecb4a>:2: RuntimeWarning: invalid value encountered in divide\n",
            "  result = np.array(0) / np.array(0)\n"
          ]
        }
      ]
    },
    {
      "cell_type": "code",
      "source": [
        "result = np.array(0) // np.array(0)\n",
        "print(result)  # 0\n"
      ],
      "metadata": {
        "colab": {
          "base_uri": "https://localhost:8080/"
        },
        "id": "2qk7U3SxIcdI",
        "outputId": "7733f800-33d2-4233-bf4e-b31533ab5bab"
      },
      "execution_count": 14,
      "outputs": [
        {
          "output_type": "stream",
          "name": "stdout",
          "text": [
            "0\n"
          ]
        },
        {
          "output_type": "stream",
          "name": "stderr",
          "text": [
            "<ipython-input-14-59d5546f9d55>:1: RuntimeWarning: divide by zero encountered in floor_divide\n",
            "  result = np.array(0) // np.array(0)\n"
          ]
        }
      ]
    },
    {
      "cell_type": "code",
      "source": [
        "result = np.array([np.nan]).astype(int).astype(float)\n",
        "print(result)  # [-9.22337204e+18]\n"
      ],
      "metadata": {
        "colab": {
          "base_uri": "https://localhost:8080/"
        },
        "id": "jN5z_3CDIhJ7",
        "outputId": "6c48b564-f082-4666-e004-37d124caff33"
      },
      "execution_count": 15,
      "outputs": [
        {
          "output_type": "stream",
          "name": "stdout",
          "text": [
            "[-9.22337204e+18]\n"
          ]
        },
        {
          "output_type": "stream",
          "name": "stderr",
          "text": [
            "<ipython-input-15-796d3bbfe3f2>:1: RuntimeWarning: invalid value encountered in cast\n",
            "  result = np.array([np.nan]).astype(int).astype(float)\n"
          ]
        }
      ]
    },
    {
      "cell_type": "code",
      "source": [
        "import numpy as np\n",
        "\n",
        "# Example float array\n",
        "float_array = np.array([-2.3, -1.5, -0.2, 0.2, 1.5, 2.3])\n",
        "\n",
        "# Function to round away from zero\n",
        "def round_away_from_zero(array):\n",
        "    return np.copysign(np.ceil(np.abs(array)), array)\n",
        "\n",
        "# Apply the function to the float array\n",
        "rounded_array = round_away_from_zero(float_array)\n",
        "\n",
        "# Display the result\n",
        "print(\"Original array:\", float_array)\n",
        "print(\"Rounded away from zero array:\", rounded_array)\n"
      ],
      "metadata": {
        "colab": {
          "base_uri": "https://localhost:8080/"
        },
        "id": "jWn3a8pNItBB",
        "outputId": "20a4d148-cbfd-4a6e-9db6-cc178c0657d3"
      },
      "execution_count": 16,
      "outputs": [
        {
          "output_type": "stream",
          "name": "stdout",
          "text": [
            "Original array: [-2.3 -1.5 -0.2  0.2  1.5  2.3]\n",
            "Rounded away from zero array: [-3. -2. -1.  1.  2.  3.]\n"
          ]
        }
      ]
    },
    {
      "cell_type": "code",
      "source": [
        "import numpy as np\n",
        "\n",
        "# Define two example arrays\n",
        "array1 = np.array([1, 2, 3, 4, 5])\n",
        "array2 = np.array([4, 5, 6, 7, 8])\n",
        "\n",
        "# Find common values\n",
        "common_values = np.intersect1d(array1, array2)\n",
        "\n",
        "# Display the result\n",
        "print(\"Array 1:\", array1)\n",
        "print(\"Array 2:\", array2)\n",
        "print(\"Common values:\", common_values)\n"
      ],
      "metadata": {
        "colab": {
          "base_uri": "https://localhost:8080/"
        },
        "id": "DsM7QHWkIxYC",
        "outputId": "31c39bef-6a5e-48fb-ff05-6aa9ac7d0752"
      },
      "execution_count": 17,
      "outputs": [
        {
          "output_type": "stream",
          "name": "stdout",
          "text": [
            "Array 1: [1 2 3 4 5]\n",
            "Array 2: [4 5 6 7 8]\n",
            "Common values: [4 5]\n"
          ]
        }
      ]
    }
  ]
}