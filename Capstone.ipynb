{
  "nbformat": 4,
  "nbformat_minor": 0,
  "metadata": {
    "colab": {
      "provenance": [],
      "authorship_tag": "ABX9TyM4HWeEeYQuWklzD4e5gg6n",
      "include_colab_link": true
    },
    "kernelspec": {
      "name": "python3",
      "display_name": "Python 3"
    },
    "language_info": {
      "name": "python"
    }
  },
  "cells": [
    {
      "cell_type": "markdown",
      "metadata": {
        "id": "view-in-github",
        "colab_type": "text"
      },
      "source": [
        "<a href=\"https://colab.research.google.com/github/RichardKameri/pydata/blob/main/Capstone.ipynb\" target=\"_parent\"><img src=\"https://colab.research.google.com/assets/colab-badge.svg\" alt=\"Open In Colab\"/></a>"
      ]
    },
    {
      "cell_type": "code",
      "execution_count": 1,
      "metadata": {
        "id": "K9qrJMLMn6nM"
      },
      "outputs": [],
      "source": [
        "import pandas as pd\n",
        "import numpy as np\n",
        "import matplotlib.pyplot as plt\n",
        "import seaborn as sns"
      ]
    },
    {
      "cell_type": "markdown",
      "source": [
        "LOADING THE DATASET"
      ],
      "metadata": {
        "id": "UmbDZ1gGoDDy"
      }
    },
    {
      "cell_type": "code",
      "source": [
        "# Loading the dataset\n",
        "df = pd.read_csv('/content/Credit card transactions - India - Simple.csv')"
      ],
      "metadata": {
        "id": "MhQYWmWZoq91"
      },
      "execution_count": 2,
      "outputs": []
    },
    {
      "cell_type": "code",
      "source": [
        "df.head()"
      ],
      "metadata": {
        "colab": {
          "base_uri": "https://localhost:8080/",
          "height": 206
        },
        "id": "9KJ5Mw3xpDye",
        "outputId": "f7bd8792-ab60-4d74-cfbd-251d355201f2"
      },
      "execution_count": 3,
      "outputs": [
        {
          "output_type": "execute_result",
          "data": {
            "text/plain": [
              "   index                   City       Date  Card Type Exp Type Gender  Amount\n",
              "0      0           Delhi, India  29-Oct-14       Gold    Bills      F   82475\n",
              "1      1  Greater Mumbai, India  22-Aug-14   Platinum    Bills      F   32555\n",
              "2      2       Bengaluru, India  27-Aug-14     Silver    Bills      F  101738\n",
              "3      3  Greater Mumbai, India  12-Apr-14  Signature    Bills      F  123424\n",
              "4      4       Bengaluru, India   5-May-15       Gold    Bills      F  171574"
            ],
            "text/html": [
              "\n",
              "  <div id=\"df-27ec7e8c-9ef7-4562-9469-ce4816589a5f\" class=\"colab-df-container\">\n",
              "    <div>\n",
              "<style scoped>\n",
              "    .dataframe tbody tr th:only-of-type {\n",
              "        vertical-align: middle;\n",
              "    }\n",
              "\n",
              "    .dataframe tbody tr th {\n",
              "        vertical-align: top;\n",
              "    }\n",
              "\n",
              "    .dataframe thead th {\n",
              "        text-align: right;\n",
              "    }\n",
              "</style>\n",
              "<table border=\"1\" class=\"dataframe\">\n",
              "  <thead>\n",
              "    <tr style=\"text-align: right;\">\n",
              "      <th></th>\n",
              "      <th>index</th>\n",
              "      <th>City</th>\n",
              "      <th>Date</th>\n",
              "      <th>Card Type</th>\n",
              "      <th>Exp Type</th>\n",
              "      <th>Gender</th>\n",
              "      <th>Amount</th>\n",
              "    </tr>\n",
              "  </thead>\n",
              "  <tbody>\n",
              "    <tr>\n",
              "      <th>0</th>\n",
              "      <td>0</td>\n",
              "      <td>Delhi, India</td>\n",
              "      <td>29-Oct-14</td>\n",
              "      <td>Gold</td>\n",
              "      <td>Bills</td>\n",
              "      <td>F</td>\n",
              "      <td>82475</td>\n",
              "    </tr>\n",
              "    <tr>\n",
              "      <th>1</th>\n",
              "      <td>1</td>\n",
              "      <td>Greater Mumbai, India</td>\n",
              "      <td>22-Aug-14</td>\n",
              "      <td>Platinum</td>\n",
              "      <td>Bills</td>\n",
              "      <td>F</td>\n",
              "      <td>32555</td>\n",
              "    </tr>\n",
              "    <tr>\n",
              "      <th>2</th>\n",
              "      <td>2</td>\n",
              "      <td>Bengaluru, India</td>\n",
              "      <td>27-Aug-14</td>\n",
              "      <td>Silver</td>\n",
              "      <td>Bills</td>\n",
              "      <td>F</td>\n",
              "      <td>101738</td>\n",
              "    </tr>\n",
              "    <tr>\n",
              "      <th>3</th>\n",
              "      <td>3</td>\n",
              "      <td>Greater Mumbai, India</td>\n",
              "      <td>12-Apr-14</td>\n",
              "      <td>Signature</td>\n",
              "      <td>Bills</td>\n",
              "      <td>F</td>\n",
              "      <td>123424</td>\n",
              "    </tr>\n",
              "    <tr>\n",
              "      <th>4</th>\n",
              "      <td>4</td>\n",
              "      <td>Bengaluru, India</td>\n",
              "      <td>5-May-15</td>\n",
              "      <td>Gold</td>\n",
              "      <td>Bills</td>\n",
              "      <td>F</td>\n",
              "      <td>171574</td>\n",
              "    </tr>\n",
              "  </tbody>\n",
              "</table>\n",
              "</div>\n",
              "    <div class=\"colab-df-buttons\">\n",
              "\n",
              "  <div class=\"colab-df-container\">\n",
              "    <button class=\"colab-df-convert\" onclick=\"convertToInteractive('df-27ec7e8c-9ef7-4562-9469-ce4816589a5f')\"\n",
              "            title=\"Convert this dataframe to an interactive table.\"\n",
              "            style=\"display:none;\">\n",
              "\n",
              "  <svg xmlns=\"http://www.w3.org/2000/svg\" height=\"24px\" viewBox=\"0 -960 960 960\">\n",
              "    <path d=\"M120-120v-720h720v720H120Zm60-500h600v-160H180v160Zm220 220h160v-160H400v160Zm0 220h160v-160H400v160ZM180-400h160v-160H180v160Zm440 0h160v-160H620v160ZM180-180h160v-160H180v160Zm440 0h160v-160H620v160Z\"/>\n",
              "  </svg>\n",
              "    </button>\n",
              "\n",
              "  <style>\n",
              "    .colab-df-container {\n",
              "      display:flex;\n",
              "      gap: 12px;\n",
              "    }\n",
              "\n",
              "    .colab-df-convert {\n",
              "      background-color: #E8F0FE;\n",
              "      border: none;\n",
              "      border-radius: 50%;\n",
              "      cursor: pointer;\n",
              "      display: none;\n",
              "      fill: #1967D2;\n",
              "      height: 32px;\n",
              "      padding: 0 0 0 0;\n",
              "      width: 32px;\n",
              "    }\n",
              "\n",
              "    .colab-df-convert:hover {\n",
              "      background-color: #E2EBFA;\n",
              "      box-shadow: 0px 1px 2px rgba(60, 64, 67, 0.3), 0px 1px 3px 1px rgba(60, 64, 67, 0.15);\n",
              "      fill: #174EA6;\n",
              "    }\n",
              "\n",
              "    .colab-df-buttons div {\n",
              "      margin-bottom: 4px;\n",
              "    }\n",
              "\n",
              "    [theme=dark] .colab-df-convert {\n",
              "      background-color: #3B4455;\n",
              "      fill: #D2E3FC;\n",
              "    }\n",
              "\n",
              "    [theme=dark] .colab-df-convert:hover {\n",
              "      background-color: #434B5C;\n",
              "      box-shadow: 0px 1px 3px 1px rgba(0, 0, 0, 0.15);\n",
              "      filter: drop-shadow(0px 1px 2px rgba(0, 0, 0, 0.3));\n",
              "      fill: #FFFFFF;\n",
              "    }\n",
              "  </style>\n",
              "\n",
              "    <script>\n",
              "      const buttonEl =\n",
              "        document.querySelector('#df-27ec7e8c-9ef7-4562-9469-ce4816589a5f button.colab-df-convert');\n",
              "      buttonEl.style.display =\n",
              "        google.colab.kernel.accessAllowed ? 'block' : 'none';\n",
              "\n",
              "      async function convertToInteractive(key) {\n",
              "        const element = document.querySelector('#df-27ec7e8c-9ef7-4562-9469-ce4816589a5f');\n",
              "        const dataTable =\n",
              "          await google.colab.kernel.invokeFunction('convertToInteractive',\n",
              "                                                    [key], {});\n",
              "        if (!dataTable) return;\n",
              "\n",
              "        const docLinkHtml = 'Like what you see? Visit the ' +\n",
              "          '<a target=\"_blank\" href=https://colab.research.google.com/notebooks/data_table.ipynb>data table notebook</a>'\n",
              "          + ' to learn more about interactive tables.';\n",
              "        element.innerHTML = '';\n",
              "        dataTable['output_type'] = 'display_data';\n",
              "        await google.colab.output.renderOutput(dataTable, element);\n",
              "        const docLink = document.createElement('div');\n",
              "        docLink.innerHTML = docLinkHtml;\n",
              "        element.appendChild(docLink);\n",
              "      }\n",
              "    </script>\n",
              "  </div>\n",
              "\n",
              "\n",
              "<div id=\"df-2c8f2d72-ad25-4600-ab9d-010edbff91b8\">\n",
              "  <button class=\"colab-df-quickchart\" onclick=\"quickchart('df-2c8f2d72-ad25-4600-ab9d-010edbff91b8')\"\n",
              "            title=\"Suggest charts\"\n",
              "            style=\"display:none;\">\n",
              "\n",
              "<svg xmlns=\"http://www.w3.org/2000/svg\" height=\"24px\"viewBox=\"0 0 24 24\"\n",
              "     width=\"24px\">\n",
              "    <g>\n",
              "        <path d=\"M19 3H5c-1.1 0-2 .9-2 2v14c0 1.1.9 2 2 2h14c1.1 0 2-.9 2-2V5c0-1.1-.9-2-2-2zM9 17H7v-7h2v7zm4 0h-2V7h2v10zm4 0h-2v-4h2v4z\"/>\n",
              "    </g>\n",
              "</svg>\n",
              "  </button>\n",
              "\n",
              "<style>\n",
              "  .colab-df-quickchart {\n",
              "      --bg-color: #E8F0FE;\n",
              "      --fill-color: #1967D2;\n",
              "      --hover-bg-color: #E2EBFA;\n",
              "      --hover-fill-color: #174EA6;\n",
              "      --disabled-fill-color: #AAA;\n",
              "      --disabled-bg-color: #DDD;\n",
              "  }\n",
              "\n",
              "  [theme=dark] .colab-df-quickchart {\n",
              "      --bg-color: #3B4455;\n",
              "      --fill-color: #D2E3FC;\n",
              "      --hover-bg-color: #434B5C;\n",
              "      --hover-fill-color: #FFFFFF;\n",
              "      --disabled-bg-color: #3B4455;\n",
              "      --disabled-fill-color: #666;\n",
              "  }\n",
              "\n",
              "  .colab-df-quickchart {\n",
              "    background-color: var(--bg-color);\n",
              "    border: none;\n",
              "    border-radius: 50%;\n",
              "    cursor: pointer;\n",
              "    display: none;\n",
              "    fill: var(--fill-color);\n",
              "    height: 32px;\n",
              "    padding: 0;\n",
              "    width: 32px;\n",
              "  }\n",
              "\n",
              "  .colab-df-quickchart:hover {\n",
              "    background-color: var(--hover-bg-color);\n",
              "    box-shadow: 0 1px 2px rgba(60, 64, 67, 0.3), 0 1px 3px 1px rgba(60, 64, 67, 0.15);\n",
              "    fill: var(--button-hover-fill-color);\n",
              "  }\n",
              "\n",
              "  .colab-df-quickchart-complete:disabled,\n",
              "  .colab-df-quickchart-complete:disabled:hover {\n",
              "    background-color: var(--disabled-bg-color);\n",
              "    fill: var(--disabled-fill-color);\n",
              "    box-shadow: none;\n",
              "  }\n",
              "\n",
              "  .colab-df-spinner {\n",
              "    border: 2px solid var(--fill-color);\n",
              "    border-color: transparent;\n",
              "    border-bottom-color: var(--fill-color);\n",
              "    animation:\n",
              "      spin 1s steps(1) infinite;\n",
              "  }\n",
              "\n",
              "  @keyframes spin {\n",
              "    0% {\n",
              "      border-color: transparent;\n",
              "      border-bottom-color: var(--fill-color);\n",
              "      border-left-color: var(--fill-color);\n",
              "    }\n",
              "    20% {\n",
              "      border-color: transparent;\n",
              "      border-left-color: var(--fill-color);\n",
              "      border-top-color: var(--fill-color);\n",
              "    }\n",
              "    30% {\n",
              "      border-color: transparent;\n",
              "      border-left-color: var(--fill-color);\n",
              "      border-top-color: var(--fill-color);\n",
              "      border-right-color: var(--fill-color);\n",
              "    }\n",
              "    40% {\n",
              "      border-color: transparent;\n",
              "      border-right-color: var(--fill-color);\n",
              "      border-top-color: var(--fill-color);\n",
              "    }\n",
              "    60% {\n",
              "      border-color: transparent;\n",
              "      border-right-color: var(--fill-color);\n",
              "    }\n",
              "    80% {\n",
              "      border-color: transparent;\n",
              "      border-right-color: var(--fill-color);\n",
              "      border-bottom-color: var(--fill-color);\n",
              "    }\n",
              "    90% {\n",
              "      border-color: transparent;\n",
              "      border-bottom-color: var(--fill-color);\n",
              "    }\n",
              "  }\n",
              "</style>\n",
              "\n",
              "  <script>\n",
              "    async function quickchart(key) {\n",
              "      const quickchartButtonEl =\n",
              "        document.querySelector('#' + key + ' button');\n",
              "      quickchartButtonEl.disabled = true;  // To prevent multiple clicks.\n",
              "      quickchartButtonEl.classList.add('colab-df-spinner');\n",
              "      try {\n",
              "        const charts = await google.colab.kernel.invokeFunction(\n",
              "            'suggestCharts', [key], {});\n",
              "      } catch (error) {\n",
              "        console.error('Error during call to suggestCharts:', error);\n",
              "      }\n",
              "      quickchartButtonEl.classList.remove('colab-df-spinner');\n",
              "      quickchartButtonEl.classList.add('colab-df-quickchart-complete');\n",
              "    }\n",
              "    (() => {\n",
              "      let quickchartButtonEl =\n",
              "        document.querySelector('#df-2c8f2d72-ad25-4600-ab9d-010edbff91b8 button');\n",
              "      quickchartButtonEl.style.display =\n",
              "        google.colab.kernel.accessAllowed ? 'block' : 'none';\n",
              "    })();\n",
              "  </script>\n",
              "</div>\n",
              "\n",
              "    </div>\n",
              "  </div>\n"
            ],
            "application/vnd.google.colaboratory.intrinsic+json": {
              "type": "dataframe",
              "variable_name": "df",
              "summary": "{\n  \"name\": \"df\",\n  \"rows\": 26052,\n  \"fields\": [\n    {\n      \"column\": \"index\",\n      \"properties\": {\n        \"dtype\": \"number\",\n        \"std\": 7520,\n        \"min\": 0,\n        \"max\": 26051,\n        \"num_unique_values\": 26052,\n        \"samples\": [\n          16819,\n          1972,\n          8157\n        ],\n        \"semantic_type\": \"\",\n        \"description\": \"\"\n      }\n    },\n    {\n      \"column\": \"City\",\n      \"properties\": {\n        \"dtype\": \"category\",\n        \"num_unique_values\": 986,\n        \"samples\": [\n          \"Modinagar, India\",\n          \"Tharamangalam, India\",\n          \"Faridkot, India\"\n        ],\n        \"semantic_type\": \"\",\n        \"description\": \"\"\n      }\n    },\n    {\n      \"column\": \"Date\",\n      \"properties\": {\n        \"dtype\": \"object\",\n        \"num_unique_values\": 600,\n        \"samples\": [\n          \"22-May-15\",\n          \"7-Dec-14\",\n          \"20-Jul-14\"\n        ],\n        \"semantic_type\": \"\",\n        \"description\": \"\"\n      }\n    },\n    {\n      \"column\": \"Card Type\",\n      \"properties\": {\n        \"dtype\": \"category\",\n        \"num_unique_values\": 4,\n        \"samples\": [\n          \"Platinum\",\n          \"Signature\",\n          \"Gold\"\n        ],\n        \"semantic_type\": \"\",\n        \"description\": \"\"\n      }\n    },\n    {\n      \"column\": \"Exp Type\",\n      \"properties\": {\n        \"dtype\": \"category\",\n        \"num_unique_values\": 6,\n        \"samples\": [\n          \"Bills\",\n          \"Food\",\n          \"Travel\"\n        ],\n        \"semantic_type\": \"\",\n        \"description\": \"\"\n      }\n    },\n    {\n      \"column\": \"Gender\",\n      \"properties\": {\n        \"dtype\": \"category\",\n        \"num_unique_values\": 2,\n        \"samples\": [\n          \"M\",\n          \"F\"\n        ],\n        \"semantic_type\": \"\",\n        \"description\": \"\"\n      }\n    },\n    {\n      \"column\": \"Amount\",\n      \"properties\": {\n        \"dtype\": \"number\",\n        \"std\": 103063,\n        \"min\": 1005,\n        \"max\": 998077,\n        \"num_unique_values\": 24972,\n        \"samples\": [\n          44636,\n          222834\n        ],\n        \"semantic_type\": \"\",\n        \"description\": \"\"\n      }\n    }\n  ]\n}"
            }
          },
          "metadata": {},
          "execution_count": 3
        }
      ]
    },
    {
      "cell_type": "markdown",
      "source": [
        "WORKFLOW\n",
        "\n",
        "Understanding the data\n",
        "Datacleaning\n",
        "Exploratoy data Analysis\n",
        "Insights\n"
      ],
      "metadata": {
        "id": "W3a7zvB2pL2a"
      }
    },
    {
      "cell_type": "code",
      "source": [
        "# shape of the data\n",
        "df.shape"
      ],
      "metadata": {
        "colab": {
          "base_uri": "https://localhost:8080/"
        },
        "id": "rVs3wqavpgpU",
        "outputId": "a502163a-70bd-403d-cf17-7912f9e0b6b3"
      },
      "execution_count": 4,
      "outputs": [
        {
          "output_type": "execute_result",
          "data": {
            "text/plain": [
              "(26052, 7)"
            ]
          },
          "metadata": {},
          "execution_count": 4
        }
      ]
    },
    {
      "cell_type": "code",
      "source": [
        "# information the data\n",
        "df.info()"
      ],
      "metadata": {
        "colab": {
          "base_uri": "https://localhost:8080/"
        },
        "id": "PXPv0Sfspp1u",
        "outputId": "aeb18d5c-009c-4ef7-915f-261bc905ed54"
      },
      "execution_count": 5,
      "outputs": [
        {
          "output_type": "stream",
          "name": "stdout",
          "text": [
            "<class 'pandas.core.frame.DataFrame'>\n",
            "RangeIndex: 26052 entries, 0 to 26051\n",
            "Data columns (total 7 columns):\n",
            " #   Column     Non-Null Count  Dtype \n",
            "---  ------     --------------  ----- \n",
            " 0   index      26052 non-null  int64 \n",
            " 1   City       26052 non-null  object\n",
            " 2   Date       26052 non-null  object\n",
            " 3   Card Type  26052 non-null  object\n",
            " 4   Exp Type   26052 non-null  object\n",
            " 5   Gender     26052 non-null  object\n",
            " 6   Amount     26052 non-null  int64 \n",
            "dtypes: int64(2), object(5)\n",
            "memory usage: 1.4+ MB\n"
          ]
        }
      ]
    },
    {
      "cell_type": "markdown",
      "source": [
        "INSIGHTS\n",
        "\n",
        "Date column must be datetime datatype\n",
        "\n",
        "No null values in any column"
      ],
      "metadata": {
        "id": "FoPjCkz2p0hE"
      }
    },
    {
      "cell_type": "code",
      "source": [
        "# details about the dataset\n",
        "Card_Type = df['Card Type'].unique()\n",
        "print('Card Types = ', Card_Type)\n",
        "Exp_Type = df['Exp Type'].unique()\n",
        "print('Expense Types = ', Exp_Type)\n",
        "City = len(df['City'].unique())\n",
        "print('Cities = ', City)"
      ],
      "metadata": {
        "colab": {
          "base_uri": "https://localhost:8080/"
        },
        "id": "_anBfsU4qE7t",
        "outputId": "dba78270-79bb-4544-8963-22d0bf9f8b4c"
      },
      "execution_count": 6,
      "outputs": [
        {
          "output_type": "stream",
          "name": "stdout",
          "text": [
            "Card Types =  ['Gold' 'Platinum' 'Silver' 'Signature']\n",
            "Expense Types =  ['Bills' 'Food' 'Entertainment' 'Grocery' 'Fuel' 'Travel']\n",
            "Cities =  986\n"
          ]
        }
      ]
    },
    {
      "cell_type": "code",
      "source": [
        "# check duplicates\n",
        "df.duplicated().sum()"
      ],
      "metadata": {
        "colab": {
          "base_uri": "https://localhost:8080/"
        },
        "id": "aCgK3bQNqZjC",
        "outputId": "d973766d-d612-44d4-a787-afb4c4048c12"
      },
      "execution_count": 7,
      "outputs": [
        {
          "output_type": "execute_result",
          "data": {
            "text/plain": [
              "0"
            ]
          },
          "metadata": {},
          "execution_count": 7
        }
      ]
    },
    {
      "cell_type": "markdown",
      "source": [
        "DATA CLEANING\n",
        "\n",
        "Object to  Date datatype Conersion\n"
      ],
      "metadata": {
        "id": "cPxArSRcqgS2"
      }
    },
    {
      "cell_type": "code",
      "source": [
        "# Object to Date datatype Conversion\n",
        "df['Date'] = pd.to_datetime(df['Date'])\n",
        "df.dtypes"
      ],
      "metadata": {
        "colab": {
          "base_uri": "https://localhost:8080/",
          "height": 338
        },
        "id": "9eW8H0gCq4sL",
        "outputId": "4a2b905d-cd5e-47d3-a6f6-198692a2ec76"
      },
      "execution_count": 8,
      "outputs": [
        {
          "output_type": "stream",
          "name": "stderr",
          "text": [
            "<ipython-input-8-8e481bae5635>:2: UserWarning: Could not infer format, so each element will be parsed individually, falling back to `dateutil`. To ensure parsing is consistent and as-expected, please specify a format.\n",
            "  df['Date'] = pd.to_datetime(df['Date'])\n"
          ]
        },
        {
          "output_type": "execute_result",
          "data": {
            "text/plain": [
              "index                 int64\n",
              "City                 object\n",
              "Date         datetime64[ns]\n",
              "Card Type            object\n",
              "Exp Type             object\n",
              "Gender               object\n",
              "Amount                int64\n",
              "dtype: object"
            ],
            "text/html": [
              "<div>\n",
              "<style scoped>\n",
              "    .dataframe tbody tr th:only-of-type {\n",
              "        vertical-align: middle;\n",
              "    }\n",
              "\n",
              "    .dataframe tbody tr th {\n",
              "        vertical-align: top;\n",
              "    }\n",
              "\n",
              "    .dataframe thead th {\n",
              "        text-align: right;\n",
              "    }\n",
              "</style>\n",
              "<table border=\"1\" class=\"dataframe\">\n",
              "  <thead>\n",
              "    <tr style=\"text-align: right;\">\n",
              "      <th></th>\n",
              "      <th>0</th>\n",
              "    </tr>\n",
              "  </thead>\n",
              "  <tbody>\n",
              "    <tr>\n",
              "      <th>index</th>\n",
              "      <td>int64</td>\n",
              "    </tr>\n",
              "    <tr>\n",
              "      <th>City</th>\n",
              "      <td>object</td>\n",
              "    </tr>\n",
              "    <tr>\n",
              "      <th>Date</th>\n",
              "      <td>datetime64[ns]</td>\n",
              "    </tr>\n",
              "    <tr>\n",
              "      <th>Card Type</th>\n",
              "      <td>object</td>\n",
              "    </tr>\n",
              "    <tr>\n",
              "      <th>Exp Type</th>\n",
              "      <td>object</td>\n",
              "    </tr>\n",
              "    <tr>\n",
              "      <th>Gender</th>\n",
              "      <td>object</td>\n",
              "    </tr>\n",
              "    <tr>\n",
              "      <th>Amount</th>\n",
              "      <td>int64</td>\n",
              "    </tr>\n",
              "  </tbody>\n",
              "</table>\n",
              "</div><br><label><b>dtype:</b> object</label>"
            ]
          },
          "metadata": {},
          "execution_count": 8
        }
      ]
    },
    {
      "cell_type": "markdown",
      "source": [
        "EXPLORATORY DATA ANALYSIS\n",
        "\n",
        "WHICH CARD TYPE IS THE MOST POPULAR\n"
      ],
      "metadata": {
        "id": "fmqIzdZ-ritC"
      }
    },
    {
      "cell_type": "code",
      "source": [
        "p_card = df['Card Type'].value_counts()\n",
        "p_card"
      ],
      "metadata": {
        "colab": {
          "base_uri": "https://localhost:8080/",
          "height": 241
        },
        "id": "sJBfH-umrzwz",
        "outputId": "0922f697-13b8-48ae-8dba-fa63c1c4b0f3"
      },
      "execution_count": 9,
      "outputs": [
        {
          "output_type": "execute_result",
          "data": {
            "text/plain": [
              "Card Type\n",
              "Silver       6840\n",
              "Signature    6447\n",
              "Platinum     6398\n",
              "Gold         6367\n",
              "Name: count, dtype: int64"
            ],
            "text/html": [
              "<div>\n",
              "<style scoped>\n",
              "    .dataframe tbody tr th:only-of-type {\n",
              "        vertical-align: middle;\n",
              "    }\n",
              "\n",
              "    .dataframe tbody tr th {\n",
              "        vertical-align: top;\n",
              "    }\n",
              "\n",
              "    .dataframe thead th {\n",
              "        text-align: right;\n",
              "    }\n",
              "</style>\n",
              "<table border=\"1\" class=\"dataframe\">\n",
              "  <thead>\n",
              "    <tr style=\"text-align: right;\">\n",
              "      <th></th>\n",
              "      <th>count</th>\n",
              "    </tr>\n",
              "    <tr>\n",
              "      <th>Card Type</th>\n",
              "      <th></th>\n",
              "    </tr>\n",
              "  </thead>\n",
              "  <tbody>\n",
              "    <tr>\n",
              "      <th>Silver</th>\n",
              "      <td>6840</td>\n",
              "    </tr>\n",
              "    <tr>\n",
              "      <th>Signature</th>\n",
              "      <td>6447</td>\n",
              "    </tr>\n",
              "    <tr>\n",
              "      <th>Platinum</th>\n",
              "      <td>6398</td>\n",
              "    </tr>\n",
              "    <tr>\n",
              "      <th>Gold</th>\n",
              "      <td>6367</td>\n",
              "    </tr>\n",
              "  </tbody>\n",
              "</table>\n",
              "</div><br><label><b>dtype:</b> int64</label>"
            ]
          },
          "metadata": {},
          "execution_count": 9
        }
      ]
    },
    {
      "cell_type": "code",
      "source": [
        "# piechart for card_type\n",
        "plt.figure(figsize=(6,6))\n",
        "l=[\"Silver\", \"Signature\", \"Platinum\", \"Gold\"]\n",
        "plt.pie(p_card, labels=l, autopct='%1.1f%%')\n",
        "plt.show()"
      ],
      "metadata": {
        "colab": {
          "base_uri": "https://localhost:8080/",
          "height": 499
        },
        "id": "9B8ju-7Zr_pU",
        "outputId": "7ab3bd97-04f9-49a4-ecfa-27567478636b"
      },
      "execution_count": 10,
      "outputs": [
        {
          "output_type": "display_data",
          "data": {
            "text/plain": [
              "<Figure size 600x600 with 1 Axes>"
            ],
            "image/png": "[encoded data removed]"
          },
          "metadata": {}
        }
      ]
    },
    {
      "cell_type": "markdown",
      "source": [
        "Silver card type is the most popular"
      ],
      "metadata": {
        "id": "w8PKzZqCtDa6"
      }
    },
    {
      "cell_type": "markdown",
      "source": [
        "The popularity of the Silver card type in the \"Credit Card Spending Habits\" project could be attributed to several factors:\n",
        "\n",
        "Affordability: Silver cards often come with lower annual fees and interest rates compared to Gold or Platinum cards, making them more accessible to a wider range of customers.\n",
        "\n",
        "Rewards and Benefits: Silver cards may offer a balanced mix of rewards and benefits, such as cashback on everyday purchases, travel rewards, and discounts on partner services, which appeal to a broad audience.\n",
        "\n",
        "Simplicity: These cards typically have straightforward terms and conditions, making them easier for users to understand and manage.\n",
        "\n",
        "Target Audience: The Silver card might be marketed towards a demographic that values practical benefits over premium services, aligning well with the spending habits and preferences of this group."
      ],
      "metadata": {
        "id": "oBoprOLN9e4h"
      }
    },
    {
      "cell_type": "markdown",
      "source": [
        "WHICH EXPENSE IS THE MOST POPULAR"
      ],
      "metadata": {
        "id": "kjWX6DlOtQvl"
      }
    },
    {
      "cell_type": "code",
      "source": [
        "# Which expense is the most popular\n",
        "p_exp = df['Exp Type'].value_counts()\n",
        "p_exp"
      ],
      "metadata": {
        "colab": {
          "base_uri": "https://localhost:8080/",
          "height": 304
        },
        "id": "9Ei1d-cxtYad",
        "outputId": "a30e0aa2-041d-405c-cd7e-343286d671f6"
      },
      "execution_count": 11,
      "outputs": [
        {
          "output_type": "execute_result",
          "data": {
            "text/plain": [
              "Exp Type\n",
              "Food             5463\n",
              "Fuel             5257\n",
              "Bills            5078\n",
              "Entertainment    4762\n",
              "Grocery          4754\n",
              "Travel            738\n",
              "Name: count, dtype: int64"
            ],
            "text/html": [
              "<div>\n",
              "<style scoped>\n",
              "    .dataframe tbody tr th:only-of-type {\n",
              "        vertical-align: middle;\n",
              "    }\n",
              "\n",
              "    .dataframe tbody tr th {\n",
              "        vertical-align: top;\n",
              "    }\n",
              "\n",
              "    .dataframe thead th {\n",
              "        text-align: right;\n",
              "    }\n",
              "</style>\n",
              "<table border=\"1\" class=\"dataframe\">\n",
              "  <thead>\n",
              "    <tr style=\"text-align: right;\">\n",
              "      <th></th>\n",
              "      <th>count</th>\n",
              "    </tr>\n",
              "    <tr>\n",
              "      <th>Exp Type</th>\n",
              "      <th></th>\n",
              "    </tr>\n",
              "  </thead>\n",
              "  <tbody>\n",
              "    <tr>\n",
              "      <th>Food</th>\n",
              "      <td>5463</td>\n",
              "    </tr>\n",
              "    <tr>\n",
              "      <th>Fuel</th>\n",
              "      <td>5257</td>\n",
              "    </tr>\n",
              "    <tr>\n",
              "      <th>Bills</th>\n",
              "      <td>5078</td>\n",
              "    </tr>\n",
              "    <tr>\n",
              "      <th>Entertainment</th>\n",
              "      <td>4762</td>\n",
              "    </tr>\n",
              "    <tr>\n",
              "      <th>Grocery</th>\n",
              "      <td>4754</td>\n",
              "    </tr>\n",
              "    <tr>\n",
              "      <th>Travel</th>\n",
              "      <td>738</td>\n",
              "    </tr>\n",
              "  </tbody>\n",
              "</table>\n",
              "</div><br><label><b>dtype:</b> int64</label>"
            ]
          },
          "metadata": {},
          "execution_count": 11
        }
      ]
    },
    {
      "cell_type": "code",
      "source": [
        "# bar plot for expenses\n",
        "plt.figure(figsize=(8,6))\n",
        "sns.countplot(x = \"Exp Type\", data=df, edgecolor=\"black\")\n",
        "plt.show()"
      ],
      "metadata": {
        "colab": {
          "base_uri": "https://localhost:8080/",
          "height": 542
        },
        "id": "0nsGPP0Btkis",
        "outputId": "75e47d26-9e52-4f00-9cd4-b61da2a24144"
      },
      "execution_count": 12,
      "outputs": [
        {
          "output_type": "display_data",
          "data": {
            "text/plain": [
              "<Figure size 800x600 with 1 Axes>"
            ],
            "image/png": "[encoded data removed]"
          },
          "metadata": {}
        }
      ]
    },
    {
      "cell_type": "markdown",
      "source": [
        "Food expense is the most popular"
      ],
      "metadata": {
        "id": "v0nCB2RHusFY"
      }
    },
    {
      "cell_type": "markdown",
      "source": [
        "ood being the most popular expense in the \"Credit Card Spending Habits\" project can be attributed to several reasons:\n",
        "\n",
        "Essential Nature: Food is a basic necessity, and people need to eat regularly, making it a consistent and recurring expense.\n",
        "\n",
        "Frequency of Purchase: Unlike other expenses that might be occasional, food purchases happen frequently, contributing to its prominence in spending data.\n",
        "\n",
        "Variety of Spending: Food expenses can include groceries, dining out, takeaways, and more, covering a wide range of spending habits.\n",
        "\n",
        "Convenience: With the rise of online grocery shopping and food delivery services, it's easier than ever for people to spend on food using credit cards.\n",
        "\n",
        "Reward Programs: Many credit cards offer rewards or cashback on food purchases, encouraging people to use their cards for these transactions."
      ],
      "metadata": {
        "id": "t1e6lWub9_DJ"
      }
    },
    {
      "cell_type": "markdown",
      "source": [
        "WHICH GENDER SPEND MORE IN CREDIT CARD"
      ],
      "metadata": {
        "id": "LpNfSD0xuxvT"
      }
    },
    {
      "cell_type": "code",
      "source": [
        "# Which gender spends more on credit card\n",
        "df.groupby('Gender')['Amount'].sum()\n"
      ],
      "metadata": {
        "colab": {
          "base_uri": "https://localhost:8080/",
          "height": 178
        },
        "id": "TvhPoXFdu6Sh",
        "outputId": "547527be-96ec-4b67-a471-530d88f93415"
      },
      "execution_count": 13,
      "outputs": [
        {
          "output_type": "execute_result",
          "data": {
            "text/plain": [
              "Gender\n",
              "F    2205311030\n",
              "M    1869522343\n",
              "Name: Amount, dtype: int64"
            ],
            "text/html": [
              "<div>\n",
              "<style scoped>\n",
              "    .dataframe tbody tr th:only-of-type {\n",
              "        vertical-align: middle;\n",
              "    }\n",
              "\n",
              "    .dataframe tbody tr th {\n",
              "        vertical-align: top;\n",
              "    }\n",
              "\n",
              "    .dataframe thead th {\n",
              "        text-align: right;\n",
              "    }\n",
              "</style>\n",
              "<table border=\"1\" class=\"dataframe\">\n",
              "  <thead>\n",
              "    <tr style=\"text-align: right;\">\n",
              "      <th></th>\n",
              "      <th>Amount</th>\n",
              "    </tr>\n",
              "    <tr>\n",
              "      <th>Gender</th>\n",
              "      <th></th>\n",
              "    </tr>\n",
              "  </thead>\n",
              "  <tbody>\n",
              "    <tr>\n",
              "      <th>F</th>\n",
              "      <td>2205311030</td>\n",
              "    </tr>\n",
              "    <tr>\n",
              "      <th>M</th>\n",
              "      <td>1869522343</td>\n",
              "    </tr>\n",
              "  </tbody>\n",
              "</table>\n",
              "</div><br><label><b>dtype:</b> int64</label>"
            ]
          },
          "metadata": {},
          "execution_count": 13
        }
      ]
    },
    {
      "cell_type": "code",
      "source": [
        "# piechart of spending by gender\n",
        "plt.figure(figsize=(6,6))\n",
        "l=[\"Male\", \"Female\"]\n",
        "plt.pie(df.groupby('Gender')['Amount'].sum(), labels=l, autopct='%1.1f%%')\n",
        "plt.show()"
      ],
      "metadata": {
        "colab": {
          "base_uri": "https://localhost:8080/",
          "height": 499
        },
        "id": "DVW-tKdmvLMT",
        "outputId": "180839a2-e8d9-483f-c8ae-ca973649d2bd"
      },
      "execution_count": 14,
      "outputs": [
        {
          "output_type": "display_data",
          "data": {
            "text/plain": [
              "<Figure size 600x600 with 1 Axes>"
            ],
            "image/png": "[encoded data removed]"
          },
          "metadata": {}
        }
      ]
    },
    {
      "cell_type": "markdown",
      "source": [
        "Females spends more in credit cards\n"
      ],
      "metadata": {
        "id": "aOnPVyR9vYk8"
      }
    },
    {
      "cell_type": "markdown",
      "source": [
        "There are several reasons why females might spend more on credit cards, based on various studies and observations:\n",
        "\n",
        "Supplementing Income: Women often use credit cards to supplement their income, especially if they earn less than men on average. This can lead to higher credit card usage for everyday expenses1.\n",
        "\n",
        "Practical Spending: Women tend to view credit cards as an extension of their salary and make more practical purchases. This means they might use credit cards for necessary expenses more frequently1.\n",
        "\n",
        "Budgeting and Awareness: Women are generally more aware of their finances and better at budgeting. This heightened financial awareness can lead to more strategic use of credit cards to manage cash flow.\n",
        "\n",
        "Shopping Habits: Studies have shown that women are more likely to engage in online shopping and make impulse purchases, which can increase credit card spending.\n",
        "\n",
        "Reward Programs: Many credit cards offer rewards and cashback on purchases, which can incentivize higher spending, especially in categories like groceries and household items that women frequently purchase."
      ],
      "metadata": {
        "id": "uOIubKVm-dDT"
      }
    },
    {
      "cell_type": "markdown",
      "source": [
        "WHICH MONTH OF THE YEAR CREDIT CARD USAGE IS THE HIGHEST"
      ],
      "metadata": {
        "id": "yyixwOJPvftb"
      }
    },
    {
      "cell_type": "code",
      "source": [
        "# whichmonth of the year credit card usage is highest\n",
        "df['Date'].dt.month.value_counts()\n"
      ],
      "metadata": {
        "colab": {
          "base_uri": "https://localhost:8080/",
          "height": 492
        },
        "id": "hECcI8EBvrc-",
        "outputId": "197ba879-c069-4fc9-d3f5-2db24ba405ee"
      },
      "execution_count": 15,
      "outputs": [
        {
          "output_type": "execute_result",
          "data": {
            "text/plain": [
              "Date\n",
              "1     2722\n",
              "12    2702\n",
              "10    2665\n",
              "3     2622\n",
              "11    2622\n",
              "4     2587\n",
              "5     2436\n",
              "2     2433\n",
              "8     1393\n",
              "9     1321\n",
              "7     1310\n",
              "6     1239\n",
              "Name: count, dtype: int64"
            ],
            "text/html": [
              "<div>\n",
              "<style scoped>\n",
              "    .dataframe tbody tr th:only-of-type {\n",
              "        vertical-align: middle;\n",
              "    }\n",
              "\n",
              "    .dataframe tbody tr th {\n",
              "        vertical-align: top;\n",
              "    }\n",
              "\n",
              "    .dataframe thead th {\n",
              "        text-align: right;\n",
              "    }\n",
              "</style>\n",
              "<table border=\"1\" class=\"dataframe\">\n",
              "  <thead>\n",
              "    <tr style=\"text-align: right;\">\n",
              "      <th></th>\n",
              "      <th>count</th>\n",
              "    </tr>\n",
              "    <tr>\n",
              "      <th>Date</th>\n",
              "      <th></th>\n",
              "    </tr>\n",
              "  </thead>\n",
              "  <tbody>\n",
              "    <tr>\n",
              "      <th>1</th>\n",
              "      <td>2722</td>\n",
              "    </tr>\n",
              "    <tr>\n",
              "      <th>12</th>\n",
              "      <td>2702</td>\n",
              "    </tr>\n",
              "    <tr>\n",
              "      <th>10</th>\n",
              "      <td>2665</td>\n",
              "    </tr>\n",
              "    <tr>\n",
              "      <th>3</th>\n",
              "      <td>2622</td>\n",
              "    </tr>\n",
              "    <tr>\n",
              "      <th>11</th>\n",
              "      <td>2622</td>\n",
              "    </tr>\n",
              "    <tr>\n",
              "      <th>4</th>\n",
              "      <td>2587</td>\n",
              "    </tr>\n",
              "    <tr>\n",
              "      <th>5</th>\n",
              "      <td>2436</td>\n",
              "    </tr>\n",
              "    <tr>\n",
              "      <th>2</th>\n",
              "      <td>2433</td>\n",
              "    </tr>\n",
              "    <tr>\n",
              "      <th>8</th>\n",
              "      <td>1393</td>\n",
              "    </tr>\n",
              "    <tr>\n",
              "      <th>9</th>\n",
              "      <td>1321</td>\n",
              "    </tr>\n",
              "    <tr>\n",
              "      <th>7</th>\n",
              "      <td>1310</td>\n",
              "    </tr>\n",
              "    <tr>\n",
              "      <th>6</th>\n",
              "      <td>1239</td>\n",
              "    </tr>\n",
              "  </tbody>\n",
              "</table>\n",
              "</div><br><label><b>dtype:</b> int64</label>"
            ]
          },
          "metadata": {},
          "execution_count": 15
        }
      ]
    },
    {
      "cell_type": "code",
      "source": [
        "# barplot showing creditcard spending by month\n",
        "plt.figure(figsize=(8,6))\n",
        "sns.countplot(x = df['Date'].dt.month, data=df, edgecolor=\"black\")\n",
        "plt.show()"
      ],
      "metadata": {
        "colab": {
          "base_uri": "https://localhost:8080/",
          "height": 542
        },
        "id": "w1HYJkIXwqKN",
        "outputId": "460b3a65-0d81-4fa1-f7b5-3d5f0ba338e6"
      },
      "execution_count": 16,
      "outputs": [
        {
          "output_type": "display_data",
          "data": {
            "text/plain": [
              "<Figure size 800x600 with 1 Axes>"
            ],
            "image/png": "[encoded data removed]"
          },
          "metadata": {}
        }
      ]
    },
    {
      "cell_type": "markdown",
      "source": [
        "January is the peak month for credit card usage\n"
      ],
      "metadata": {
        "id": "nOWMJxDrxNyA"
      }
    },
    {
      "cell_type": "markdown",
      "source": [
        "January is often a peak month for credit card spending due to several factors:\n",
        "\n",
        "Post-Holiday Sales: Many retailers offer significant discounts and promotions after the holiday season to clear out inventory, leading consumers to spend more.\n",
        "\n",
        "Gift Cards and Returns: People often use gift cards received during the holidays and make returns or exchanges, which can result in additional spending.\n",
        "\n",
        "New Year's Resolutions: Some consumers may start the new year with resolutions to upgrade their lifestyle, leading to increased spending on items like gym memberships, new clothes, or home improvements.\n",
        "\n",
        "Tax Refunds: Early filers who receive tax refunds may use that extra money to make purchases, contributing to higher spending in January.\n",
        "\n",
        "Seasonal Changes: The colder weather in many regions can lead to increased spending on utilities, home heating, and winter clothing."
      ],
      "metadata": {
        "id": "BLACGRRp_BMD"
      }
    },
    {
      "cell_type": "markdown",
      "source": [
        "FIND TOP FIVE CITIES IN INDIA WHICH SPEND CREDIT CARD MAX"
      ],
      "metadata": {
        "id": "v-EvAQCJxajh"
      }
    },
    {
      "cell_type": "code",
      "source": [
        "#FIND TOP FIVE CITIES IN INDIA WHICH SPEND CREDIT CARD MAX\n",
        "df.groupby('City')['Amount'].sum().sort_values(ascending=False).head()"
      ],
      "metadata": {
        "colab": {
          "base_uri": "https://localhost:8080/",
          "height": 272
        },
        "id": "BLomFMjNxpPb",
        "outputId": "76ca1369-f781-41e6-9b72-602b8f1927df"
      },
      "execution_count": 17,
      "outputs": [
        {
          "output_type": "execute_result",
          "data": {
            "text/plain": [
              "City\n",
              "Greater Mumbai, India    576751476\n",
              "Bengaluru, India         572326739\n",
              "Ahmedabad, India         567794310\n",
              "Delhi, India             556929212\n",
              "Kolkata, India           115466943\n",
              "Name: Amount, dtype: int64"
            ],
            "text/html": [
              "<div>\n",
              "<style scoped>\n",
              "    .dataframe tbody tr th:only-of-type {\n",
              "        vertical-align: middle;\n",
              "    }\n",
              "\n",
              "    .dataframe tbody tr th {\n",
              "        vertical-align: top;\n",
              "    }\n",
              "\n",
              "    .dataframe thead th {\n",
              "        text-align: right;\n",
              "    }\n",
              "</style>\n",
              "<table border=\"1\" class=\"dataframe\">\n",
              "  <thead>\n",
              "    <tr style=\"text-align: right;\">\n",
              "      <th></th>\n",
              "      <th>Amount</th>\n",
              "    </tr>\n",
              "    <tr>\n",
              "      <th>City</th>\n",
              "      <th></th>\n",
              "    </tr>\n",
              "  </thead>\n",
              "  <tbody>\n",
              "    <tr>\n",
              "      <th>Greater Mumbai, India</th>\n",
              "      <td>576751476</td>\n",
              "    </tr>\n",
              "    <tr>\n",
              "      <th>Bengaluru, India</th>\n",
              "      <td>572326739</td>\n",
              "    </tr>\n",
              "    <tr>\n",
              "      <th>Ahmedabad, India</th>\n",
              "      <td>567794310</td>\n",
              "    </tr>\n",
              "    <tr>\n",
              "      <th>Delhi, India</th>\n",
              "      <td>556929212</td>\n",
              "    </tr>\n",
              "    <tr>\n",
              "      <th>Kolkata, India</th>\n",
              "      <td>115466943</td>\n",
              "    </tr>\n",
              "  </tbody>\n",
              "</table>\n",
              "</div><br><label><b>dtype:</b> int64</label>"
            ]
          },
          "metadata": {},
          "execution_count": 17
        }
      ]
    },
    {
      "cell_type": "code",
      "source": [
        "plt.figure(figsize=(10,10))\n",
        "colors = np.array([\"red\",\"pink\",\"blue\",\"green\",\"orange\"])\n",
        "plt.pie(df.groupby('City')['Amount'].sum().sort_values(ascending=False).head(), labels=df.groupby('City')['Amount'].sum().sort_values(ascending=False).head().index, colors=colors, autopct='%1.1f%%')\n",
        "plt.show()"
      ],
      "metadata": {
        "colab": {
          "base_uri": "https://localhost:8080/",
          "height": 807
        },
        "id": "FXSTUITbyBc9",
        "outputId": "f341f906-2bdc-4491-90cd-66785a59db22"
      },
      "execution_count": 18,
      "outputs": [
        {
          "output_type": "display_data",
          "data": {
            "text/plain": [
              "<Figure size 1000x1000 with 1 Axes>"
            ],
            "image/png": "[encoded data removed]"
          },
          "metadata": {}
        }
      ]
    },
    {
      "cell_type": "markdown",
      "source": [
        "WHICH CARD TYPE WERE MOSTLY USED BY MALES AND FEMALES"
      ],
      "metadata": {
        "id": "eXQQCOSmygyo"
      }
    },
    {
      "cell_type": "code",
      "source": [
        "# WHICH CARD TYPE WERE MOSTLY USED BY MALES AND FEMALES\n",
        "df.groupby(['Gender', 'Card Type'])['Card Type'].count()"
      ],
      "metadata": {
        "colab": {
          "base_uri": "https://localhost:8080/",
          "height": 366
        },
        "id": "6iArmqwLyqIq",
        "outputId": "b97af68e-c57e-4de4-f3fb-8876023bf07b"
      },
      "execution_count": 19,
      "outputs": [
        {
          "output_type": "execute_result",
          "data": {
            "text/plain": [
              "Gender  Card Type\n",
              "F       Gold         3287\n",
              "        Platinum     3252\n",
              "        Signature    3368\n",
              "        Silver       3773\n",
              "M       Gold         3080\n",
              "        Platinum     3146\n",
              "        Signature    3079\n",
              "        Silver       3067\n",
              "Name: Card Type, dtype: int64"
            ],
            "text/html": [
              "<div>\n",
              "<style scoped>\n",
              "    .dataframe tbody tr th:only-of-type {\n",
              "        vertical-align: middle;\n",
              "    }\n",
              "\n",
              "    .dataframe tbody tr th {\n",
              "        vertical-align: top;\n",
              "    }\n",
              "\n",
              "    .dataframe thead th {\n",
              "        text-align: right;\n",
              "    }\n",
              "</style>\n",
              "<table border=\"1\" class=\"dataframe\">\n",
              "  <thead>\n",
              "    <tr style=\"text-align: right;\">\n",
              "      <th></th>\n",
              "      <th></th>\n",
              "      <th>Card Type</th>\n",
              "    </tr>\n",
              "    <tr>\n",
              "      <th>Gender</th>\n",
              "      <th>Card Type</th>\n",
              "      <th></th>\n",
              "    </tr>\n",
              "  </thead>\n",
              "  <tbody>\n",
              "    <tr>\n",
              "      <th rowspan=\"4\" valign=\"top\">F</th>\n",
              "      <th>Gold</th>\n",
              "      <td>3287</td>\n",
              "    </tr>\n",
              "    <tr>\n",
              "      <th>Platinum</th>\n",
              "      <td>3252</td>\n",
              "    </tr>\n",
              "    <tr>\n",
              "      <th>Signature</th>\n",
              "      <td>3368</td>\n",
              "    </tr>\n",
              "    <tr>\n",
              "      <th>Silver</th>\n",
              "      <td>3773</td>\n",
              "    </tr>\n",
              "    <tr>\n",
              "      <th rowspan=\"4\" valign=\"top\">M</th>\n",
              "      <th>Gold</th>\n",
              "      <td>3080</td>\n",
              "    </tr>\n",
              "    <tr>\n",
              "      <th>Platinum</th>\n",
              "      <td>3146</td>\n",
              "    </tr>\n",
              "    <tr>\n",
              "      <th>Signature</th>\n",
              "      <td>3079</td>\n",
              "    </tr>\n",
              "    <tr>\n",
              "      <th>Silver</th>\n",
              "      <td>3067</td>\n",
              "    </tr>\n",
              "  </tbody>\n",
              "</table>\n",
              "</div><br><label><b>dtype:</b> int64</label>"
            ]
          },
          "metadata": {},
          "execution_count": 19
        }
      ]
    },
    {
      "cell_type": "code",
      "source": [
        "# SHOWING CARD TYPE USED BY MALES AND FEMALES\n",
        "plt.figure(figsize=(8,6))\n",
        "sns.countplot(x=\"Card Type\",hue=\"Gender\",data=df,palette=[\"pink\",\"blue\"],edgecolor=\"black\")\n",
        "plt.show()"
      ],
      "metadata": {
        "colab": {
          "base_uri": "https://localhost:8080/",
          "height": 542
        },
        "id": "ADU9Z5Eyy2Wp",
        "outputId": "9e2cbda3-3445-4ad8-eb4b-f8aa4506bdaf"
      },
      "execution_count": 20,
      "outputs": [
        {
          "output_type": "display_data",
          "data": {
            "text/plain": [
              "<Figure size 800x600 with 1 Axes>"
            ],
            "image/png": "[encoded data removed]"
          },
          "metadata": {}
        }
      ]
    },
    {
      "cell_type": "markdown",
      "source": [
        "females used the Silver card type where as Males have used the platinum card types more."
      ],
      "metadata": {
        "id": "R245jTO400te"
      }
    },
    {
      "cell_type": "markdown",
      "source": [
        "There are a few reasons why females might prefer Silver card types while males might lean towards Platinum card types:\n",
        "\n",
        "Cost and Affordability: Silver cards often have lower annual fees and interest rates, making them more affordable and appealing to those who prefer practicality and simplicity in their financial choices. This might be more aligned with the spending habits and financial priorities of females1.\n",
        "\n",
        "Rewards and Benefits: Platinum cards typically offer more premium rewards and benefits, such as travel perks, higher cashback rates, and exclusive access to lounges. Males might be more inclined to spend on luxury items and travel, making the Platinum card's benefits more attractive to them1.\n",
        "\n",
        "Spending Habits: Women might use credit cards more for everyday expenses and necessities, while men might use them for larger, more discretionary purchases. This difference in spending behavior can influence the type of card they prefer.\n",
        "\n",
        "Marketing and Targeting: Credit card companies often market different card types to different demographics. Silver cards might be marketed towards practical, everyday spending, which could resonate more with females, while Platinum cards might be marketed towards luxury and travel, appealing more to males."
      ],
      "metadata": {
        "id": "AQr6fb-w_hPW"
      }
    },
    {
      "cell_type": "markdown",
      "source": [
        "FIND OUT THE EXPENSES OF CREDIT CARDS OF MALES AND FEMALES MONTHWISE"
      ],
      "metadata": {
        "id": "UH0DalpN05ob"
      }
    },
    {
      "cell_type": "code",
      "source": [
        "# find out the expenses of credit cards of males and females monthwise\n",
        "print(df.columns)"
      ],
      "metadata": {
        "colab": {
          "base_uri": "https://localhost:8080/"
        },
        "id": "xGYw_NzLBsNj",
        "outputId": "71e19bde-991c-4179-b2d4-848fc2e9b7c7"
      },
      "execution_count": 25,
      "outputs": [
        {
          "output_type": "stream",
          "name": "stdout",
          "text": [
            "Index(['index', 'City', 'Date', 'Card Type', 'Exp Type', 'Gender', 'Amount'], dtype='object')\n"
          ]
        }
      ]
    },
    {
      "cell_type": "code",
      "source": [
        "# find out the expenses of credit cards of males and females monthwise\n",
        "df.groupby(['Gender', 'Date'])['Amount'].sum()"
      ],
      "metadata": {
        "colab": {
          "base_uri": "https://localhost:8080/",
          "height": 490
        },
        "id": "Ntyh7B0tCpYU",
        "outputId": "40f63910-a0a8-4333-cb9d-e1cb2f13ff8d"
      },
      "execution_count": 27,
      "outputs": [
        {
          "output_type": "execute_result",
          "data": {
            "text/plain": [
              "Gender  Date      \n",
              "F       2013-10-04    5841871\n",
              "        2013-10-05    4136519\n",
              "        2013-10-06    3898252\n",
              "        2013-10-07    4513532\n",
              "        2013-10-08    4513867\n",
              "                       ...   \n",
              "M       2015-05-22    2920921\n",
              "        2015-05-23    2882248\n",
              "        2015-05-24    4080126\n",
              "        2015-05-25    2375093\n",
              "        2015-05-26    3267478\n",
              "Name: Amount, Length: 1200, dtype: int64"
            ],
            "text/html": [
              "<div>\n",
              "<style scoped>\n",
              "    .dataframe tbody tr th:only-of-type {\n",
              "        vertical-align: middle;\n",
              "    }\n",
              "\n",
              "    .dataframe tbody tr th {\n",
              "        vertical-align: top;\n",
              "    }\n",
              "\n",
              "    .dataframe thead th {\n",
              "        text-align: right;\n",
              "    }\n",
              "</style>\n",
              "<table border=\"1\" class=\"dataframe\">\n",
              "  <thead>\n",
              "    <tr style=\"text-align: right;\">\n",
              "      <th></th>\n",
              "      <th></th>\n",
              "      <th>Amount</th>\n",
              "    </tr>\n",
              "    <tr>\n",
              "      <th>Gender</th>\n",
              "      <th>Date</th>\n",
              "      <th></th>\n",
              "    </tr>\n",
              "  </thead>\n",
              "  <tbody>\n",
              "    <tr>\n",
              "      <th rowspan=\"5\" valign=\"top\">F</th>\n",
              "      <th>2013-10-04</th>\n",
              "      <td>5841871</td>\n",
              "    </tr>\n",
              "    <tr>\n",
              "      <th>2013-10-05</th>\n",
              "      <td>4136519</td>\n",
              "    </tr>\n",
              "    <tr>\n",
              "      <th>2013-10-06</th>\n",
              "      <td>3898252</td>\n",
              "    </tr>\n",
              "    <tr>\n",
              "      <th>2013-10-07</th>\n",
              "      <td>4513532</td>\n",
              "    </tr>\n",
              "    <tr>\n",
              "      <th>2013-10-08</th>\n",
              "      <td>4513867</td>\n",
              "    </tr>\n",
              "    <tr>\n",
              "      <th>...</th>\n",
              "      <th>...</th>\n",
              "      <td>...</td>\n",
              "    </tr>\n",
              "    <tr>\n",
              "      <th rowspan=\"5\" valign=\"top\">M</th>\n",
              "      <th>2015-05-22</th>\n",
              "      <td>2920921</td>\n",
              "    </tr>\n",
              "    <tr>\n",
              "      <th>2015-05-23</th>\n",
              "      <td>2882248</td>\n",
              "    </tr>\n",
              "    <tr>\n",
              "      <th>2015-05-24</th>\n",
              "      <td>4080126</td>\n",
              "    </tr>\n",
              "    <tr>\n",
              "      <th>2015-05-25</th>\n",
              "      <td>2375093</td>\n",
              "    </tr>\n",
              "    <tr>\n",
              "      <th>2015-05-26</th>\n",
              "      <td>3267478</td>\n",
              "    </tr>\n",
              "  </tbody>\n",
              "</table>\n",
              "<p>1200 rows × 1 columns</p>\n",
              "</div><br><label><b>dtype:</b> int64</label>"
            ]
          },
          "metadata": {},
          "execution_count": 27
        }
      ]
    },
    {
      "cell_type": "code",
      "source": [
        "plt.figure(figsize=(14,8))\n",
        "sns.barplot(x=\"Gender\",y=\"Amount\", data=df,edgecolor=\"black\")\n",
        "plt.show()"
      ],
      "metadata": {
        "colab": {
          "base_uri": "https://localhost:8080/",
          "height": 696
        },
        "id": "yob_RNDE2HgY",
        "outputId": "2bf1c96a-98a0-4de3-bc95-59c673d33344"
      },
      "execution_count": 22,
      "outputs": [
        {
          "output_type": "display_data",
          "data": {
            "text/plain": [
              "<Figure size 1400x800 with 1 Axes>"
            ],
            "image/png": "[encoded data removed]"
          },
          "metadata": {}
        }
      ]
    },
    {
      "cell_type": "markdown",
      "source": [
        "CONCLUSION"
      ],
      "metadata": {
        "id": "69Jbg18v3IXE"
      }
    },
    {
      "cell_type": "markdown",
      "source": [
        "Silver was most popular card type .\n",
        "\n",
        "In Fuel and Food expenses were most counts paid by the cards.\n",
        "\n",
        "In January and December there is high usage of cards payments.\n",
        "\n",
        "\n",
        "Bengaluru,Greater Mumbai, Ahmedabad, and Delhi were the Top 4 Cities.\n",
        "\n",
        "Females used the Silver card type where as Male used the platinum card type more.\n",
        "\n",
        "Females were more depend on credit cards as they spend more amount on credit cards than men.\n",
        "\n",
        "Females mostly spend in October and Males in january using credit cards."
      ],
      "metadata": {
        "id": "O5qyFtoY3MSh"
      }
    }
  ]
}