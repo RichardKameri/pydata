{
  "nbformat": 4,
  "nbformat_minor": 0,
  "metadata": {
    "colab": {
      "provenance": [],
      "authorship_tag": "ABX9TyMAL5Qe9bmBcK/HDezn1F+Q",
      "include_colab_link": true
    },
    "kernelspec": {
      "name": "python3",
      "display_name": "Python 3"
    },
    "language_info": {
      "name": "python"
    }
  },
  "cells": [
    {
      "cell_type": "markdown",
      "metadata": {
        "id": "view-in-github",
        "colab_type": "text"
      },
      "source": [
        "<a href=\"https://colab.research.google.com/github/RichardKameri/tydata/blob/main/drinks2.ipynb\" target=\"_parent\"><img src=\"https://colab.research.google.com/assets/colab-badge.svg\" alt=\"Open In Colab\"/></a>"
      ]
    },
    {
      "cell_type": "code",
      "execution_count": null,
      "metadata": {
        "id": "97Oue956IEai"
      },
      "outputs": [],
      "source": [
        "import pandas as pn"
      ]
    },
    {
      "cell_type": "markdown",
      "source": [
        " CREATE A DATA DICTIONARY(DATA FRAME)"
      ],
      "metadata": {
        "id": "IN1JCaxgNjx3"
      }
    },
    {
      "cell_type": "code",
      "source": [
        "import pandas as pn\n",
        "df=pn.DataFrame()\n",
        "print(df)"
      ],
      "metadata": {
        "colab": {
          "base_uri": "https://localhost:8080/"
        },
        "id": "g6mcSlrMNtZq",
        "outputId": "83a032f5-b811-4cac-e25c-ca64d9ab1f85"
      },
      "execution_count": null,
      "outputs": [
        {
          "output_type": "stream",
          "name": "stdout",
          "text": [
            "Empty DataFrame\n",
            "Columns: []\n",
            "Index: []\n"
          ]
        }
      ]
    },
    {
      "cell_type": "code",
      "source": [
        "import numpy as np\n",
        "import pandas as pd\n",
        "import matplotlib.pyplot as plt\n",
        "import seaborn as sns"
      ],
      "metadata": {
        "id": "nLMRo3kVQO75"
      },
      "execution_count": 1,
      "outputs": []
    },
    {
      "cell_type": "markdown",
      "source": [
        "IMPORT DATA SET"
      ],
      "metadata": {
        "id": "UdQNXfTuhLPb"
      }
    },
    {
      "cell_type": "code",
      "source": [
        "df=pd.read_csv('/content/drinks.csv')\n",
        "print(df)"
      ],
      "metadata": {
        "colab": {
          "base_uri": "https://localhost:8080/"
        },
        "id": "m5V7-YEBhQSC",
        "outputId": "b6ad942b-5a1d-499d-a782-2dd4715a826a"
      },
      "execution_count": 12,
      "outputs": [
        {
          "output_type": "stream",
          "name": "stdout",
          "text": [
            "         country  beer_servings  spirit_servings  wine_servings  \\\n",
            "0    Afghanistan              0                0              0   \n",
            "1        Albania             89              132             54   \n",
            "2        Algeria             25                0             14   \n",
            "3        Andorra            245              138            312   \n",
            "4         Angola            217               57             45   \n",
            "..           ...            ...              ...            ...   \n",
            "188    Venezuela            333              100              3   \n",
            "189      Vietnam            111                2              1   \n",
            "190        Yemen              6                0              0   \n",
            "191       Zambia             32               19              4   \n",
            "192     Zimbabwe             64               18              4   \n",
            "\n",
            "     total_litres_of_pure_alcohol  \n",
            "0                             0.0  \n",
            "1                             4.9  \n",
            "2                             0.7  \n",
            "3                            12.4  \n",
            "4                             5.9  \n",
            "..                            ...  \n",
            "188                           7.7  \n",
            "189                           2.0  \n",
            "190                           0.1  \n",
            "191                           2.5  \n",
            "192                           4.7  \n",
            "\n",
            "[193 rows x 5 columns]\n"
          ]
        }
      ]
    },
    {
      "cell_type": "markdown",
      "source": [
        "WHICH COUNTRY DRINKS MORE ALCOLHL BY COUNTRY"
      ],
      "metadata": {
        "id": "6JE97C47nsyB"
      }
    },
    {
      "cell_type": "code",
      "source": [
        "beer_servings=df.groupby('country')['beer_servings'].mean()\n",
        "print(beer_servings)"
      ],
      "metadata": {
        "colab": {
          "base_uri": "https://localhost:8080/"
        },
        "id": "9VwzuvE6n6M3",
        "outputId": "dd6fe8b8-d475-4130-c43b-0c45d4084481"
      },
      "execution_count": 15,
      "outputs": [
        {
          "output_type": "stream",
          "name": "stdout",
          "text": [
            "country\n",
            "Afghanistan      0.0\n",
            "Albania         89.0\n",
            "Algeria         25.0\n",
            "Andorra        245.0\n",
            "Angola         217.0\n",
            "               ...  \n",
            "Venezuela      333.0\n",
            "Vietnam        111.0\n",
            "Yemen            6.0\n",
            "Zambia          32.0\n",
            "Zimbabwe        64.0\n",
            "Name: beer_servings, Length: 193, dtype: float64\n"
          ]
        }
      ]
    },
    {
      "cell_type": "markdown",
      "source": [
        "FOR EACH COUNTRY PRINT STATISTICS FOR WINE CONSUMPTION"
      ],
      "metadata": {
        "id": "kd5Gm0cAoHJy"
      }
    },
    {
      "cell_type": "code",
      "source": [
        "wine_servings=df.groupby('country')['wine_servings'].mean()\n",
        "print(wine_servings)"
      ],
      "metadata": {
        "colab": {
          "base_uri": "https://localhost:8080/"
        },
        "id": "Gc7uCGlzoRbh",
        "outputId": "7a1cfe96-2d06-450a-a795-bb064a68185f"
      },
      "execution_count": 16,
      "outputs": [
        {
          "output_type": "stream",
          "name": "stdout",
          "text": [
            "country\n",
            "Afghanistan      0.0\n",
            "Albania         54.0\n",
            "Algeria         14.0\n",
            "Andorra        312.0\n",
            "Angola          45.0\n",
            "               ...  \n",
            "Venezuela        3.0\n",
            "Vietnam          1.0\n",
            "Yemen            0.0\n",
            "Zambia           4.0\n",
            "Zimbabwe         4.0\n",
            "Name: wine_servings, Length: 193, dtype: float64\n"
          ]
        }
      ]
    },
    {
      "cell_type": "markdown",
      "source": [
        "PRINT BTHE MEAN ALCOHOL CONSUMPTION PER COUNTRY FOR EVERY COLUMN"
      ],
      "metadata": {
        "id": "AHGoNwOmodNw"
      }
    },
    {
      "cell_type": "code",
      "source": [
        "mean_consumption=df.groupby('country')[['beer_servings','spirit_servings','wine_servings','total_litres_of_pure_alcohol']].mean()\n",
        "print(mean_consumption)"
      ],
      "metadata": {
        "colab": {
          "base_uri": "https://localhost:8080/"
        },
        "id": "mWWLUeuwor9C",
        "outputId": "5bd69dfe-6d86-4bf5-efd4-55c89e4331f0"
      },
      "execution_count": 17,
      "outputs": [
        {
          "output_type": "stream",
          "name": "stdout",
          "text": [
            "             beer_servings  spirit_servings  wine_servings  \\\n",
            "country                                                      \n",
            "Afghanistan            0.0              0.0            0.0   \n",
            "Albania               89.0            132.0           54.0   \n",
            "Algeria               25.0              0.0           14.0   \n",
            "Andorra              245.0            138.0          312.0   \n",
            "Angola               217.0             57.0           45.0   \n",
            "...                    ...              ...            ...   \n",
            "Venezuela            333.0            100.0            3.0   \n",
            "Vietnam              111.0              2.0            1.0   \n",
            "Yemen                  6.0              0.0            0.0   \n",
            "Zambia                32.0             19.0            4.0   \n",
            "Zimbabwe              64.0             18.0            4.0   \n",
            "\n",
            "             total_litres_of_pure_alcohol  \n",
            "country                                    \n",
            "Afghanistan                           0.0  \n",
            "Albania                               4.9  \n",
            "Algeria                               0.7  \n",
            "Andorra                              12.4  \n",
            "Angola                                5.9  \n",
            "...                                   ...  \n",
            "Venezuela                             7.7  \n",
            "Vietnam                               2.0  \n",
            "Yemen                                 0.1  \n",
            "Zambia                                2.5  \n",
            "Zimbabwe                              4.7  \n",
            "\n",
            "[193 rows x 4 columns]\n"
          ]
        }
      ]
    },
    {
      "cell_type": "markdown",
      "source": [
        "Print the median alcohol consumption per continent for every column"
      ],
      "metadata": {
        "id": "UIj-A1TNpF7n"
      }
    },
    {
      "cell_type": "code",
      "source": [
        "median_consumption=df.groupby('country')[['beer_servings','spirit_servings','wine_servings','total_litres_of_pure_alcohol']].median()\n",
        "print(median_consumption)"
      ],
      "metadata": {
        "colab": {
          "base_uri": "https://localhost:8080/"
        },
        "id": "h8-dPHYLpL3D",
        "outputId": "78e9a403-958b-4675-a730-688bc0f2f046"
      },
      "execution_count": 19,
      "outputs": [
        {
          "output_type": "stream",
          "name": "stdout",
          "text": [
            "             beer_servings  spirit_servings  wine_servings  \\\n",
            "country                                                      \n",
            "Afghanistan            0.0              0.0            0.0   \n",
            "Albania               89.0            132.0           54.0   \n",
            "Algeria               25.0              0.0           14.0   \n",
            "Andorra              245.0            138.0          312.0   \n",
            "Angola               217.0             57.0           45.0   \n",
            "...                    ...              ...            ...   \n",
            "Venezuela            333.0            100.0            3.0   \n",
            "Vietnam              111.0              2.0            1.0   \n",
            "Yemen                  6.0              0.0            0.0   \n",
            "Zambia                32.0             19.0            4.0   \n",
            "Zimbabwe              64.0             18.0            4.0   \n",
            "\n",
            "             total_litres_of_pure_alcohol  \n",
            "country                                    \n",
            "Afghanistan                           0.0  \n",
            "Albania                               4.9  \n",
            "Algeria                               0.7  \n",
            "Andorra                              12.4  \n",
            "Angola                                5.9  \n",
            "...                                   ...  \n",
            "Venezuela                             7.7  \n",
            "Vietnam                               2.0  \n",
            "Yemen                                 0.1  \n",
            "Zambia                                2.5  \n",
            "Zimbabwe                              4.7  \n",
            "\n",
            "[193 rows x 4 columns]\n"
          ]
        }
      ]
    },
    {
      "cell_type": "markdown",
      "source": [
        " Print the mean, min and max values for spirit consumption"
      ],
      "metadata": {
        "id": "4twdLjQspcOc"
      }
    },
    {
      "cell_type": "code",
      "source": [
        "mean_consumption=df['spirit_servings'].mean()\n",
        "print(mean_consumption)"
      ],
      "metadata": {
        "colab": {
          "base_uri": "https://localhost:8080/"
        },
        "id": "1LBxrldVpdj3",
        "outputId": "c9e87248-d56c-4b9d-c5f3-205994554159"
      },
      "execution_count": 20,
      "outputs": [
        {
          "output_type": "stream",
          "name": "stdout",
          "text": [
            "80.99481865284974\n"
          ]
        }
      ]
    },
    {
      "cell_type": "code",
      "source": [
        "min_consumption=df['spirit_servings'].min()\n",
        "print(min_consumption)"
      ],
      "metadata": {
        "colab": {
          "base_uri": "https://localhost:8080/"
        },
        "id": "WRwrS1wCpsW5",
        "outputId": "e45388dd-e36f-4a83-ffab-9243d41f0043"
      },
      "execution_count": 21,
      "outputs": [
        {
          "output_type": "stream",
          "name": "stdout",
          "text": [
            "0\n"
          ]
        }
      ]
    },
    {
      "cell_type": "code",
      "source": [
        "max_consumption=df['spirit_servings'].max()\n",
        "print(max_consumption)"
      ],
      "metadata": {
        "colab": {
          "base_uri": "https://localhost:8080/"
        },
        "id": "rbrsVd4PpyFb",
        "outputId": "500689d6-6706-46c6-dfeb-10c29aa1aa2e"
      },
      "execution_count": 22,
      "outputs": [
        {
          "output_type": "stream",
          "name": "stdout",
          "text": [
            "438\n"
          ]
        }
      ]
    }
  ]
}