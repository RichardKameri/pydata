{
  "nbformat": 4,
  "nbformat_minor": 0,
  "metadata": {
    "colab": {
      "provenance": [],
      "authorship_tag": "ABX9TyOpaT51C8oqdCH0li1jvLUY",
      "include_colab_link": true
    },
    "kernelspec": {
      "name": "python3",
      "display_name": "Python 3"
    },
    "language_info": {
      "name": "python"
    }
  },
  "cells": [
    {
      "cell_type": "markdown",
      "metadata": {
        "id": "view-in-github",
        "colab_type": "text"
      },
      "source": [
        "<a href=\"https://colab.research.google.com/github/RichardKameri/pydata/blob/main/Investor_flows.ipynb\" target=\"_parent\"><img src=\"https://colab.research.google.com/assets/colab-badge.svg\" alt=\"Open In Colab\"/></a>"
      ]
    },
    {
      "cell_type": "code",
      "execution_count": 1,
      "metadata": {
        "id": "mqYV_bfZhPzz"
      },
      "outputs": [],
      "source": [
        "import pandas as pd"
      ]
    },
    {
      "cell_type": "code",
      "source": [
        "called = pd.read_csv('/content/weekly.csv')"
      ],
      "metadata": {
        "id": "2YY_Z-mnhrlt"
      },
      "execution_count": 2,
      "outputs": []
    },
    {
      "cell_type": "code",
      "source": [
        "# What is the frequency of the dataset?\n",
        "called.info()"
      ],
      "metadata": {
        "colab": {
          "base_uri": "https://localhost:8080/"
        },
        "id": "L_tqlcuch_0R",
        "outputId": "21da922a-5057-4098-c2e9-bec6a78dc3dd"
      },
      "execution_count": 3,
      "outputs": [
        {
          "output_type": "stream",
          "name": "stdout",
          "text": [
            "<class 'pandas.core.frame.DataFrame'>\n",
            "RangeIndex: 44 entries, 0 to 43\n",
            "Data columns (total 9 columns):\n",
            " #   Column           Non-Null Count  Dtype \n",
            "---  ------           --------------  ----- \n",
            " 0   Date             44 non-null     object\n",
            " 1   Total Equity     44 non-null     int64 \n",
            " 2   Domestic Equity  44 non-null     int64 \n",
            " 3   World Equity     44 non-null     int64 \n",
            " 4   Hybrid           44 non-null     int64 \n",
            " 5   Total Bond       44 non-null     int64 \n",
            " 6   Taxable Bond     44 non-null     int64 \n",
            " 7   Municipal Bond   44 non-null     int64 \n",
            " 8   Total            44 non-null     int64 \n",
            "dtypes: int64(8), object(1)\n",
            "memory usage: 3.2+ KB\n"
          ]
        }
      ]
    },
    {
      "cell_type": "code",
      "source": [
        "  # Ensure the Date column is in datetime format\n",
        "called['Date'] = pd.to_datetime(called['Date'])\n",
        "print(called['Date'].diff().value_counts())"
      ],
      "metadata": {
        "colab": {
          "base_uri": "https://localhost:8080/"
        },
        "id": "5y693UeOiLP2",
        "outputId": "eb058970-25ad-4bed-96cc-18d2bf20db9f"
      },
      "execution_count": 5,
      "outputs": [
        {
          "output_type": "stream",
          "name": "stdout",
          "text": [
            "Date\n",
            "7 days      37\n",
            "21 days      2\n",
            "448 days     1\n",
            "56 days      1\n",
            "6 days       1\n",
            "43 days      1\n",
            "Name: count, dtype: int64\n"
          ]
        }
      ]
    },
    {
      "cell_type": "code",
      "source": [
        "#  Set the column Date as the index.\n",
        "called.set_index('Date', inplace=True)"
      ],
      "metadata": {
        "id": "3b-jpWuSiiir"
      },
      "execution_count": 6,
      "outputs": []
    },
    {
      "cell_type": "code",
      "source": [
        "#  Change the frequency to monthly, sum the values and assign it to monthly\n",
        "monthly = called.resample('M').sum()"
      ],
      "metadata": {
        "colab": {
          "base_uri": "https://localhost:8080/"
        },
        "id": "RGYJgLNjioje",
        "outputId": "f9942d8a-3b96-4534-b831-3687265d0516"
      },
      "execution_count": 7,
      "outputs": [
        {
          "output_type": "stream",
          "name": "stderr",
          "text": [
            "<ipython-input-7-cec5c5b9615b>:2: FutureWarning: 'M' is deprecated and will be removed in a future version, please use 'ME' instead.\n",
            "  monthly = called.resample('M').sum()\n"
          ]
        }
      ]
    },
    {
      "cell_type": "code",
      "source": [
        "# You will notice that it filled the dataFrame with months that don't have any data with NaN. Let's drop these rows.\n",
        "monthly.dropna(inplace=True)"
      ],
      "metadata": {
        "id": "RMs-CglSiyQp"
      },
      "execution_count": 8,
      "outputs": []
    },
    {
      "cell_type": "markdown",
      "source": [],
      "metadata": {
        "id": "6lypjOc8ixck"
      }
    },
    {
      "cell_type": "code",
      "source": [
        "# Good, now we have the monthly data. Now change the frequency to year.\n",
        "yearly = monthly.resample('Y').sum()"
      ],
      "metadata": {
        "colab": {
          "base_uri": "https://localhost:8080/"
        },
        "id": "IzMoSyNIi544",
        "outputId": "d03cf236-12a3-4a8a-c293-663911acc89e"
      },
      "execution_count": 9,
      "outputs": [
        {
          "output_type": "stream",
          "name": "stderr",
          "text": [
            "<ipython-input-9-75d6b566e924>:2: FutureWarning: 'Y' is deprecated and will be removed in a future version, please use 'YE' instead.\n",
            "  yearly = monthly.resample('Y').sum()\n"
          ]
        }
      ]
    }
  ]
}