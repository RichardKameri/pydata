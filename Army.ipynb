{
  "nbformat": 4,
  "nbformat_minor": 0,
  "metadata": {
    "colab": {
      "provenance": [],
      "authorship_tag": "ABX9TyOPRjJV/zkJFOS5T7NJHsTy",
      "include_colab_link": true
    },
    "kernelspec": {
      "name": "python3",
      "display_name": "Python 3"
    },
    "language_info": {
      "name": "python"
    }
  },
  "cells": [
    {
      "cell_type": "markdown",
      "metadata": {
        "id": "view-in-github",
        "colab_type": "text"
      },
      "source": [
        "<a href=\"https://colab.research.google.com/github/RichardKameri/tydata/blob/main/Army.ipynb\" target=\"_parent\"><img src=\"https://colab.research.google.com/assets/colab-badge.svg\" alt=\"Open In Colab\"/></a>"
      ]
    },
    {
      "cell_type": "code",
      "execution_count": 1,
      "metadata": {
        "id": "qy4Ou1J_vEUq"
      },
      "outputs": [],
      "source": [
        "import pandas as pd"
      ]
    },
    {
      "cell_type": "markdown",
      "source": [
        "CREATE A DATA FRAME CALLED ARMY"
      ],
      "metadata": {
        "id": "VISXpxZPvSrg"
      }
    },
    {
      "cell_type": "code",
      "source": [
        "# Create an example dataframe about a fictional army\n",
        "Army = {'regiment': ['Nighthawks', 'Nighthawks', 'Nighthawks', 'Nighthawks', 'Dragoons', 'Dragoons', 'Dragoons', 'Dragoons', 'Scouts', 'Scouts', 'Scouts', 'Scouts'],\n",
        "            'company': ['1st', '1st', '2nd', '2nd', '1st', '1st', '2nd', '2nd','1st', '1st', '2nd', '2nd'],\n",
        "            'deaths': [523, 52, 25, 616, 43, 234, 523, 62, 62, 73, 37, 35],\n",
        "            'battles': [5, 42, 2, 2, 4, 7, 8, 3, 4, 7, 8, 9],\n",
        "            'size': [1045, 957, 1099, 1400, 1592, 1006, 987, 849, 973, 1005, 1099, 1523],\n",
        "            'veterans': [1, 5, 62, 26, 73, 37, 949, 48, 48, 435, 63, 345],\n",
        "            'readiness': [1, 2, 3, 3, 2, 1, 2, 3, 2, 1, 2, 3],\n",
        "            'armored': [1, 0, 1, 1, 0, 1, 0, 1, 0, 0, 1, 1],\n",
        "            'deserters': [4, 24, 31, 2, 3, 4, 24, 31, 2, 3, 2, 3],\n",
        "            'origin': ['Arizona', 'California', 'Texas', 'Florida', 'Maine', 'Iowa', 'Alaska', 'Washington', 'Oregon', 'Wyoming', 'Louisana', 'Georgia']}"
      ],
      "metadata": {
        "id": "vdYNOMaoveY_"
      },
      "execution_count": 4,
      "outputs": []
    },
    {
      "cell_type": "markdown",
      "source": [
        "Don't forget to include the columns names in the order presented in the dictionary ('regiment', 'company', 'deaths'...) so that the column index order is consistent with the solutions. If omitted, pandas will order the columns alphabetically"
      ],
      "metadata": {
        "id": "EbaxkTBkv7NB"
      }
    },
    {
      "cell_type": "code",
      "source": [
        "import pandas as pd\n",
        "\n",
        "# Data dictionary\n",
        "data = {\n",
        "    'regiment': ['Nighthawks', 'Dragoons', 'Scouts', 'Nighthawks'],\n",
        "    'company': ['1st', '1st', '2nd', '2nd'],\n",
        "    'deaths': [4, 24, 31, 2],\n",
        "    'battles': [5, 10, 15, 5],\n",
        "    'size': [750, 800, 950, 800],\n",
        "    'veterans': [48, 5, 90, 20],\n",
        "    'readiness': [1.5, 1.0, 2.0, 1.5],\n",
        "    'armored': [75, 35, 85, 25],\n",
        "    'deserters': [4, 24, 31, 2],\n",
        "    'origin': ['Arizona', 'Texas', 'Florida', 'California']\n",
        "}\n",
        "\n",
        "# Create DataFrame with specified column order\n",
        "df = pd.DataFrame(data, columns=['regiment', 'company', 'deaths', 'battles', 'size', 'veterans', 'readiness', 'armored', 'deserters', 'origin'])\n",
        "\n",
        "print(df)\n"
      ],
      "metadata": {
        "colab": {
          "base_uri": "https://localhost:8080/"
        },
        "id": "nawaqNZkv6vt",
        "outputId": "fded4b49-bcba-43ca-9d65-259e51bacc57"
      },
      "execution_count": 5,
      "outputs": [
        {
          "output_type": "stream",
          "name": "stdout",
          "text": [
            "     regiment company  deaths  battles  size  veterans  readiness  armored  \\\n",
            "0  Nighthawks     1st       4        5   750        48        1.5       75   \n",
            "1    Dragoons     1st      24       10   800         5        1.0       35   \n",
            "2      Scouts     2nd      31       15   950        90        2.0       85   \n",
            "3  Nighthawks     2nd       2        5   800        20        1.5       25   \n",
            "\n",
            "   deserters      origin  \n",
            "0          4     Arizona  \n",
            "1         24       Texas  \n",
            "2         31     Florida  \n",
            "3          2  California  \n"
          ]
        }
      ]
    },
    {
      "cell_type": "markdown",
      "source": [
        "Set the 'origin' colum as the index of the dataframe"
      ],
      "metadata": {
        "id": "732sf32Twrv9"
      }
    },
    {
      "cell_type": "code",
      "source": [
        "df.set_index('origin', inplace=True)"
      ],
      "metadata": {
        "id": "8FiFZtwRwv48"
      },
      "execution_count": 6,
      "outputs": []
    },
    {
      "cell_type": "markdown",
      "source": [
        "Print the columns 'veterans' and 'deaths"
      ],
      "metadata": {
        "id": "PxBZownrw8o-"
      }
    },
    {
      "cell_type": "code",
      "source": [
        "print(df[['veterans', 'deaths']])"
      ],
      "metadata": {
        "colab": {
          "base_uri": "https://localhost:8080/"
        },
        "id": "ybVSItwwxCMP",
        "outputId": "6b1f8d02-d7ca-447f-e31f-2a05955e0ceb"
      },
      "execution_count": 7,
      "outputs": [
        {
          "output_type": "stream",
          "name": "stdout",
          "text": [
            "            veterans  deaths\n",
            "origin                      \n",
            "Arizona           48       4\n",
            "Texas              5      24\n",
            "Florida           90      31\n",
            "California        20       2\n"
          ]
        }
      ]
    },
    {
      "cell_type": "markdown",
      "source": [
        "Print only the column veterans"
      ],
      "metadata": {
        "id": "3xs1ZR9fxuEy"
      }
    },
    {
      "cell_type": "code",
      "source": [
        "print(df['veterans'])"
      ],
      "metadata": {
        "colab": {
          "base_uri": "https://localhost:8080/"
        },
        "id": "5VpV-WmwxzFx",
        "outputId": "0616baf5-f764-4f26-84c9-b8c9bfe275f5"
      },
      "execution_count": 8,
      "outputs": [
        {
          "output_type": "stream",
          "name": "stdout",
          "text": [
            "origin\n",
            "Arizona       48\n",
            "Texas          5\n",
            "Florida       90\n",
            "California    20\n",
            "Name: veterans, dtype: int64\n"
          ]
        }
      ]
    },
    {
      "cell_type": "markdown",
      "source": [
        "Print the name of all the columns"
      ],
      "metadata": {
        "id": "aQjL5Qpwy9YF"
      }
    },
    {
      "cell_type": "code",
      "source": [
        "print(df.columns)"
      ],
      "metadata": {
        "colab": {
          "base_uri": "https://localhost:8080/"
        },
        "id": "CS2vsgq7zEhh",
        "outputId": "fdb3f1c0-637e-414a-ab38-e7cc23f697ba"
      },
      "execution_count": 9,
      "outputs": [
        {
          "output_type": "stream",
          "name": "stdout",
          "text": [
            "Index(['regiment', 'company', 'deaths', 'battles', 'size', 'veterans',\n",
            "       'readiness', 'armored', 'deserters'],\n",
            "      dtype='object')\n"
          ]
        }
      ]
    },
    {
      "cell_type": "markdown",
      "source": [
        "Select the 'deaths', 'size' and 'deserters' columns from Maine and Alaska"
      ],
      "metadata": {
        "id": "AmrDfyAozSJU"
      }
    },
    {
      "cell_type": "markdown",
      "source": [
        " Select the rows 3 to 7 and the columns 3 to 6"
      ],
      "metadata": {
        "id": "kkOnoo5R1AFV"
      }
    },
    {
      "cell_type": "code",
      "source": [
        "selected_rows = df.iloc[3:7, 3:6]\n",
        "print(selected_rows)"
      ],
      "metadata": {
        "colab": {
          "base_uri": "https://localhost:8080/"
        },
        "id": "qhg-PT3M0_uo",
        "outputId": "b0fbfbf2-96aa-4bdc-bb58-2f96aa7ed3cd"
      },
      "execution_count": 21,
      "outputs": [
        {
          "output_type": "stream",
          "name": "stdout",
          "text": [
            "            battles  size  veterans\n",
            "origin                             \n",
            "California        5   800        20\n"
          ]
        }
      ]
    },
    {
      "cell_type": "markdown",
      "source": [],
      "metadata": {
        "id": "wQ2d9rV21lnf"
      }
    },
    {
      "cell_type": "markdown",
      "source": [
        "elect every row after the fourth row and all columns"
      ],
      "metadata": {
        "id": "ZxNTBSw61qGg"
      }
    },
    {
      "cell_type": "code",
      "source": [
        "selected_rows = df.iloc[4:, :]\n",
        "print(selected_rows)"
      ],
      "metadata": {
        "colab": {
          "base_uri": "https://localhost:8080/"
        },
        "id": "Ra0AOIv910nr",
        "outputId": "3f43e232-87b6-491d-f800-bc9d66ef8f2f"
      },
      "execution_count": 23,
      "outputs": [
        {
          "output_type": "stream",
          "name": "stdout",
          "text": [
            "Empty DataFrame\n",
            "Columns: [regiment, company, deaths, battles, size, veterans, readiness, armored, deserters]\n",
            "Index: []\n"
          ]
        }
      ]
    },
    {
      "cell_type": "markdown",
      "source": [
        "Select rows where df.deaths is greater than 50"
      ],
      "metadata": {
        "id": "abzrxUjS2RIZ"
      }
    },
    {
      "cell_type": "code",
      "source": [
        "selected_rows = df[df['deaths'] > 50]\n",
        "print(selected_rows)"
      ],
      "metadata": {
        "colab": {
          "base_uri": "https://localhost:8080/"
        },
        "id": "xR-nMCLy2Xd-",
        "outputId": "200fb16e-36c0-4c46-f365-0057127720e6"
      },
      "execution_count": 26,
      "outputs": [
        {
          "output_type": "stream",
          "name": "stdout",
          "text": [
            "Empty DataFrame\n",
            "Columns: [regiment, company, deaths, battles, size, veterans, readiness, armored, deserters]\n",
            "Index: []\n"
          ]
        }
      ]
    },
    {
      "cell_type": "markdown",
      "source": [
        "Select rows where df.deaths is greater than 500 or less than 50"
      ],
      "metadata": {
        "id": "9QUbkFoS20Fi"
      }
    },
    {
      "cell_type": "code",
      "source": [
        "# Select rows where 'deaths' is greater than 500 or less than 50\n",
        "selected_rows = df[(df['deaths'] > 500) | (df['deaths'] < 50)]\n",
        "print(selected_rows)"
      ],
      "metadata": {
        "colab": {
          "base_uri": "https://localhost:8080/"
        },
        "id": "oGZty5ss220Y",
        "outputId": "f096ec84-b5c6-4bdf-c149-d19b8e1c873b"
      },
      "execution_count": 27,
      "outputs": [
        {
          "output_type": "stream",
          "name": "stdout",
          "text": [
            "              regiment company  deaths  battles  size  veterans  readiness  \\\n",
            "origin                                                                       \n",
            "Arizona     Nighthawks     1st       4        5   750        48        1.5   \n",
            "Texas         Dragoons     1st      24       10   800         5        1.0   \n",
            "Florida         Scouts     2nd      31       15   950        90        2.0   \n",
            "California  Nighthawks     2nd       2        5   800        20        1.5   \n",
            "\n",
            "            armored  deserters  \n",
            "origin                          \n",
            "Arizona          75          4  \n",
            "Texas            35         24  \n",
            "Florida          85         31  \n",
            "California       25          2  \n"
          ]
        }
      ]
    },
    {
      "cell_type": "markdown",
      "source": [
        "Select all the regiments not named \"Dragoons\""
      ],
      "metadata": {
        "id": "_hcgfHHo3Oit"
      }
    },
    {
      "cell_type": "code",
      "source": [
        "# Select all regiments not named \"Dragoons\"\n",
        "selected_regiments = df[df['regiment'] != 'Dragoons']\n",
        "print(selected_regiments)"
      ],
      "metadata": {
        "colab": {
          "base_uri": "https://localhost:8080/"
        },
        "id": "doOA29tK3SU-",
        "outputId": "23a371dc-26f8-424a-f96e-cefe01a50bf0"
      },
      "execution_count": 28,
      "outputs": [
        {
          "output_type": "stream",
          "name": "stdout",
          "text": [
            "              regiment company  deaths  battles  size  veterans  readiness  \\\n",
            "origin                                                                       \n",
            "Arizona     Nighthawks     1st       4        5   750        48        1.5   \n",
            "Florida         Scouts     2nd      31       15   950        90        2.0   \n",
            "California  Nighthawks     2nd       2        5   800        20        1.5   \n",
            "\n",
            "            armored  deserters  \n",
            "origin                          \n",
            "Arizona          75          4  \n",
            "Florida          85         31  \n",
            "California       25          2  \n"
          ]
        }
      ]
    },
    {
      "cell_type": "markdown",
      "source": [
        "Select the rows called Texas and Arizona"
      ],
      "metadata": {
        "id": "xHxVfJsJ3tU3"
      }
    },
    {
      "cell_type": "markdown",
      "source": [
        "\n",
        "Select the third cell down in the column named death"
      ],
      "metadata": {
        "id": "a37eL0gY4epq"
      }
    },
    {
      "cell_type": "code",
      "source": [
        "third_cell_deaths = df.loc[['Texas', 'Arizona'], 'deaths']\n",
        "print(third_cell_deaths)"
      ],
      "metadata": {
        "colab": {
          "base_uri": "https://localhost:8080/"
        },
        "id": "FjsCm7UG4lgu",
        "outputId": "998cb242-6c17-4bb9-d2e2-0376cf986b08"
      },
      "execution_count": 33,
      "outputs": [
        {
          "output_type": "stream",
          "name": "stdout",
          "text": [
            "origin\n",
            "Texas      24\n",
            "Arizona     4\n",
            "Name: deaths, dtype: int64\n"
          ]
        }
      ]
    }
  ]
}