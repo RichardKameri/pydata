{
  "nbformat": 4,
  "nbformat_minor": 0,
  "metadata": {
    "colab": {
      "provenance": [],
      "authorship_tag": "ABX9TyOhPF4/HrEPgMEfeY/pKCkL",
      "include_colab_link": true
    },
    "kernelspec": {
      "name": "python3",
      "display_name": "Python 3"
    },
    "language_info": {
      "name": "python"
    }
  },
  "cells": [
    {
      "cell_type": "markdown",
      "metadata": {
        "id": "view-in-github",
        "colab_type": "text"
      },
      "source": [
        "<a href=\"https://colab.research.google.com/github/RichardKameri/tydata/blob/main/numpyexe3.ipynb\" target=\"_parent\"><img src=\"https://colab.research.google.com/assets/colab-badge.svg\" alt=\"Open In Colab\"/></a>"
      ]
    },
    {
      "cell_type": "code",
      "execution_count": 1,
      "metadata": {
        "colab": {
          "base_uri": "https://localhost:8080/"
        },
        "id": "0lK-mTWRJapt",
        "outputId": "e5e99b02-a7d9-443a-8ff0-dd13a5248d07"
      },
      "outputs": [
        {
          "output_type": "stream",
          "name": "stdout",
          "text": [
            "Result: [inf inf nan]\n"
          ]
        },
        {
          "output_type": "execute_result",
          "data": {
            "text/plain": [
              "{'divide': 'ignore', 'over': 'ignore', 'under': 'ignore', 'invalid': 'ignore'}"
            ]
          },
          "metadata": {},
          "execution_count": 1
        }
      ],
      "source": [
        "import numpy as np\n",
        "\n",
        "# Ignore all NumPy warnings\n",
        "np.seterr(all='ignore')\n",
        "\n",
        "# Example operation that would normally generate a warning\n",
        "result = np.array([1.0, 2.0, 0.0]) / np.array([0.0, 0.0, 0.0])\n",
        "print(\"Result:\", result)\n",
        "\n",
        "# Reset to default behavior (optional but recommended after the critical section)\n",
        "np.seterr(all='warn')\n"
      ]
    },
    {
      "cell_type": "code",
      "source": [
        "import numpy as np\n",
        "result_standard = np.sqrt(-1)\n",
        "print(result_standard)\n"
      ],
      "metadata": {
        "colab": {
          "base_uri": "https://localhost:8080/"
        },
        "id": "yzekQSyXKerG",
        "outputId": "b7376256-a027-41a0-fb1b-77e5e1ae5166"
      },
      "execution_count": 2,
      "outputs": [
        {
          "output_type": "stream",
          "name": "stdout",
          "text": [
            "nan\n"
          ]
        },
        {
          "output_type": "stream",
          "name": "stderr",
          "text": [
            "<ipython-input-2-b4fb279bd3bc>:2: RuntimeWarning: invalid value encountered in sqrt\n",
            "  result_standard = np.sqrt(-1)\n"
          ]
        }
      ]
    },
    {
      "cell_type": "code",
      "source": [
        "import numpy as np\n",
        "result_emath = np.emath.sqrt(-1)\n",
        "print(result_emath)\n"
      ],
      "metadata": {
        "colab": {
          "base_uri": "https://localhost:8080/"
        },
        "id": "VAcKVzXNKwBy",
        "outputId": "f461a450-9396-46c2-f93d-31817c4532cc"
      },
      "execution_count": 3,
      "outputs": [
        {
          "output_type": "stream",
          "name": "stdout",
          "text": [
            "1j\n"
          ]
        }
      ]
    },
    {
      "cell_type": "code",
      "source": [
        "comparison_result = np.sqrt(-1) == np.emath.sqrt(-1)\n",
        "print(comparison_result)\n"
      ],
      "metadata": {
        "colab": {
          "base_uri": "https://localhost:8080/"
        },
        "id": "_kO4zhTDKylm",
        "outputId": "f743d22e-4c37-4ef5-88b3-00452a62f95a"
      },
      "execution_count": 4,
      "outputs": [
        {
          "output_type": "stream",
          "name": "stdout",
          "text": [
            "False\n"
          ]
        },
        {
          "output_type": "stream",
          "name": "stderr",
          "text": [
            "<ipython-input-4-593bf5f14177>:1: RuntimeWarning: invalid value encountered in sqrt\n",
            "  comparison_result = np.sqrt(-1) == np.emath.sqrt(-1)\n"
          ]
        }
      ]
    },
    {
      "cell_type": "code",
      "source": [
        "from datetime import datetime, timedelta\n",
        "\n",
        "# Get today's date\n",
        "today = datetime.now()\n",
        "\n",
        "# Calculate yesterday's date\n",
        "yesterday = today - timedelta(days=1)\n",
        "\n",
        "# Calculate tomorrow's date\n",
        "tomorrow = today + timedelta(days=1)\n",
        "\n",
        "# Print the dates\n",
        "print(\"Yesterday:\", yesterday.strftime('%Y-%m-%d'))\n",
        "print(\"Today:\", today.strftime('%Y-%m-%d'))\n",
        "print(\"Tomorrow:\", tomorrow.strftime('%Y-%m-%d'))\n"
      ],
      "metadata": {
        "colab": {
          "base_uri": "https://localhost:8080/"
        },
        "id": "bogC1YdEK8pz",
        "outputId": "a72c3777-b17b-4f75-b30d-6699470b8598"
      },
      "execution_count": 5,
      "outputs": [
        {
          "output_type": "stream",
          "name": "stdout",
          "text": [
            "Yesterday: 2024-11-14\n",
            "Today: 2024-11-15\n",
            "Tomorrow: 2024-11-16\n"
          ]
        }
      ]
    },
    {
      "cell_type": "code",
      "source": [
        "from datetime import datetime, timedelta\n",
        "\n",
        "# Start date: July 1, 2016\n",
        "start_date = datetime(2016, 7, 1)\n",
        "\n",
        "# List to hold all the dates\n",
        "july_dates = []\n",
        "\n",
        "# Loop through the days of July 2016\n",
        "for i in range(31):\n",
        "    day = start_date + timedelta(days=i)\n",
        "    july_dates.append(day.strftime('%Y-%m-%d'))\n",
        "\n",
        "# Display all the dates\n",
        "print(july_dates)\n"
      ],
      "metadata": {
        "colab": {
          "base_uri": "https://localhost:8080/"
        },
        "id": "-w9slAO8LA0l",
        "outputId": "1d7f0b68-899b-4419-8fd0-fb6fa6889b46"
      },
      "execution_count": 6,
      "outputs": [
        {
          "output_type": "stream",
          "name": "stdout",
          "text": [
            "['2016-07-01', '2016-07-02', '2016-07-03', '2016-07-04', '2016-07-05', '2016-07-06', '2016-07-07', '2016-07-08', '2016-07-09', '2016-07-10', '2016-07-11', '2016-07-12', '2016-07-13', '2016-07-14', '2016-07-15', '2016-07-16', '2016-07-17', '2016-07-18', '2016-07-19', '2016-07-20', '2016-07-21', '2016-07-22', '2016-07-23', '2016-07-24', '2016-07-25', '2016-07-26', '2016-07-27', '2016-07-28', '2016-07-29', '2016-07-30', '2016-07-31']\n"
          ]
        }
      ]
    },
    {
      "cell_type": "code",
      "source": [
        "import numpy as np\n",
        "\n",
        "# Define example arrays A and B\n",
        "A = np.array([1.0, 2.0, 3.0])\n",
        "B = np.array([4.0, 5.0, 6.0])\n",
        "\n",
        "# Compute A + B and store the result in A\n",
        "A += B\n",
        "\n",
        "# Compute -A/2 in place\n",
        "A *= -0.5\n",
        "\n",
        "# Display the result\n",
        "print(A)\n"
      ],
      "metadata": {
        "colab": {
          "base_uri": "https://localhost:8080/"
        },
        "id": "GYxp9vTTLTsJ",
        "outputId": "43796432-cb60-4583-bf13-f18c9ec64e22"
      },
      "execution_count": 7,
      "outputs": [
        {
          "output_type": "stream",
          "name": "stdout",
          "text": [
            "[-2.5 -3.5 -4.5]\n"
          ]
        }
      ]
    },
    {
      "cell_type": "code",
      "source": [
        "import numpy as np\n",
        "\n",
        "# Generate a random array of positive numbers\n",
        "random_array = np.random.rand(5) * 10  # Scale to get numbers between 0 and 10\n",
        "\n",
        "# Extract the integer part using np.floor\n",
        "int_part_floor = np.floor(random_array)\n",
        "\n",
        "print(\"Original Array:\", random_array)\n",
        "print(\"Integer Part using np.floor:\", int_part_floor)\n"
      ],
      "metadata": {
        "colab": {
          "base_uri": "https://localhost:8080/"
        },
        "id": "yKraQSfHLh4g",
        "outputId": "13c62cf4-2cf7-4382-dddc-4496787b3da8"
      },
      "execution_count": 8,
      "outputs": [
        {
          "output_type": "stream",
          "name": "stdout",
          "text": [
            "Original Array: [7.7148913  1.1165244  7.93698135 5.51391447 6.19610068]\n",
            "Integer Part using np.floor: [7. 1. 7. 5. 6.]\n"
          ]
        }
      ]
    },
    {
      "cell_type": "code",
      "source": [
        "# Extract the integer part using np.trunc\n",
        "int_part_trunc = np.trunc(random_array)\n",
        "\n",
        "print(\"Integer Part using np.trunc:\", int_part_trunc)\n"
      ],
      "metadata": {
        "colab": {
          "base_uri": "https://localhost:8080/"
        },
        "id": "wCcK1yFFLkgX",
        "outputId": "c18e30fe-428d-4bdf-c776-5402fec881c2"
      },
      "execution_count": 9,
      "outputs": [
        {
          "output_type": "stream",
          "name": "stdout",
          "text": [
            "Integer Part using np.trunc: [7. 1. 7. 5. 6.]\n"
          ]
        }
      ]
    },
    {
      "cell_type": "code",
      "source": [
        "# Extract the integer part using astype(int)\n",
        "int_part_astype = random_array.astype(int)\n",
        "\n",
        "print(\"Integer Part using astype(int):\", int_part_astype)\n"
      ],
      "metadata": {
        "colab": {
          "base_uri": "https://localhost:8080/"
        },
        "id": "-1CYDxLcLpxj",
        "outputId": "5915529c-9701-41fe-b19b-71b41fd3b552"
      },
      "execution_count": 10,
      "outputs": [
        {
          "output_type": "stream",
          "name": "stdout",
          "text": [
            "Integer Part using astype(int): [7 1 7 5 6]\n"
          ]
        }
      ]
    },
    {
      "cell_type": "code",
      "source": [
        "# Extract the integer part using np.fix\n",
        "int_part_fix = np.fix(random_array)\n",
        "\n",
        "print(\"Integer Part using np.fix:\", int_part_fix)\n"
      ],
      "metadata": {
        "colab": {
          "base_uri": "https://localhost:8080/"
        },
        "id": "MytEQ6_sLur9",
        "outputId": "2afff68f-1119-4449-dfa4-b965d25b6052"
      },
      "execution_count": 11,
      "outputs": [
        {
          "output_type": "stream",
          "name": "stdout",
          "text": [
            "Integer Part using np.fix: [7. 1. 7. 5. 6.]\n"
          ]
        }
      ]
    },
    {
      "cell_type": "code",
      "source": [
        "import numpy as np\n",
        "\n",
        "# Create a 5x5 matrix with row values ranging from 0 to 4\n",
        "matrix = np.tile(np.arange(5), (5, 1))\n",
        "\n",
        "# Display the matrix\n",
        "print(matrix)\n"
      ],
      "metadata": {
        "colab": {
          "base_uri": "https://localhost:8080/"
        },
        "id": "vBnWYt2KL5Go",
        "outputId": "d3f457bd-c591-4022-b45f-9842db6d5b1d"
      },
      "execution_count": 12,
      "outputs": [
        {
          "output_type": "stream",
          "name": "stdout",
          "text": [
            "[[0 1 2 3 4]\n",
            " [0 1 2 3 4]\n",
            " [0 1 2 3 4]\n",
            " [0 1 2 3 4]\n",
            " [0 1 2 3 4]]\n"
          ]
        }
      ]
    },
    {
      "cell_type": "code",
      "source": [
        "def generate_integers():\n",
        "    for i in range(10):\n",
        "        yield i\n"
      ],
      "metadata": {
        "id": "oQ_sE2txMDic"
      },
      "execution_count": 13,
      "outputs": []
    },
    {
      "cell_type": "code",
      "source": [
        "import numpy as np\n",
        "\n",
        "# Use the generator function to create an array\n",
        "gen = generate_integers()\n",
        "array = np.fromiter(gen, dtype=int)\n",
        "\n",
        "# Display the array\n",
        "print(\"Generated Array:\", array)\n"
      ],
      "metadata": {
        "colab": {
          "base_uri": "https://localhost:8080/"
        },
        "id": "VbrkB3ToMHsE",
        "outputId": "c7575c79-e6d9-4af3-de1d-6ac99d45104e"
      },
      "execution_count": 14,
      "outputs": [
        {
          "output_type": "stream",
          "name": "stdout",
          "text": [
            "Generated Array: [0 1 2 3 4 5 6 7 8 9]\n"
          ]
        }
      ]
    },
    {
      "cell_type": "code",
      "source": [
        "import numpy as np\n",
        "\n",
        "# Create a random vector of size 10\n",
        "random_vector = np.random.rand(10)\n",
        "\n",
        "# Sort the vector\n",
        "sorted_vector = np.sort(random_vector)\n",
        "\n",
        "# Display the vectors\n",
        "print(\"Random Vector:\", random_vector)\n",
        "print(\"Sorted Vector:\", sorted_vector)\n"
      ],
      "metadata": {
        "colab": {
          "base_uri": "https://localhost:8080/"
        },
        "id": "NTv3tm2hMO6F",
        "outputId": "3a263c65-84cd-43a3-d45c-5d5c9e997786"
      },
      "execution_count": 15,
      "outputs": [
        {
          "output_type": "stream",
          "name": "stdout",
          "text": [
            "Random Vector: [0.97971926 0.57433192 0.22677034 0.14537964 0.67280993 0.17504259\n",
            " 0.52562152 0.47795646 0.29968576 0.19867809]\n",
            "Sorted Vector: [0.14537964 0.17504259 0.19867809 0.22677034 0.29968576 0.47795646\n",
            " 0.52562152 0.57433192 0.67280993 0.97971926]\n"
          ]
        }
      ]
    },
    {
      "cell_type": "code",
      "source": [
        "import numpy as np\n",
        "\n",
        "# Example small array\n",
        "array = np.array([1, 2, 3, 4, 5])\n",
        "\n",
        "# Using Python's built-in sum\n",
        "result = sum(array)\n",
        "\n",
        "print(\"Sum using Python's built-in sum:\", result)\n"
      ],
      "metadata": {
        "colab": {
          "base_uri": "https://localhost:8080/"
        },
        "id": "a3of9wzbMdln",
        "outputId": "51abb015-e433-4459-c8ca-4ff5000c96d7"
      },
      "execution_count": 16,
      "outputs": [
        {
          "output_type": "stream",
          "name": "stdout",
          "text": [
            "Sum using Python's built-in sum: 15\n"
          ]
        }
      ]
    },
    {
      "cell_type": "code",
      "source": [
        "import numpy as np\n",
        "\n",
        "# Generate two random arrays\n",
        "A = np.random.rand(5)\n",
        "B = np.random.rand(5)\n",
        "\n",
        "# Check if the arrays are equal\n",
        "are_equal = np.array_equal(A, B)\n",
        "\n",
        "# Display the arrays and the result\n",
        "print(\"Array A:\", A)\n",
        "print(\"Array B:\", B)\n",
        "print(\"Are arrays A and B equal?\", are_equal)\n"
      ],
      "metadata": {
        "colab": {
          "base_uri": "https://localhost:8080/"
        },
        "id": "r6zyYnrIMoaQ",
        "outputId": "aae77927-3218-4560-ca0b-2f1374b54ab2"
      },
      "execution_count": 17,
      "outputs": [
        {
          "output_type": "stream",
          "name": "stdout",
          "text": [
            "Array A: [0.63778605 0.03326335 0.82968017 0.66267649 0.50308788]\n",
            "Array B: [0.26941647 0.35320875 0.59090798 0.56661911 0.15977334]\n",
            "Are arrays A and B equal? False\n"
          ]
        }
      ]
    },
    {
      "cell_type": "code",
      "source": [
        "import numpy as np\n",
        "\n",
        "# Create a random array\n",
        "array = np.random.rand(5)\n",
        "\n",
        "# Make the array immutable (read-only)\n",
        "array.flags.writeable = False\n",
        "\n",
        "# Display the array\n",
        "print(\"Immutable Array:\", array)\n",
        "\n",
        "# Attempt to modify the array (this will raise an error)\n",
        "try:\n",
        "    array[0] = 10\n",
        "except ValueError as e:\n",
        "    print(\"Error:\", e)\n"
      ],
      "metadata": {
        "colab": {
          "base_uri": "https://localhost:8080/"
        },
        "id": "Q5WdqMA0MzEw",
        "outputId": "63363917-e795-4a4b-9d39-d862dffa722e"
      },
      "execution_count": 18,
      "outputs": [
        {
          "output_type": "stream",
          "name": "stdout",
          "text": [
            "Immutable Array: [0.49851511 0.09534504 0.39952552 0.03893548 0.82106193]\n",
            "Error: assignment destination is read-only\n"
          ]
        }
      ]
    },
    {
      "cell_type": "code",
      "source": [
        "import numpy as np\n",
        "\n",
        "# Generate a random 10x2 matrix representing Cartesian coordinates\n",
        "cartesian_coords = np.random.rand(10, 2)\n",
        "\n",
        "# Split the matrix into x and y coordinates\n",
        "x_coords = cartesian_coords[:, 0]\n",
        "y_coords = cartesian_coords[:, 1]\n",
        "\n",
        "# Calculate the radius r\n",
        "r = np.sqrt(x_coords**2 + y_coords**2)\n",
        "\n",
        "# Calculate the angle theta\n",
        "theta = np.arctan2(y_coords, x_coords)\n",
        "\n",
        "# Combine r and theta into a single matrix\n",
        "polar_coords = np.column_stack((r, theta))\n",
        "\n",
        "# Display the results\n",
        "print(\"Cartesian Coordinates:\\n\", cartesian_coords)\n",
        "print(\"Polar Coordinates (r, theta):\\n\", polar_coords)\n"
      ],
      "metadata": {
        "colab": {
          "base_uri": "https://localhost:8080/"
        },
        "id": "aFovTobWNL_S",
        "outputId": "41311194-0196-4faa-97b9-6ea6f975d03e"
      },
      "execution_count": 19,
      "outputs": [
        {
          "output_type": "stream",
          "name": "stdout",
          "text": [
            "Cartesian Coordinates:\n",
            " [[0.5142002  0.1313223 ]\n",
            " [0.25770405 0.90147083]\n",
            " [0.99154066 0.1011579 ]\n",
            " [0.28513267 0.05513269]\n",
            " [0.68880817 0.58469057]\n",
            " [0.2929823  0.0388592 ]\n",
            " [0.88944309 0.98563073]\n",
            " [0.84428339 0.46382531]\n",
            " [0.90381013 0.64208755]\n",
            " [0.67629373 0.10595757]]\n",
            "Polar Coordinates (r, theta):\n",
            " [[0.53070462 0.25004644]\n",
            " [0.93758254 1.29235211]\n",
            " [0.99668741 0.10166917]\n",
            " [0.29041393 0.19100097]\n",
            " [0.90350416 0.70382247]\n",
            " [0.29554808 0.13186362]\n",
            " [1.32762078 0.8366513 ]\n",
            " [0.96330076 0.50236062]\n",
            " [1.10867001 0.6176871 ]\n",
            " [0.6845438  0.1554105 ]]\n"
          ]
        }
      ]
    },
    {
      "cell_type": "code",
      "source": [
        "import numpy as np\n",
        "\n",
        "# Create a random vector of size 10\n",
        "random_vector = np.random.rand(10)\n",
        "\n",
        "# Display the original vector\n",
        "print(\"Original Vector:\", random_vector)\n",
        "\n",
        "# Find the index of the maximum value\n",
        "max_index = np.argmax(random_vector)\n",
        "\n",
        "# Replace the maximum value with 0\n",
        "random_vector[max_index] = 0\n",
        "\n",
        "# Display the modified vector\n",
        "print(\"Modified Vector:\", random_vector)\n"
      ],
      "metadata": {
        "colab": {
          "base_uri": "https://localhost:8080/"
        },
        "id": "ZDOYXOXlNUzH",
        "outputId": "dfc876d0-281e-4efe-cfef-999d3578d176"
      },
      "execution_count": 20,
      "outputs": [
        {
          "output_type": "stream",
          "name": "stdout",
          "text": [
            "Original Vector: [0.93563366 0.9054732  0.21537992 0.36994055 0.54119119 0.79190208\n",
            " 0.67447668 0.67121098 0.66034369 0.41380032]\n",
            "Modified Vector: [0.         0.9054732  0.21537992 0.36994055 0.54119119 0.79190208\n",
            " 0.67447668 0.67121098 0.66034369 0.41380032]\n"
          ]
        }
      ]
    }
  ]
}