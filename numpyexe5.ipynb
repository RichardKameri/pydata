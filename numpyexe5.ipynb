{
  "nbformat": 4,
  "nbformat_minor": 0,
  "metadata": {
    "colab": {
      "provenance": [],
      "authorship_tag": "ABX9TyMPLhgiI9GBJfX7Fq7vj+lj",
      "include_colab_link": true
    },
    "kernelspec": {
      "name": "python3",
      "display_name": "Python 3"
    },
    "language_info": {
      "name": "python"
    }
  },
  "cells": [
    {
      "cell_type": "markdown",
      "metadata": {
        "id": "view-in-github",
        "colab_type": "text"
      },
      "source": [
        "<a href=\"https://colab.research.google.com/github/RichardKameri/tydata/blob/main/numpyexe5.ipynb\" target=\"_parent\"><img src=\"https://colab.research.google.com/assets/colab-badge.svg\" alt=\"Open In Colab\"/></a>"
      ]
    },
    {
      "cell_type": "code",
      "execution_count": 1,
      "metadata": {
        "colab": {
          "base_uri": "https://localhost:8080/"
        },
        "id": "fQF1s6JFOOxj",
        "outputId": "0eb2875a-b91a-42f2-c827-165de19c21c5"
      },
      "outputs": [
        {
          "output_type": "stream",
          "name": "stdout",
          "text": [
            "Array: [ 1  3  8 10 15]\n",
            "Given value: 9\n",
            "Nearest value: 8\n"
          ]
        }
      ],
      "source": [
        "import numpy as np\n",
        "\n",
        "# Example array\n",
        "array = np.array([1, 3, 8, 10, 15])\n",
        "\n",
        "# Given value\n",
        "given_value = 9\n",
        "\n",
        "# Find the index of the nearest value\n",
        "index = (np.abs(array - given_value)).argmin()\n",
        "\n",
        "# Get the nearest value\n",
        "nearest_value = array[index]\n",
        "\n",
        "# Display the result\n",
        "print(\"Array:\", array)\n",
        "print(\"Given value:\", given_value)\n",
        "print(\"Nearest value:\", nearest_value)\n"
      ]
    },
    {
      "cell_type": "code",
      "source": [
        "import numpy as np\n",
        "\n",
        "# Define the two arrays\n",
        "array1 = np.array([[1, 2, 3]])\n",
        "array2 = np.array([[4], [5], [6]])\n",
        "\n",
        "# Initialize an output array with the shape resulting from the broadcasting\n",
        "result = np.zeros((3, 3))\n",
        "\n",
        "# Create an iterator for the two arrays and the output array\n",
        "with np.nditer([array1, array2, result], flags=['external_loop'], op_flags=[['readonly'], ['readonly'], ['writeonly']]) as it:\n",
        "    for x, y, z in it:\n",
        "        z[...] = x + y\n",
        "\n",
        "# Display the result\n",
        "print(\"Array 1:\\n\", array1)\n",
        "print(\"Array 2:\\n\", array2)\n",
        "print(\"Sum:\\n\", result)\n"
      ],
      "metadata": {
        "colab": {
          "base_uri": "https://localhost:8080/"
        },
        "id": "KDUzMkvlO7Ki",
        "outputId": "576302ff-5dd4-45fb-97d0-f7dee5cd1d90"
      },
      "execution_count": 2,
      "outputs": [
        {
          "output_type": "stream",
          "name": "stdout",
          "text": [
            "Array 1:\n",
            " [[1 2 3]]\n",
            "Array 2:\n",
            " [[4]\n",
            " [5]\n",
            " [6]]\n",
            "Sum:\n",
            " [[5. 6. 7.]\n",
            " [6. 7. 8.]\n",
            " [7. 8. 9.]]\n"
          ]
        }
      ]
    },
    {
      "cell_type": "code",
      "source": [
        "import numpy as np\n",
        "\n",
        "class NamedArray(np.ndarray):\n",
        "    def __new__(cls, input_array, name=\"default\"):\n",
        "        obj = np.asarray(input_array).view(cls)\n",
        "        obj.name = name\n",
        "        return obj\n",
        "\n",
        "    def __array_finalize__(self, obj):\n",
        "        if obj is None: return\n",
        "        self.name = getattr(obj, 'name', \"default\")\n",
        "\n",
        "# Example usage\n",
        "data = np.array([1, 2, 3, 4, 5])\n",
        "named_array = NamedArray(data, name=\"MyArray\")\n",
        "\n",
        "print(\"Array:\", named_array)\n",
        "print(\"Name:\", named_array.name)\n"
      ],
      "metadata": {
        "colab": {
          "base_uri": "https://localhost:8080/"
        },
        "id": "6Q6zCJo3PFAb",
        "outputId": "517d22dc-a0d9-412f-c84c-8926badfae6b"
      },
      "execution_count": 3,
      "outputs": [
        {
          "output_type": "stream",
          "name": "stdout",
          "text": [
            "Array: [1 2 3 4 5]\n",
            "Name: MyArray\n"
          ]
        }
      ]
    },
    {
      "cell_type": "code",
      "source": [
        "import numpy as np\n",
        "\n",
        "# Example vector and index array\n",
        "vector = np.array([0, 1, 2, 3, 4, 5])\n",
        "indices = np.array([0, 1, 1, 2, 3, 3, 3])\n",
        "\n",
        "# Add 1 to each element indexed by the second vector\n",
        "np.add.at(vector, indices, 1)\n",
        "\n",
        "# Display the modified vector\n",
        "print(\"Modified Vector:\", vector)\n"
      ],
      "metadata": {
        "colab": {
          "base_uri": "https://localhost:8080/"
        },
        "id": "DkyA8K0aPRAh",
        "outputId": "9a16573a-c056-4c59-ad8b-e090662b43a9"
      },
      "execution_count": 4,
      "outputs": [
        {
          "output_type": "stream",
          "name": "stdout",
          "text": [
            "Modified Vector: [1 3 3 6 4 5]\n"
          ]
        }
      ]
    },
    {
      "cell_type": "code",
      "source": [
        "import numpy as np\n",
        "\n",
        "# Example vector X\n",
        "X = np.array([1, 2, 3, 4, 5])\n",
        "\n",
        "# Index list I\n",
        "I = np.array([0, 1, 2, 1, 0])\n",
        "\n",
        "# Initialize array F with zeros of appropriate size\n",
        "F = np.zeros(3, dtype=int)\n",
        "\n",
        "# Accumulate elements of X into F based on I\n",
        "np.add.at(F, I, X)\n",
        "\n",
        "# Display the result\n",
        "print(\"Vector X:\", X)\n",
        "print(\"Index List I:\", I)\n",
        "print(\"Accumulated Array F:\", F)\n"
      ],
      "metadata": {
        "colab": {
          "base_uri": "https://localhost:8080/"
        },
        "id": "IgqWF3W9R-TX",
        "outputId": "c47e6c56-6618-451c-9627-7ea573c38e96"
      },
      "execution_count": 5,
      "outputs": [
        {
          "output_type": "stream",
          "name": "stdout",
          "text": [
            "Vector X: [1 2 3 4 5]\n",
            "Index List I: [0 1 2 1 0]\n",
            "Accumulated Array F: [6 6 3]\n"
          ]
        }
      ]
    },
    {
      "cell_type": "code",
      "source": [
        "import numpy as np\n",
        "\n",
        "# Example image with random colors (assuming a small image for demonstration)\n",
        "w, h = 4, 4\n",
        "image = np.random.randint(0, 256, size=(w, h, 3), dtype=np.uint8)\n",
        "\n",
        "# Reshape the image to combine the color channels\n",
        "flat_image = image.reshape(-1, 3)\n",
        "\n",
        "# Find unique colors\n",
        "unique_colors = np.unique(flat_image, axis=0)\n",
        "\n",
        "# Compute the number of unique colors\n",
        "num_unique_colors = unique_colors.shape[0]\n",
        "\n",
        "# Display the result\n",
        "print(\"Number of unique colors:\", num_unique_colors)\n"
      ],
      "metadata": {
        "colab": {
          "base_uri": "https://localhost:8080/"
        },
        "id": "b5k6IJ7rSKmj",
        "outputId": "8ead615b-6da7-4a60-d1aa-2f8fff2a88c4"
      },
      "execution_count": 6,
      "outputs": [
        {
          "output_type": "stream",
          "name": "stdout",
          "text": [
            "Number of unique colors: 16\n"
          ]
        }
      ]
    },
    {
      "cell_type": "code",
      "source": [
        "import numpy as np\n",
        "\n",
        "# Example 4D array\n",
        "array_4d = np.random.rand(2, 3, 4, 5)\n",
        "\n",
        "# Compute the sum over the last two axes\n",
        "sum_over_axes = np.sum(array_4d, axis=(-2, -1))\n",
        "\n",
        "# Display the result\n",
        "print(\"Original Array Shape:\", array_4d.shape)\n",
        "print(\"Sum Over Last Two Axes:\", sum_over_axes)\n",
        "print(\"Result Shape:\", sum_over_axes.shape)\n"
      ],
      "metadata": {
        "colab": {
          "base_uri": "https://localhost:8080/"
        },
        "id": "OFZeGoK3SXk1",
        "outputId": "42745cb8-9451-4401-f1ab-f461dc466e41"
      },
      "execution_count": 7,
      "outputs": [
        {
          "output_type": "stream",
          "name": "stdout",
          "text": [
            "Original Array Shape: (2, 3, 4, 5)\n",
            "Sum Over Last Two Axes: [[8.49957242 9.64577375 8.98990103]\n",
            " [9.07735268 9.0871941  9.35081285]]\n",
            "Result Shape: (2, 3)\n"
          ]
        }
      ]
    },
    {
      "cell_type": "code",
      "source": [
        "import numpy as np\n",
        "\n",
        "# Example vectors D and S\n",
        "D = np.array([10, 20, 30, 40, 50])\n",
        "S = np.array([0, 1, 0, 1, 0])\n",
        "\n",
        "# Find unique subset indices\n",
        "unique_indices = np.unique(S)\n",
        "\n",
        "# Initialize an array to store the means\n",
        "means = np.zeros(len(unique_indices))\n",
        "\n",
        "# Calculate the mean for each subset\n",
        "for idx in unique_indices:\n",
        "    means[idx] = np.mean(D[S == idx])\n",
        "\n",
        "# Display the results\n",
        "print(\"Vector D:\", D)\n",
        "print(\"Subset Indices S:\", S)\n",
        "print(\"Means of Subsets:\", means)\n"
      ],
      "metadata": {
        "colab": {
          "base_uri": "https://localhost:8080/"
        },
        "id": "UH4q_rMHSjco",
        "outputId": "6e514b1b-b205-4e2d-f7ed-f502ac39a1ea"
      },
      "execution_count": 8,
      "outputs": [
        {
          "output_type": "stream",
          "name": "stdout",
          "text": [
            "Vector D: [10 20 30 40 50]\n",
            "Subset Indices S: [0 1 0 1 0]\n",
            "Means of Subsets: [30. 30.]\n"
          ]
        }
      ]
    },
    {
      "cell_type": "code",
      "source": [
        "import numpy as np\n",
        "\n",
        "# Example matrices A and B\n",
        "A = np.array([[1, 2, 3],\n",
        "              [4, 5, 6],\n",
        "              [7, 8, 9]])\n",
        "\n",
        "B = np.array([[9, 8, 7],\n",
        "              [6, 5, 4],\n",
        "              [3, 2, 1]])\n",
        "\n",
        "# Compute the diagonal of the dot product\n",
        "diagonal = np.einsum('ij,ji->i', A, B)\n",
        "\n",
        "# Display the result\n",
        "print(\"Matrix A:\\n\", A)\n",
        "print(\"Matrix B:\\n\", B)\n",
        "print(\"Diagonal of Dot Product:\", diagonal)\n"
      ],
      "metadata": {
        "colab": {
          "base_uri": "https://localhost:8080/"
        },
        "id": "aRtSiDa5Swqo",
        "outputId": "5a173a4f-0a3a-456e-a977-48f0700b8518"
      },
      "execution_count": 9,
      "outputs": [
        {
          "output_type": "stream",
          "name": "stdout",
          "text": [
            "Matrix A:\n",
            " [[1 2 3]\n",
            " [4 5 6]\n",
            " [7 8 9]]\n",
            "Matrix B:\n",
            " [[9 8 7]\n",
            " [6 5 4]\n",
            " [3 2 1]]\n",
            "Diagonal of Dot Product: [30 69 90]\n"
          ]
        }
      ]
    },
    {
      "cell_type": "code",
      "source": [
        "import numpy as np\n",
        "\n",
        "# Original vector\n",
        "original_vector = np.array([1, 2, 3, 4, 5])\n",
        "\n",
        "# Size of the new vector: original length + (3 zeros * (original length - 1))\n",
        "new_size = len(original_vector) + (3 * (len(original_vector) - 1))\n",
        "\n",
        "# Initialize the new vector with zeros\n",
        "new_vector = np.zeros(new_size, dtype=int)\n",
        "\n",
        "# Assign values from the original vector to the new vector\n",
        "new_vector[::4] = original_vector\n",
        "\n",
        "# Display the new vector\n",
        "print(\"Original Vector:\", original_vector)\n",
        "print(\"New Vector with Interleaved Zeros:\", new_vector)\n"
      ],
      "metadata": {
        "colab": {
          "base_uri": "https://localhost:8080/"
        },
        "id": "kd5MI3ZKTFtk",
        "outputId": "c1684747-66c5-4176-aad7-432b536c42c2"
      },
      "execution_count": 10,
      "outputs": [
        {
          "output_type": "stream",
          "name": "stdout",
          "text": [
            "Original Vector: [1 2 3 4 5]\n",
            "New Vector with Interleaved Zeros: [1 0 0 0 2 0 0 0 3 0 0 0 4 0 0 0 5]\n"
          ]
        }
      ]
    },
    {
      "cell_type": "code",
      "source": [
        "import numpy as np\n",
        "\n",
        "# Example arrays\n",
        "array_3d = np.random.rand(5, 5, 3)\n",
        "array_2d = np.random.rand(5, 5)\n",
        "\n",
        "# Multiply the (5, 5, 3) array by the (5, 5) array using broadcasting\n",
        "result = array_3d * array_2d[:, :, np.newaxis]\n",
        "\n",
        "# Display the result\n",
        "print(\"3D Array:\\n\", array_3d)\n",
        "print(\"2D Array:\\n\", array_2d)\n",
        "print(\"Result of Multiplication:\\n\", result)\n"
      ],
      "metadata": {
        "colab": {
          "base_uri": "https://localhost:8080/"
        },
        "id": "eAi17_H8TVc5",
        "outputId": "c6261d0e-3e57-4dd9-93c1-d89fc75bb8fb"
      },
      "execution_count": 11,
      "outputs": [
        {
          "output_type": "stream",
          "name": "stdout",
          "text": [
            "3D Array:\n",
            " [[[0.69804836 0.4123853  0.34479555]\n",
            "  [0.44473997 0.00899837 0.70472304]\n",
            "  [0.68912482 0.83273806 0.62032144]\n",
            "  [0.50217535 0.90248138 0.05317128]\n",
            "  [0.37320426 0.38506145 0.93403949]]\n",
            "\n",
            " [[0.04312465 0.02790205 0.98527939]\n",
            "  [0.30650665 0.91365604 0.26457484]\n",
            "  [0.55501227 0.36726134 0.50422558]\n",
            "  [0.56373585 0.91085702 0.57724541]\n",
            "  [0.35593816 0.22453301 0.64373857]]\n",
            "\n",
            " [[0.87882925 0.21877372 0.71276527]\n",
            "  [0.05046747 0.75864665 0.94580286]\n",
            "  [0.99754681 0.57502019 0.91000456]\n",
            "  [0.6470312  0.43064384 0.80059181]\n",
            "  [0.61105042 0.67010069 0.88996147]]\n",
            "\n",
            " [[0.02453589 0.0085851  0.80721289]\n",
            "  [0.41937825 0.39660681 0.9342317 ]\n",
            "  [0.42274412 0.45098167 0.96894045]\n",
            "  [0.17079373 0.92004675 0.93307875]\n",
            "  [0.41146449 0.95344743 0.9460692 ]]\n",
            "\n",
            " [[0.08454509 0.85423723 0.6517501 ]\n",
            "  [0.40146276 0.31101832 0.28883379]\n",
            "  [0.88143094 0.28907717 0.40587366]\n",
            "  [0.70471659 0.37236531 0.61798607]\n",
            "  [0.7293896  0.60943409 0.46600792]]]\n",
            "2D Array:\n",
            " [[0.73563492 0.17611355 0.98447621 0.72884408 0.12480193]\n",
            " [0.29659898 0.55912149 0.4468716  0.31320344 0.14513055]\n",
            " [0.58038821 0.06849681 0.27976596 0.70705754 0.72754334]\n",
            " [0.09670877 0.08109346 0.25666861 0.71255326 0.73810793]\n",
            " [0.82561838 0.81938882 0.79509387 0.08274949 0.14225407]]\n",
            "Result of Multiplication:\n",
            " [[[0.51350875 0.30336503 0.25364364]\n",
            "  [0.07832474 0.00158473 0.12411128]\n",
            "  [0.67842699 0.81981081 0.6106917 ]\n",
            "  [0.36600753 0.65776821 0.03875358]\n",
            "  [0.04657661 0.04805641 0.11656993]]\n",
            "\n",
            " [[0.01279073 0.00827572 0.29223286]\n",
            "  [0.17137445 0.51084473 0.14792948]\n",
            "  [0.24801922 0.16411866 0.22532409]\n",
            "  [0.17656401 0.28528355 0.18079524]\n",
            "  [0.0516575  0.0325866  0.09342613]]\n",
            "\n",
            " [[0.51006214 0.12697369 0.41368056]\n",
            "  [0.00345686 0.05196488 0.06478448]\n",
            "  [0.27907964 0.16087108 0.2545883 ]\n",
            "  [0.45748829 0.30448997 0.56606448]\n",
            "  [0.44456567 0.4875273  0.64748555]]\n",
            "\n",
            " [[0.00237284 0.00083025 0.07806457]\n",
            "  [0.03400883 0.03216222 0.07576008]\n",
            "  [0.10850515 0.11575284 0.2486966 ]\n",
            "  [0.12169963 0.65558231 0.66486831]\n",
            "  [0.30370521 0.70374711 0.69830118]]\n",
            "\n",
            " [[0.06980198 0.70527395 0.53809686]\n",
            "  [0.32895409 0.25484494 0.23666718]\n",
            "  [0.70082034 0.22984349 0.32270766]\n",
            "  [0.05831494 0.03081304 0.05113803]\n",
            "  [0.10375864 0.08669448 0.06629153]]]\n"
          ]
        }
      ]
    },
    {
      "cell_type": "code",
      "source": [
        "import numpy as np\n",
        "\n",
        "# Example array\n",
        "array = np.array([\n",
        "    [1, 2, 3],\n",
        "    [4, 5, 6],\n",
        "    [7, 8, 9]\n",
        "])\n",
        "\n",
        "# Indices of the rows you want to swap\n",
        "row1, row2 = 0, 2\n",
        "\n",
        "# Swap the rows\n",
        "array[[row1, row2]] = array[[row2, row1]]\n",
        "\n",
        "# Display the result\n",
        "print(\"Array after swapping rows {} and {}:\\n{}\".format(row1, row2, array))\n"
      ],
      "metadata": {
        "colab": {
          "base_uri": "https://localhost:8080/"
        },
        "id": "tGqT4WK6Tj98",
        "outputId": "2518fdcc-9ef1-4820-9ae1-7c7f15de2e91"
      },
      "execution_count": 12,
      "outputs": [
        {
          "output_type": "stream",
          "name": "stdout",
          "text": [
            "Array after swapping rows 0 and 2:\n",
            "[[7 8 9]\n",
            " [4 5 6]\n",
            " [1 2 3]]\n"
          ]
        }
      ]
    },
    {
      "cell_type": "code",
      "source": [
        "import numpy as np\n",
        "\n",
        "# Example set of 10 triplets (triangles with shared vertices)\n",
        "triangles = np.array([\n",
        "    [0, 1, 2],\n",
        "    [2, 3, 4],\n",
        "    [4, 5, 6],\n",
        "    [6, 7, 8],\n",
        "    [8, 9, 0],\n",
        "    [0, 2, 4],\n",
        "    [4, 6, 8],\n",
        "    [8, 0, 2],\n",
        "    [2, 4, 6],\n",
        "    [6, 8, 0]\n",
        "])\n",
        "\n",
        "# Function to get unique line segments\n",
        "def get_unique_segments(triangles):\n",
        "    segments = set()\n",
        "    for triangle in triangles:\n",
        "        for i in range(3):\n",
        "            # Create a sorted tuple for each edge to avoid duplicates\n",
        "            edge = tuple(sorted([triangle[i], triangle[(i + 1) % 3]]))\n",
        "            segments.add(edge)\n",
        "    return segments\n",
        "\n",
        "# Find the unique line segments\n",
        "unique_segments = get_unique_segments(triangles)\n",
        "\n",
        "# Display the unique line segments\n",
        "print(\"Unique Line Segments:\", unique_segments)\n"
      ],
      "metadata": {
        "colab": {
          "base_uri": "https://localhost:8080/"
        },
        "id": "nYA8zAdITt0e",
        "outputId": "2f1fdf07-dec3-48b8-9584-0d191c79c6e7"
      },
      "execution_count": 13,
      "outputs": [
        {
          "output_type": "stream",
          "name": "stdout",
          "text": [
            "Unique Line Segments: {(3, 4), (4, 6), (0, 2), (8, 9), (0, 8), (2, 8), (6, 8), (4, 5), (5, 6), (4, 8), (0, 1), (2, 4), (1, 2), (0, 4), (6, 7), (0, 9), (0, 6), (2, 3), (2, 6), (7, 8)}\n"
          ]
        }
      ]
    },
    {
      "cell_type": "code",
      "source": [
        "import numpy as np\n",
        "\n",
        "# Given sorted array C corresponding to a bincount\n",
        "C = np.array([3, 2, 1, 4])\n",
        "\n",
        "# Initialize an empty list to hold the result\n",
        "A = []\n",
        "\n",
        "# Populate the result array\n",
        "for value, count in enumerate(C):\n",
        "    A.extend([value] * count)\n",
        "\n",
        "# Convert the result list to a NumPy array\n",
        "A = np.array(A)\n",
        "\n",
        "# Display the result\n",
        "print(\"Array A:\", A)\n",
        "print(\"np.bincount(A):\", np.bincount(A))\n",
        "print(\"C:\", C)\n"
      ],
      "metadata": {
        "colab": {
          "base_uri": "https://localhost:8080/"
        },
        "id": "5giksS9TT5Uy",
        "outputId": "66c63ed2-ecde-483a-e2a7-8ff6eb873f05"
      },
      "execution_count": 14,
      "outputs": [
        {
          "output_type": "stream",
          "name": "stdout",
          "text": [
            "Array A: [0 0 0 1 1 2 3 3 3 3]\n",
            "np.bincount(A): [3 2 1 4]\n",
            "C: [3 2 1 4]\n"
          ]
        }
      ]
    },
    {
      "cell_type": "code",
      "source": [
        "import numpy as np\n",
        "\n",
        "# Example array\n",
        "array = np.array([1, 2, 3, 4, 5, 6, 7, 8, 9, 10])\n",
        "\n",
        "# Define the window size\n",
        "window_size = 3\n",
        "\n",
        "# Compute the sliding window averages\n",
        "averages = np.convolve(array, np.ones(window_size)/window_size, mode='valid')\n",
        "\n",
        "# Display the result\n",
        "print(\"Array:\", array)\n",
        "print(\"Sliding Window Averages:\", averages)\n"
      ],
      "metadata": {
        "colab": {
          "base_uri": "https://localhost:8080/"
        },
        "id": "zFMTVtiJUEwk",
        "outputId": "9b9c8df9-3e03-47c7-b27b-72e94316437d"
      },
      "execution_count": 15,
      "outputs": [
        {
          "output_type": "stream",
          "name": "stdout",
          "text": [
            "Array: [ 1  2  3  4  5  6  7  8  9 10]\n",
            "Sliding Window Averages: [2. 3. 4. 5. 6. 7. 8. 9.]\n"
          ]
        }
      ]
    },
    {
      "cell_type": "code",
      "source": [
        "import numpy as np\n",
        "\n",
        "# Example array\n",
        "array = np.array([1, 2, 3, 4, 5, 6, 7, 8, 9, 10])\n",
        "\n",
        "# Define the window size\n",
        "window_size = 3\n",
        "\n",
        "# Compute the sliding window averages\n",
        "averages = np.convolve(array, np.ones(window_size)/window_size, mode='valid')\n",
        "\n",
        "# Display the result\n",
        "print(\"Array:\", array)\n",
        "print(\"Sliding Window Averages:\", averages)\n"
      ],
      "metadata": {
        "colab": {
          "base_uri": "https://localhost:8080/"
        },
        "id": "kkS0m6JTUO5-",
        "outputId": "96ca3968-e64b-4798-f4da-5d6d5bef118b"
      },
      "execution_count": 16,
      "outputs": [
        {
          "output_type": "stream",
          "name": "stdout",
          "text": [
            "Array: [ 1  2  3  4  5  6  7  8  9 10]\n",
            "Sliding Window Averages: [2. 3. 4. 5. 6. 7. 8. 9.]\n"
          ]
        }
      ]
    },
    {
      "cell_type": "code",
      "source": [
        "import numpy as np\n",
        "\n",
        "# Example one-dimensional array Z\n",
        "Z = np.array([0, 1, 2, 3, 4, 5, 6, 7, 8, 9])\n",
        "\n",
        "# Define the window size\n",
        "window_size = 3\n",
        "\n",
        "# Use a list comprehension to create the 2D array with shifted rows\n",
        "two_d_array = np.array([Z[i:i+window_size] for i in range(len(Z) - window_size + 1)])\n",
        "\n",
        "# Display the result\n",
        "print(\"Original Array Z:\", Z)\n",
        "print(\"Two-dimensional Array:\\n\", two_d_array)\n"
      ],
      "metadata": {
        "colab": {
          "base_uri": "https://localhost:8080/"
        },
        "id": "biNSP_2DUccf",
        "outputId": "f666a602-7226-4df8-e86f-901c0fc03ab7"
      },
      "execution_count": 17,
      "outputs": [
        {
          "output_type": "stream",
          "name": "stdout",
          "text": [
            "Original Array Z: [0 1 2 3 4 5 6 7 8 9]\n",
            "Two-dimensional Array:\n",
            " [[0 1 2]\n",
            " [1 2 3]\n",
            " [2 3 4]\n",
            " [3 4 5]\n",
            " [4 5 6]\n",
            " [5 6 7]\n",
            " [6 7 8]\n",
            " [7 8 9]]\n"
          ]
        }
      ]
    },
    {
      "cell_type": "code",
      "source": [
        "import numpy as np\n",
        "\n",
        "# Example boolean array\n",
        "bool_array = np.array([True, False, True, False])\n",
        "\n",
        "# Negate the boolean array in place\n",
        "bool_array = ~bool_array\n",
        "\n",
        "# Display the result\n",
        "print(\"Negated Boolean Array:\", bool_array)\n"
      ],
      "metadata": {
        "colab": {
          "base_uri": "https://localhost:8080/"
        },
        "id": "kh6Nl5sBUnPp",
        "outputId": "b7c38d2e-be83-4684-eb41-b5941a611088"
      },
      "execution_count": 18,
      "outputs": [
        {
          "output_type": "stream",
          "name": "stdout",
          "text": [
            "Negated Boolean Array: [False  True False  True]\n"
          ]
        }
      ]
    },
    {
      "cell_type": "code",
      "source": [
        "import numpy as np\n",
        "\n",
        "# Example 1D array X\n",
        "X = np.array([10, 20, 30, 40, 50])\n",
        "\n",
        "# Number of bootstrap samples\n",
        "N = 10000\n",
        "\n",
        "# Function to compute bootstrap samples\n",
        "def bootstrap_means(X, N):\n",
        "    boot_means = np.empty(N)\n",
        "    for i in range(N):\n",
        "        sample = np.random.choice(X, size=len(X), replace=True)\n",
        "        boot_means[i] = np.mean(sample)\n",
        "    return boot_means\n",
        "\n",
        "# Compute bootstrap means\n",
        "boot_means = bootstrap_means(X, N)\n",
        "\n",
        "# Compute the 95% confidence interval\n",
        "lower_bound = np.percentile(boot_means, 2.5)\n",
        "upper_bound = np.percentile(boot_means, 97.5)\n",
        "\n",
        "# Display the result\n",
        "print(\"Bootstrapped 95% Confidence Interval for the Mean:\", (lower_bound, upper_bound))\n"
      ],
      "metadata": {
        "colab": {
          "base_uri": "https://localhost:8080/"
        },
        "id": "clrS0QNnUzFy",
        "outputId": "c7acbb36-4354-4790-d4a6-e370565868e9"
      },
      "execution_count": 19,
      "outputs": [
        {
          "output_type": "stream",
          "name": "stdout",
          "text": [
            "Bootstrapped 95% Confidence Interval for the Mean: (18.0, 42.0)\n"
          ]
        }
      ]
    }
  ]
}